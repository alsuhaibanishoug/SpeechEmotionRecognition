{
 "cells": [
  {
   "cell_type": "code",
   "execution_count": 1,
   "id": "fc6d8531",
   "metadata": {},
   "outputs": [],
   "source": [
    "\n",
    "import os\n",
    "import moviepy.editor as mp\n",
    "#dir_list = os.listdir(ANAD)\n",
    "#dir_list.sort()\n",
    "\n",
    "#for audio_file in dir_list:\n",
    "    #clip = mp.VideoFileClip(audio_file)\n",
    "    #clip.audio.write_audiofile(audio_file.split('.')[0] + 'mp3')\n",
    "path = \"caller_Reciever_turns/\"\n",
    "dir_list = os.listdir(path)"
   ]
  },
  {
   "cell_type": "code",
   "execution_count": null,
   "id": "5ab9f153",
   "metadata": {},
   "outputs": [],
   "source": [
    "for audio_file in dir_list:\n",
    "    print(audio_file)"
   ]
  },
  {
   "cell_type": "code",
   "execution_count": null,
   "id": "907e2202",
   "metadata": {},
   "outputs": [],
   "source": []
  },
  {
   "cell_type": "code",
   "execution_count": null,
   "id": "a0c304c9",
   "metadata": {},
   "outputs": [],
   "source": [
    "clip = mp.VideoFileClip(audio_file)\n",
    "    clip.audio.write_audiofile(audio_file.split('.')[0] + 'mp3')"
   ]
  },
  {
   "cell_type": "code",
   "execution_count": null,
   "id": "15019090",
   "metadata": {},
   "outputs": [],
   "source": []
  },
  {
   "cell_type": "code",
   "execution_count": 2,
   "id": "d08fc006",
   "metadata": {},
   "outputs": [],
   "source": [
    "clip = mp.VideoFileClip(r\"V1_1.avi\")\n"
   ]
  },
  {
   "cell_type": "code",
   "execution_count": 3,
   "id": "f0d1124d",
   "metadata": {},
   "outputs": [
    {
     "name": "stderr",
     "output_type": "stream",
     "text": [
      "                                                                                                               "
     ]
    },
    {
     "name": "stdout",
     "output_type": "stream",
     "text": [
      "MoviePy - Writing audio in V1_1.mp3\n",
      "MoviePy - Done.\n"
     ]
    },
    {
     "name": "stderr",
     "output_type": "stream",
     "text": [
      "\r"
     ]
    }
   ],
   "source": [
    "clip.audio.write_audiofile(r\"V1_1.mp3\")"
   ]
  },
  {
   "cell_type": "code",
   "execution_count": null,
   "id": "36b84bb9",
   "metadata": {},
   "outputs": [],
   "source": []
  }
 ],
 "metadata": {
  "kernelspec": {
   "display_name": "Python 3 (ipykernel)",
   "language": "python",
   "name": "python3"
  },
  "language_info": {
   "codemirror_mode": {
    "name": "ipython",
    "version": 3
   },
   "file_extension": ".py",
   "mimetype": "text/x-python",
   "name": "python",
   "nbconvert_exporter": "python",
   "pygments_lexer": "ipython3",
   "version": "3.9.12"
  }
 },
 "nbformat": 4,
 "nbformat_minor": 5
}
