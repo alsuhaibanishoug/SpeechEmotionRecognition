{
  "cells": [
    {
      "cell_type": "code",
      "source": [
        "#pip install librosa"
      ],
      "outputs": [],
      "execution_count": 1,
      "metadata": {
        "jupyter": {
          "source_hidden": false,
          "outputs_hidden": false
        },
        "nteract": {
          "transient": {
            "deleting": false
          }
        },
        "gather": {
          "logged": 1672526317342
        }
      },
      "id": "efaf1cdb-4a22-4401-9107-929b6b99c5ac"
    },
    {
      "cell_type": "code",
      "source": [
        "#pip install seaborn"
      ],
      "outputs": [],
      "execution_count": 2,
      "metadata": {
        "jupyter": {
          "source_hidden": false,
          "outputs_hidden": false
        },
        "nteract": {
          "transient": {
            "deleting": false
          }
        },
        "gather": {
          "logged": 1672526317734
        }
      },
      "id": "63548453-2555-40fc-86ac-71587ede2f86"
    },
    {
      "cell_type": "code",
      "source": [
        "# Import libraries \n",
        "import librosa\n",
        "import tensorflow as tf\n",
        "import pandas as pd\n",
        "import numpy as np\n",
        "import matplotlib.pyplot as plt\n",
        "import seaborn as sns\n",
        "import os\n",
        "import sys\n",
        "import warnings\n",
        "\n",
        "from sklearn.preprocessing import StandardScaler, OneHotEncoder\n",
        "from sklearn.metrics import confusion_matrix, classification_report\n",
        "from sklearn.model_selection import train_test_split\n",
        "\n",
        "import keras\n",
        "from keras.callbacks import EarlyStopping, ReduceLROnPlateau\n",
        "from keras.models import Sequential\n",
        "from keras.layers import Dense, Conv1D, MaxPooling1D, Flatten, Dropout, BatchNormalization, MaxPool1D\n",
        "from keras.utils import np_utils\n",
        "from tensorflow.keras.utils import to_categorical\n",
        "from keras.callbacks import ModelCheckpoint\n",
        "from keras.callbacks import LearningRateScheduler\n",
        "\n",
        "# ignore warnings \n",
        "if not sys.warnoptions:\n",
        "    warnings.simplefilter(\"ignore\")\n",
        "warnings.filterwarnings(\"ignore\", category=DeprecationWarning) "
      ],
      "outputs": [
        {
          "output_type": "stream",
          "name": "stderr",
          "text": "2022-12-31 22:38:38.932380: I tensorflow/core/platform/cpu_feature_guard.cc:193] This TensorFlow binary is optimized with oneAPI Deep Neural Network Library (oneDNN) to use the following CPU instructions in performance-critical operations:  AVX2 FMA\nTo enable them in other operations, rebuild TensorFlow with the appropriate compiler flags.\n2022-12-31 22:38:39.121484: E tensorflow/stream_executor/cuda/cuda_blas.cc:2981] Unable to register cuBLAS factory: Attempting to register factory for plugin cuBLAS when one has already been registered\n2022-12-31 22:38:39.886151: W tensorflow/stream_executor/platform/default/dso_loader.cc:64] Could not load dynamic library 'libnvinfer.so.7'; dlerror: libnvinfer.so.7: cannot open shared object file: No such file or directory\n2022-12-31 22:38:39.886264: W tensorflow/stream_executor/platform/default/dso_loader.cc:64] Could not load dynamic library 'libnvinfer_plugin.so.7'; dlerror: libnvinfer_plugin.so.7: cannot open shared object file: No such file or directory\n2022-12-31 22:38:39.886279: W tensorflow/compiler/tf2tensorrt/utils/py_utils.cc:38] TF-TRT Warning: Cannot dlopen some TensorRT libraries. If you would like to use Nvidia GPU with TensorRT, please make sure the missing libraries mentioned above are installed properly.\n/anaconda/envs/azureml_py38_PT_TF/lib/python3.8/site-packages/tensorflow_io/python/ops/__init__.py:98: UserWarning: unable to load libtensorflow_io_plugins.so: unable to open file: libtensorflow_io_plugins.so, from paths: ['/anaconda/envs/azureml_py38_PT_TF/lib/python3.8/site-packages/tensorflow_io/python/ops/libtensorflow_io_plugins.so']\ncaused by: ['/anaconda/envs/azureml_py38_PT_TF/lib/python3.8/site-packages/tensorflow_io/python/ops/libtensorflow_io_plugins.so: undefined symbol: _ZN3tsl5mutexC1Ev']\n  warnings.warn(f\"unable to load libtensorflow_io_plugins.so: {e}\")\n/anaconda/envs/azureml_py38_PT_TF/lib/python3.8/site-packages/tensorflow_io/python/ops/__init__.py:104: UserWarning: file system plugins are not loaded: unable to open file: libtensorflow_io.so, from paths: ['/anaconda/envs/azureml_py38_PT_TF/lib/python3.8/site-packages/tensorflow_io/python/ops/libtensorflow_io.so']\ncaused by: ['/anaconda/envs/azureml_py38_PT_TF/lib/python3.8/site-packages/tensorflow_io/python/ops/libtensorflow_io.so: undefined symbol: _ZNK10tensorflow4data11DatasetBase8FinalizeEPNS_15OpKernelContextESt8functionIFN3tsl8StatusOrISt10unique_ptrIS1_NS5_4core15RefCountDeleterEEEEvEE']\n  warnings.warn(f\"file system plugins are not loaded: {e}\")\n"
        }
      ],
      "execution_count": 3,
      "metadata": {
        "gather": {
          "logged": 1672526321363
        }
      },
      "id": "aca19694"
    },
    {
      "cell_type": "code",
      "source": [
        "Features = pd.read_csv('features.csv')\n",
        "print(Features.shape)"
      ],
      "outputs": [
        {
          "output_type": "stream",
          "name": "stdout",
          "text": "(53352, 163)\n"
        }
      ],
      "execution_count": 4,
      "metadata": {
        "gather": {
          "logged": 1672526325815
        }
      },
      "id": "0b69748d"
    },
    {
      "cell_type": "code",
      "source": [
        "# Fill NaN with 0\n",
        "Features = Features.fillna(0)\n",
        "print(Features.isna().any())\n"
      ],
      "outputs": [
        {
          "output_type": "stream",
          "name": "stdout",
          "text": "0         False\n1         False\n2         False\n3         False\n4         False\n          ...  \n158       False\n159       False\n160       False\n161       False\nlabels    False\nLength: 163, dtype: bool\n"
        }
      ],
      "execution_count": 5,
      "metadata": {
        "gather": {
          "logged": 1672526326208
        }
      },
      "id": "106a9ff0"
    },
    {
      "cell_type": "code",
      "source": [
        "X = Features.iloc[: ,:-1].values\n",
        "Y = Features['labels'].values"
      ],
      "outputs": [],
      "execution_count": 6,
      "metadata": {
        "gather": {
          "logged": 1672526326491
        }
      },
      "id": "5e83040f"
    },
    {
      "cell_type": "code",
      "source": [
        "# As this is a multiclass classification problem onehotencoding our Y.\n",
        "encoder = OneHotEncoder()\n",
        "np.array(Y).reshape(-1,1)\n",
        "Y = encoder.fit_transform(np.array(Y).reshape(-1,1)).toarray()\n",
        "encoder.categories_"
      ],
      "outputs": [
        {
          "output_type": "execute_result",
          "execution_count": 7,
          "data": {
            "text/plain": "[array(['angry', 'fear', 'happy', 'neutral', 'sad', 'surprise'],\n       dtype=object)]"
          },
          "metadata": {}
        }
      ],
      "execution_count": 7,
      "metadata": {
        "gather": {
          "logged": 1672526326837
        }
      },
      "id": "88b376db"
    },
    {
      "cell_type": "code",
      "source": [
        "# splitting data\n",
        "x_train, x_test, y_train, y_test = train_test_split(X, Y,test_size=0.2, random_state=42, shuffle=True)\n",
        "x_train.shape, y_train.shape, x_test.shape, y_test.shape"
      ],
      "outputs": [
        {
          "output_type": "execute_result",
          "execution_count": 8,
          "data": {
            "text/plain": "((42681, 162), (42681, 6), (10671, 162), (10671, 6))"
          },
          "metadata": {}
        }
      ],
      "execution_count": 8,
      "metadata": {
        "gather": {
          "logged": 1672526327145
        }
      },
      "id": "b4924646"
    },
    {
      "cell_type": "code",
      "source": [
        "x_train, x_val, y_train, y_val = train_test_split(x_train, y_train, random_state=42, test_size=0.1, shuffle=True)\n",
        "x_train.shape, x_test.shape, x_val.shape, x_train.shape, x_test.shape, x_val.shape"
      ],
      "outputs": [
        {
          "output_type": "execute_result",
          "execution_count": 9,
          "data": {
            "text/plain": "((38412, 162),\n (10671, 162),\n (4269, 162),\n (38412, 162),\n (10671, 162),\n (4269, 162))"
          },
          "metadata": {}
        }
      ],
      "execution_count": 9,
      "metadata": {
        "gather": {
          "logged": 1672526327476
        }
      },
      "id": "94467f43"
    },
    {
      "cell_type": "code",
      "source": [
        "# scaling our data with sklearn's Standard scaler\n",
        "scaler = StandardScaler()\n",
        "\n",
        "x_train = scaler.fit_transform(x_train)\n",
        "x_val=scaler.transform(x_val)\n",
        "x_test = scaler.transform(x_test)\n",
        "\n",
        "x_train.shape, y_train.shape, x_test.shape, y_test.shape"
      ],
      "outputs": [
        {
          "output_type": "execute_result",
          "execution_count": 10,
          "data": {
            "text/plain": "((38412, 162), (38412, 6), (10671, 162), (10671, 6))"
          },
          "metadata": {}
        }
      ],
      "execution_count": 10,
      "metadata": {
        "gather": {
          "logged": 1672526327966
        }
      },
      "id": "15dbf893"
    },
    {
      "cell_type": "code",
      "source": [
        "# making our data compatible to model.\n",
        "x_train = np.expand_dims(x_train, axis=2)\n",
        "x_test = np.expand_dims(x_test, axis=2)\n",
        "x_val = np.expand_dims(x_val, axis=2)\n",
        "x_train.shape, y_train.shape, x_test.shape, y_test.shape, x_val.shape, y_val.shape"
      ],
      "outputs": [
        {
          "output_type": "execute_result",
          "execution_count": 11,
          "data": {
            "text/plain": "((38412, 162, 1),\n (38412, 6),\n (10671, 162, 1),\n (10671, 6),\n (4269, 162, 1),\n (4269, 6))"
          },
          "metadata": {}
        }
      ],
      "execution_count": 11,
      "metadata": {
        "gather": {
          "logged": 1672526328291
        }
      },
      "id": "2d934704"
    },
    {
      "cell_type": "code",
      "source": [
        "x_train = np.squeeze(x_train, axis=2)\n",
        "x_test = np.squeeze(x_test, axis=2)\n",
        "x_val = np.squeeze(x_val, axis=2)\n",
        "x_train.shape, y_train.shape, x_test.shape, y_test.shape, x_val.shape, y_val.shape"
      ],
      "outputs": [
        {
          "output_type": "execute_result",
          "execution_count": 12,
          "data": {
            "text/plain": "((38412, 162), (38412, 6), (10671, 162), (10671, 6), (4269, 162), (4269, 6))"
          },
          "metadata": {}
        }
      ],
      "execution_count": 12,
      "metadata": {
        "jupyter": {
          "source_hidden": false,
          "outputs_hidden": false
        },
        "nteract": {
          "transient": {
            "deleting": false
          }
        },
        "gather": {
          "logged": 1672526328582
        }
      },
      "id": "31b345fb-a7a1-4f4e-aa6b-b845de356fce"
    },
    {
      "cell_type": "code",
      "source": [
        "'''model=Sequential()\n",
        "model.add(Conv1D(512, kernel_size=5, strides=1,padding=\"same\", activation=\"relu\",\n",
        "                        input_shape=(x_train.shape[1], 1)))\n",
        "model.add(BatchNormalization())\n",
        "model.add(MaxPooling1D(pool_size=5, strides=2, padding=\"same\"))\n",
        "\n",
        "model.add(Conv1D(512, kernel_size=5, strides=1,padding=\"same\", activation=\"relu\"))\n",
        "model.add(BatchNormalization())\n",
        "model.add(MaxPooling1D(pool_size=5, strides=2, padding=\"same\"))\n",
        "\n",
        "model.add(Conv1D(256, kernel_size=5, strides=1, padding=\"same\", activation=\"relu\"))\n",
        "model.add(BatchNormalization())\n",
        "model.add(MaxPooling1D(pool_size=5, strides=2, padding=\"same\"))\n",
        "\n",
        "model.add(Conv1D(256, kernel_size=5, strides=1, padding='same', activation='relu'))\n",
        "model.add(BatchNormalization())\n",
        "model.add(MaxPooling1D(pool_size=5, strides = 2, padding = 'same'))\n",
        "\n",
        "model.add(Conv1D(128, kernel_size=5, strides=1, padding='same', activation='relu'))\n",
        "model.add(BatchNormalization())\n",
        "model.add(MaxPooling1D(pool_size=5, strides = 2, padding = 'same'))\n",
        "\n",
        "model.add(Conv1D(128, kernel_size=5, strides=1, padding='same', activation='relu'))\n",
        "model.add(BatchNormalization())\n",
        "model.add(MaxPooling1D(pool_size=5, strides = 2, padding = 'same'))\n",
        "\n",
        "#just add new layers\n",
        "model.add(Conv1D(64, kernel_size=5, strides=1, padding='same', activation='relu'))\n",
        "model.add(BatchNormalization())\n",
        "model.add(MaxPooling1D(pool_size=5, strides = 2, padding = 'same'))\n",
        "\n",
        "\n",
        "model.add(Flatten())\n",
        "model.add(Dense(32, activation='relu'))\n",
        "model.add(BatchNormalization())\n",
        "model.add(Dropout(0.25))\n",
        "model.add(Dense(6, activation=\"softmax\"))\n",
        "model.compile(optimizer = 'adam' , loss = 'categorical_crossentropy' , metrics = ['accuracy'])\n",
        "\n",
        "model.summary()\n",
        "'''"
      ],
      "outputs": [
        {
          "output_type": "execute_result",
          "execution_count": 13,
          "data": {
            "text/plain": "'model=Sequential()\\nmodel.add(Conv1D(512, kernel_size=5, strides=1,padding=\"same\", activation=\"relu\",\\n                        input_shape=(x_train.shape[1], 1)))\\nmodel.add(BatchNormalization())\\nmodel.add(MaxPooling1D(pool_size=5, strides=2, padding=\"same\"))\\n\\nmodel.add(Conv1D(512, kernel_size=5, strides=1,padding=\"same\", activation=\"relu\"))\\nmodel.add(BatchNormalization())\\nmodel.add(MaxPooling1D(pool_size=5, strides=2, padding=\"same\"))\\n\\nmodel.add(Conv1D(256, kernel_size=5, strides=1, padding=\"same\", activation=\"relu\"))\\nmodel.add(BatchNormalization())\\nmodel.add(MaxPooling1D(pool_size=5, strides=2, padding=\"same\"))\\n\\nmodel.add(Conv1D(256, kernel_size=5, strides=1, padding=\\'same\\', activation=\\'relu\\'))\\nmodel.add(BatchNormalization())\\nmodel.add(MaxPooling1D(pool_size=5, strides = 2, padding = \\'same\\'))\\n\\nmodel.add(Conv1D(128, kernel_size=5, strides=1, padding=\\'same\\', activation=\\'relu\\'))\\nmodel.add(BatchNormalization())\\nmodel.add(MaxPooling1D(pool_size=5, strides = 2, padding = \\'same\\'))\\n\\nmodel.add(Conv1D(128, kernel_size=5, strides=1, padding=\\'same\\', activation=\\'relu\\'))\\nmodel.add(BatchNormalization())\\nmodel.add(MaxPooling1D(pool_size=5, strides = 2, padding = \\'same\\'))\\n\\n#just add new layers\\nmodel.add(Conv1D(64, kernel_size=5, strides=1, padding=\\'same\\', activation=\\'relu\\'))\\nmodel.add(BatchNormalization())\\nmodel.add(MaxPooling1D(pool_size=5, strides = 2, padding = \\'same\\'))\\n\\n\\nmodel.add(Flatten())\\nmodel.add(Dense(32, activation=\\'relu\\'))\\nmodel.add(BatchNormalization())\\nmodel.add(Dropout(0.25))\\nmodel.add(Dense(6, activation=\"softmax\"))\\nmodel.compile(optimizer = \\'adam\\' , loss = \\'categorical_crossentropy\\' , metrics = [\\'accuracy\\'])\\n\\nmodel.summary()\\n'"
          },
          "metadata": {}
        }
      ],
      "execution_count": 13,
      "metadata": {
        "gather": {
          "logged": 1672526328871
        }
      },
      "id": "68d9d52f"
    },
    {
      "cell_type": "code",
      "source": [
        "model = Sequential()\n",
        "model.add(Conv1D(512, kernel_size=5, strides=1,\n",
        "                        padding=\"same\", activation=\"relu\",\n",
        "                        input_shape=(x_train.shape[1], 1)))\n",
        "model.add(BatchNormalization())\n",
        "model.add(MaxPool1D(pool_size=5, strides=2, padding=\"same\"))\n",
        "\n",
        "model.add(Conv1D(256, kernel_size=5, strides=1,padding=\"same\", activation=\"relu\"))\n",
        "model.add(BatchNormalization())\n",
        "model.add(MaxPool1D(pool_size=5, strides=2, padding=\"same\"))\n",
        "\n",
        "model.add(Conv1D(256, kernel_size=5, strides=1,padding=\"same\", activation=\"relu\"))\n",
        "model.add(BatchNormalization())\n",
        "model.add(MaxPool1D(pool_size=5, strides=2, padding=\"same\"))\n",
        "model.add(Dropout(0.25))\n",
        "\n",
        "\n",
        "model.add(Conv1D(256, kernel_size=5, strides=1, padding='same', activation='relu'))\n",
        "model.add(BatchNormalization())\n",
        "model.add(MaxPooling1D(pool_size=3, strides = 2, padding = 'same'))\n",
        "\n",
        "model.add(Conv1D(128, kernel_size=3, strides=1, padding='same', activation='relu'))\n",
        "model.add(BatchNormalization())\n",
        "model.add(MaxPooling1D(pool_size=3, strides = 2, padding = 'same'))\n",
        "\n",
        "\n",
        "model.add(Flatten())\n",
        "model.add(Dense(512, activation='relu'))\n",
        "model.add(Dropout(0.25))\n",
        "model.add(Dense(6, activation=\"softmax\"))\n",
        "\n",
        "model.compile(optimizer=\"adam\", loss=\"categorical_crossentropy\", metrics=['accuracy'])\n",
        "model.summary()\n"
      ],
      "outputs": [
        {
          "output_type": "stream",
          "name": "stderr",
          "text": "2022-12-31 22:38:48.797989: I tensorflow/core/platform/cpu_feature_guard.cc:193] This TensorFlow binary is optimized with oneAPI Deep Neural Network Library (oneDNN) to use the following CPU instructions in performance-critical operations:  AVX2 FMA\nTo enable them in other operations, rebuild TensorFlow with the appropriate compiler flags.\n2022-12-31 22:39:05.614544: I tensorflow/core/common_runtime/gpu/gpu_device.cc:1616] Created device /job:localhost/replica:0/task:0/device:GPU:0 with 7425 MB memory:  -> device: 0, name: Tesla M60, pci bus id: 0001:00:00.0, compute capability: 5.2\n"
        },
        {
          "output_type": "stream",
          "name": "stdout",
          "text": "Model: \"sequential\"\n_________________________________________________________________\n Layer (type)                Output Shape              Param #   \n=================================================================\n conv1d (Conv1D)             (None, 162, 512)          3072      \n                                                                 \n batch_normalization (BatchN  (None, 162, 512)         2048      \n ormalization)                                                   \n                                                                 \n max_pooling1d (MaxPooling1D  (None, 81, 512)          0         \n )                                                               \n                                                                 \n conv1d_1 (Conv1D)           (None, 81, 256)           655616    \n                                                                 \n batch_normalization_1 (Batc  (None, 81, 256)          1024      \n hNormalization)                                                 \n                                                                 \n max_pooling1d_1 (MaxPooling  (None, 41, 256)          0         \n 1D)                                                             \n                                                                 \n conv1d_2 (Conv1D)           (None, 41, 256)           327936    \n                                                                 \n batch_normalization_2 (Batc  (None, 41, 256)          1024      \n hNormalization)                                                 \n                                                                 \n max_pooling1d_2 (MaxPooling  (None, 21, 256)          0         \n 1D)                                                             \n                                                                 \n dropout (Dropout)           (None, 21, 256)           0         \n                                                                 \n conv1d_3 (Conv1D)           (None, 21, 256)           327936    \n                                                                 \n batch_normalization_3 (Batc  (None, 21, 256)          1024      \n hNormalization)                                                 \n                                                                 \n max_pooling1d_3 (MaxPooling  (None, 11, 256)          0         \n 1D)                                                             \n                                                                 \n conv1d_4 (Conv1D)           (None, 11, 128)           98432     \n                                                                 \n batch_normalization_4 (Batc  (None, 11, 128)          512       \n hNormalization)                                                 \n                                                                 \n max_pooling1d_4 (MaxPooling  (None, 6, 128)           0         \n 1D)                                                             \n                                                                 \n flatten (Flatten)           (None, 768)               0         \n                                                                 \n dense (Dense)               (None, 512)               393728    \n                                                                 \n dropout_1 (Dropout)         (None, 512)               0         \n                                                                 \n dense_1 (Dense)             (None, 6)                 3078      \n                                                                 \n=================================================================\nTotal params: 1,815,430\nTrainable params: 1,812,614\nNon-trainable params: 2,816\n_________________________________________________________________\n"
        }
      ],
      "execution_count": 14,
      "metadata": {
        "jupyter": {
          "source_hidden": false,
          "outputs_hidden": false
        },
        "nteract": {
          "transient": {
            "deleting": false
          }
        },
        "gather": {
          "logged": 1672526347584
        }
      },
      "id": "b6432c6c-0103-4975-9b2e-76dc70e3318f"
    },
    {
      "cell_type": "code",
      "source": [
        "early_stopping = EarlyStopping(\n",
        "    monitor='val_loss',\n",
        "    mode='min',\n",
        "    min_delta=0.05,\n",
        "    patience=20,\n",
        "    verbose=1,\n",
        "    restore_best_weights=True\n",
        ")"
      ],
      "outputs": [],
      "execution_count": 15,
      "metadata": {
        "gather": {
          "logged": 1672526347880
        }
      },
      "id": "a353ac9d"
    },
    {
      "cell_type": "code",
      "source": [
        "rlrp = ReduceLROnPlateau(monitor='loss', factor=0.4, verbose=0, patience=2, min_lr=0.0000001)\n",
        "callbacks = [early_stopping,rlrp]"
      ],
      "outputs": [],
      "execution_count": 16,
      "metadata": {
        "gather": {
          "logged": 1672526348151
        }
      },
      "id": "7aefba19"
    },
    {
      "cell_type": "code",
      "source": [
        "earlystopping2 = EarlyStopping(monitor =\"val_accuracy\",min_delta=0.05,\n",
        "                              mode = 'auto', patience = 5,\n",
        "                              restore_best_weights = True)\n",
        "learning_rate_reduction = ReduceLROnPlateau(monitor='val_accuracy',\n",
        "                                            patience=3,\n",
        "                                            verbose=1,\n",
        "                                            factor=0.5,\n",
        "                                            min_lr=0.00001)\n",
        "callbacks2 = [learning_rate_reduction]"
      ],
      "outputs": [],
      "execution_count": 17,
      "metadata": {
        "gather": {
          "logged": 1672526348422
        }
      },
      "id": "c0575a0a"
    },
    {
      "cell_type": "code",
      "source": [
        "history=model.fit(x_train, y_train, batch_size=100, epochs=50, validation_data=(x_val, y_val),callbacks=callbacks2 )"
      ],
      "outputs": [
        {
          "output_type": "stream",
          "name": "stdout",
          "text": "Epoch 1/50\n385/385 [==============================] - 77s 48ms/step - loss: 1.3156 - accuracy: 0.4756 - val_loss: 2.1071 - val_accuracy: 0.2870 - lr: 0.0010\b\b\b\b\b\b\b\b\b\b\b\b\b\b\b\b\b\b\b\b\b\b\b\b\b\b\b\b\b\b\b\b\b\nEpoch 2/50\n385/385 [==============================] - 17s 45ms/step - loss: 1.0858 - accuracy: 0.5550 - val_loss: 1.2754 - val_accuracy: 0.4849 - lr: 0.0010\b\b\b\b\b\b\b\b\b\b\b\b\b\b\b\b\b\b\b\b\b\b\b\b\b\nEpoch 3/50\n385/385 [==============================] - 18s 45ms/step - loss: 1.0124 - accuracy: 0.5817 - val_loss: 1.6364 - val_accuracy: 0.4570 - lr: 0.0010\b\b\b\b\b\b\b\b\b\b\b\b\b\b\b\b\b\b\b\b\b\b\b\b\b\nEpoch 4/50\n385/385 [==============================] - 17s 45ms/step - loss: 0.9492 - accuracy: 0.6123 - val_loss: 1.1745 - val_accuracy: 0.5376 - lr: 0.0010\b\b\b\b\b\b\b\b\b\b\b\b\b\b\b\b\b\b\b\b\b\b\b\b\b\nEpoch 5/50\n385/385 [==============================] - 17s 45ms/step - loss: 0.9052 - accuracy: 0.6289 - val_loss: 1.1693 - val_accuracy: 0.5362 - lr: 0.0010\b\b\b\b\b\b\b\b\b\b\b\b\b\b\b\b\b\b\b\b\b\b\b\b\b\nEpoch 6/50\n385/385 [==============================] - 17s 45ms/step - loss: 0.8695 - accuracy: 0.6474 - val_loss: 1.0718 - val_accuracy: 0.5666 - lr: 0.0010\b\b\b\b\b\b\b\b\b\b\b\b\b\b\b\b\b\b\b\b\b\b\b\b\b\nEpoch 7/50\n385/385 [==============================] - 17s 45ms/step - loss: 0.8307 - accuracy: 0.6612 - val_loss: 1.2067 - val_accuracy: 0.5753 - lr: 0.0010\b\b\b\b\b\b\b\b\b\b\b\b\b\b\b\b\b\b\b\b\b\b\b\b\b\nEpoch 8/50\n385/385 [==============================] - 17s 45ms/step - loss: 0.7993 - accuracy: 0.6760 - val_loss: 0.9508 - val_accuracy: 0.5987 - lr: 0.0010\b\b\b\b\b\b\b\b\b\b\b\b\b\b\b\b\b\b\b\b\b\b\b\b\b\nEpoch 9/50\n385/385 [==============================] - 17s 45ms/step - loss: 0.7718 - accuracy: 0.6861 - val_loss: 1.0621 - val_accuracy: 0.6137 - lr: 0.0010\b\b\b\b\b\b\b\b\b\b\b\b\b\b\b\b\b\b\b\b\b\b\b\b\b\nEpoch 10/50\n385/385 [==============================] - 17s 45ms/step - loss: 0.7380 - accuracy: 0.7014 - val_loss: 0.9571 - val_accuracy: 0.6332 - lr: 0.0010\b\b\b\b\b\b\b\b\b\b\b\b\b\b\b\b\b\b\b\b\b\b\b\b\b\nEpoch 11/50\n385/385 [==============================] - 18s 46ms/step - loss: 0.7042 - accuracy: 0.7148 - val_loss: 0.9381 - val_accuracy: 0.6285 - lr: 0.0010\b\b\b\b\b\b\b\b\b\b\b\b\b\b\b\b\b\b\b\b\b\b\b\b\b\nEpoch 12/50\n385/385 [==============================] - 17s 45ms/step - loss: 0.6648 - accuracy: 0.7323 - val_loss: 1.2577 - val_accuracy: 0.5706 - lr: 0.0010\b\b\b\b\b\b\b\b\b\b\b\b\b\b\b\b\b\b\b\b\b\b\b\b\b\nEpoch 13/50\n385/385 [==============================] - ETA: 0s - loss: 0.6490 - accuracy: 0.7404\b\b\b\b\b\b\b\b\b\b\b\b\b\b\b\b\b\b\b\b\b\b\b\b\b\b\b\b\b\b\b\b\b\b\b\b\b\b\b\b\b\b\b\b\b\b\b\b\b\b\b\b\b\b\b\b\b\b\b\b\b\b\b\b\b\b\b\b\b\b\b\b\b\b\b\b\b\b\b\b\b\b\b\b\b\b\nEpoch 13: ReduceLROnPlateau reducing learning rate to 0.0005000000237487257.\n385/385 [==============================] - 17s 45ms/step - loss: 0.6490 - accuracy: 0.7404 - val_loss: 1.0444 - val_accuracy: 0.6006 - lr: 0.0010\nEpoch 14/50\n385/385 [==============================] - 17s 45ms/step - loss: 0.5438 - accuracy: 0.7820 - val_loss: 0.6624 - val_accuracy: 0.7316 - lr: 5.0000e-04\b\b\b\b\b\b\b\b\b\b\b\b\b\b\b\b\b\b\b\b\b\nEpoch 15/50\n385/385 [==============================] - 17s 45ms/step - loss: 0.4923 - accuracy: 0.8032 - val_loss: 0.6679 - val_accuracy: 0.7341 - lr: 5.0000e-04\b\b\b\b\b\b\b\b\b\b\b\b\b\b\b\b\b\b\b\b\b\nEpoch 16/50\n385/385 [==============================] - 18s 45ms/step - loss: 0.4686 - accuracy: 0.8134 - val_loss: 0.8294 - val_accuracy: 0.6899 - lr: 5.0000e-04\b\b\b\b\b\b\b\b\b\b\b\b\b\b\b\b\b\b\b\b\b\nEpoch 17/50\n385/385 [==============================] - 18s 46ms/step - loss: 0.4509 - accuracy: 0.8219 - val_loss: 0.7407 - val_accuracy: 0.7215 - lr: 5.0000e-04\b\b\b\b\b\b\b\b\b\b\b\b\b\b\b\b\b\b\b\b\b\nEpoch 18/50\n385/385 [==============================] - ETA: 0s - loss: 0.4305 - accuracy: 0.8283\b\b\b\b\b\b\b\b\b\b\b\b\b\b\b\b\b\b\b\b\b\b\b\b\b\b\b\b\b\b\b\b\b\b\b\b\b\b\b\b\b\b\b\b\b\b\b\b\b\b\b\b\b\b\b\b\b\b\b\b\b\b\b\b\b\b\b\b\b\b\b\b\b\b\b\b\b\b\b\b\b\b\b\b\b\b\nEpoch 18: ReduceLROnPlateau reducing learning rate to 0.0002500000118743628.\n385/385 [==============================] - 17s 45ms/step - loss: 0.4305 - accuracy: 0.8283 - val_loss: 0.9591 - val_accuracy: 0.6627 - lr: 5.0000e-04\nEpoch 19/50\n385/385 [==============================] - 18s 45ms/step - loss: 0.3579 - accuracy: 0.8591 - val_loss: 0.6381 - val_accuracy: 0.7697 - lr: 2.5000e-04\b\b\b\b\b\b\b\b\b\b\b\b\b\b\b\b\b\b\b\b\b\nEpoch 20/50\n385/385 [==============================] - 17s 45ms/step - loss: 0.3329 - accuracy: 0.8674 - val_loss: 0.6369 - val_accuracy: 0.7669 - lr: 2.5000e-04\b\b\b\b\b\b\b\b\b\b\b\b\b\b\b\b\b\b\b\b\b\nEpoch 21/50\n385/385 [==============================] - 17s 45ms/step - loss: 0.3142 - accuracy: 0.8751 - val_loss: 0.7354 - val_accuracy: 0.7430 - lr: 2.5000e-04\b\b\b\b\b\b\b\b\b\b\b\b\b\b\b\b\b\b\b\b\b\nEpoch 22/50\n385/385 [==============================] - 17s 45ms/step - loss: 0.2971 - accuracy: 0.8830 - val_loss: 0.6074 - val_accuracy: 0.7882 - lr: 2.5000e-04\b\b\b\b\b\b\b\b\b\b\b\b\b\b\b\b\b\b\b\b\b\nEpoch 23/50\n385/385 [==============================] - 18s 45ms/step - loss: 0.2819 - accuracy: 0.8883 - val_loss: 0.6646 - val_accuracy: 0.7793 - lr: 2.5000e-04\b\b\b\b\b\b\b\b\b\b\b\b\b\b\b\b\b\b\b\b\b\nEpoch 24/50\n385/385 [==============================] - 17s 45ms/step - loss: 0.2750 - accuracy: 0.8909 - val_loss: 0.8193 - val_accuracy: 0.7255 - lr: 2.5000e-04\b\b\b\b\b\b\b\b\b\b\b\b\b\b\b\b\b\b\b\b\b\nEpoch 25/50\n385/385 [==============================] - 17s 45ms/step - loss: 0.2580 - accuracy: 0.8996 - val_loss: 0.6013 - val_accuracy: 0.7932 - lr: 2.5000e-04\b\b\b\b\b\b\b\b\b\b\b\b\b\b\b\b\b\b\b\b\b\nEpoch 26/50\n385/385 [==============================] - 17s 45ms/step - loss: 0.2475 - accuracy: 0.9027 - val_loss: 0.8162 - val_accuracy: 0.7332 - lr: 2.5000e-04\b\b\b\b\b\b\b\b\b\b\b\b\b\b\b\b\b\b\b\b\b\nEpoch 27/50\n385/385 [==============================] - 17s 45ms/step - loss: 0.2399 - accuracy: 0.9064 - val_loss: 0.6135 - val_accuracy: 0.7990 - lr: 2.5000e-04\b\b\b\b\b\b\b\b\b\b\b\b\b\b\b\b\b\b\b\b\b\nEpoch 28/50\n385/385 [==============================] - 17s 45ms/step - loss: 0.2261 - accuracy: 0.9113 - val_loss: 0.7439 - val_accuracy: 0.7559 - lr: 2.5000e-04\b\b\b\b\b\b\b\b\b\b\b\b\b\b\b\b\b\b\b\b\b\nEpoch 29/50\n385/385 [==============================] - 18s 45ms/step - loss: 0.2149 - accuracy: 0.9181 - val_loss: 0.6884 - val_accuracy: 0.7819 - lr: 2.5000e-04\b\b\b\b\b\b\b\b\b\b\b\b\b\b\b\b\b\b\b\b\b\nEpoch 30/50\n385/385 [==============================] - ETA: 0s - loss: 0.2150 - accuracy: 0.9155\b\b\b\b\b\b\b\b\b\b\b\b\b\b\b\b\b\b\b\b\b\b\b\b\b\b\b\b\b\b\b\b\b\b\b\b\b\b\b\b\b\b\b\b\b\b\b\b\b\b\b\b\b\b\b\b\b\b\b\b\b\b\b\b\b\b\b\b\b\b\b\b\b\b\b\b\b\b\b\b\b\b\b\b\b\b\nEpoch 30: ReduceLROnPlateau reducing learning rate to 0.0001250000059371814.\n385/385 [==============================] - 17s 45ms/step - loss: 0.2150 - accuracy: 0.9155 - val_loss: 0.8248 - val_accuracy: 0.7508 - lr: 2.5000e-04\nEpoch 31/50\n385/385 [==============================] - 17s 45ms/step - loss: 0.1775 - accuracy: 0.9294 - val_loss: 0.5929 - val_accuracy: 0.8142 - lr: 1.2500e-04\b\b\b\b\b\b\b\b\b\b\b\b\b\b\b\b\b\b\b\b\b\nEpoch 32/50\n385/385 [==============================] - 17s 45ms/step - loss: 0.1646 - accuracy: 0.9354 - val_loss: 0.6138 - val_accuracy: 0.8014 - lr: 1.2500e-04\b\b\b\b\b\b\b\b\b\b\b\b\b\b\b\b\b\b\b\b\b\nEpoch 33/50\n385/385 [==============================] - 17s 45ms/step - loss: 0.1578 - accuracy: 0.9399 - val_loss: 0.6172 - val_accuracy: 0.8138 - lr: 1.2500e-04\b\b\b\b\b\b\b\b\b\b\b\b\b\b\b\b\b\b\b\b\b\nEpoch 34/50\n385/385 [==============================] - 17s 45ms/step - loss: 0.1544 - accuracy: 0.9399 - val_loss: 0.6199 - val_accuracy: 0.8199 - lr: 1.2500e-04\b\b\b\b\b\b\b\b\b\b\b\b\b\b\b\b\b\b\b\b\b\nEpoch 35/50\n385/385 [==============================] - 17s 45ms/step - loss: 0.1465 - accuracy: 0.9430 - val_loss: 0.6389 - val_accuracy: 0.8175 - lr: 1.2500e-04\b\b\b\b\b\b\b\b\b\b\b\b\b\b\b\b\b\b\b\b\b\nEpoch 36/50\n385/385 [==============================] - 17s 45ms/step - loss: 0.1429 - accuracy: 0.9451 - val_loss: 0.6592 - val_accuracy: 0.8126 - lr: 1.2500e-04\b\b\b\b\b\b\b\b\b\b\b\b\b\b\b\b\b\b\b\b\b\nEpoch 37/50\n385/385 [==============================] - ETA: 0s - loss: 0.1357 - accuracy: 0.9474\b\b\b\b\b\b\b\b\b\b\b\b\b\b\b\b\b\b\b\b\b\b\b\b\b\b\b\b\b\b\b\b\b\b\b\b\b\b\b\b\b\b\b\b\b\b\b\b\b\b\b\b\b\b\b\b\b\b\b\b\b\b\b\b\b\b\b\b\b\b\b\b\b\b\b\b\b\b\b\b\b\b\b\b\b\b\nEpoch 37: ReduceLROnPlateau reducing learning rate to 6.25000029685907e-05.\n385/385 [==============================] - 17s 45ms/step - loss: 0.1357 - accuracy: 0.9474 - val_loss: 0.8399 - val_accuracy: 0.7894 - lr: 1.2500e-04\nEpoch 38/50\n385/385 [==============================] - 17s 45ms/step - loss: 0.1251 - accuracy: 0.9522 - val_loss: 0.6466 - val_accuracy: 0.8224 - lr: 6.2500e-05\b\b\b\b\b\b\b\b\b\b\b\b\b\b\b\b\b\b\b\b\b\nEpoch 39/50\n385/385 [==============================] - 17s 45ms/step - loss: 0.1181 - accuracy: 0.9550 - val_loss: 0.6448 - val_accuracy: 0.8243 - lr: 6.2500e-05\b\b\b\b\b\b\b\b\b\b\b\b\b\b\b\b\b\b\b\b\b\nEpoch 40/50\n385/385 [==============================] - 17s 45ms/step - loss: 0.1162 - accuracy: 0.9554 - val_loss: 0.6722 - val_accuracy: 0.8187 - lr: 6.2500e-05\b\b\b\b\b\b\b\b\b\b\b\b\b\b\b\b\b\b\b\b\b\nEpoch 41/50\n385/385 [==============================] - 17s 45ms/step - loss: 0.1135 - accuracy: 0.9576 - val_loss: 0.6251 - val_accuracy: 0.8288 - lr: 6.2500e-05\b\b\b\b\b\b\b\b\b\b\b\b\b\b\b\b\b\b\b\b\b\nEpoch 42/50\n385/385 [==============================] - 17s 45ms/step - loss: 0.1087 - accuracy: 0.9589 - val_loss: 0.6426 - val_accuracy: 0.8302 - lr: 6.2500e-05\b\b\b\b\b\b\b\b\b\b\b\b\b\b\b\b\b\b\b\b\b\nEpoch 43/50\n385/385 [==============================] - 17s 45ms/step - loss: 0.1089 - accuracy: 0.9582 - val_loss: 0.6285 - val_accuracy: 0.8271 - lr: 6.2500e-05\b\b\b\b\b\b\b\b\b\b\b\b\b\b\b\b\b\b\b\b\b\nEpoch 44/50\n385/385 [==============================] - 17s 45ms/step - loss: 0.1036 - accuracy: 0.9607 - val_loss: 0.6809 - val_accuracy: 0.8133 - lr: 6.2500e-05\b\b\b\b\b\b\b\b\b\b\b\b\b\b\b\b\b\b\b\b\b\nEpoch 45/50\n385/385 [==============================] - ETA: 0s - loss: 0.1015 - accuracy: 0.9614\b\b\b\b\b\b\b\b\b\b\b\b\b\b\b\b\b\b\b\b\b\b\b\b\b\b\b\b\b\b\b\b\b\b\b\b\b\b\b\b\b\b\b\b\b\b\b\b\b\b\b\b\b\b\b\b\b\b\b\b\b\b\b\b\b\b\b\b\b\b\b\b\b\b\b\b\b\b\b\b\b\b\b\b\b\b\nEpoch 45: ReduceLROnPlateau reducing learning rate to 3.125000148429535e-05.\n385/385 [==============================] - 17s 45ms/step - loss: 0.1015 - accuracy: 0.9614 - val_loss: 0.6536 - val_accuracy: 0.8290 - lr: 6.2500e-05\nEpoch 46/50\n385/385 [==============================] - 17s 45ms/step - loss: 0.0968 - accuracy: 0.9631 - val_loss: 0.6486 - val_accuracy: 0.8292 - lr: 3.1250e-05\b\b\b\b\b\b\b\b\b\b\b\b\b\b\b\b\b\b\b\b\b\nEpoch 47/50\n385/385 [==============================] - 17s 45ms/step - loss: 0.0932 - accuracy: 0.9652 - val_loss: 0.6568 - val_accuracy: 0.8267 - lr: 3.1250e-05\b\b\b\b\b\b\b\b\b\b\b\b\b\b\b\b\b\b\b\b\b\nEpoch 48/50\n385/385 [==============================] - ETA: 0s - loss: 0.0916 - accuracy: 0.9657\b\b\b\b\b\b\b\b\b\b\b\b\b\b\b\b\b\b\b\b\b\b\b\b\b\b\b\b\b\b\b\b\b\b\b\b\b\b\b\b\b\b\b\b\b\b\b\b\b\b\b\b\b\b\b\b\b\b\b\b\b\b\b\b\b\b\b\b\b\b\b\b\b\b\b\b\b\b\b\b\b\b\b\b\b\b\nEpoch 48: ReduceLROnPlateau reducing learning rate to 1.5625000742147677e-05.\n385/385 [==============================] - 17s 45ms/step - loss: 0.0916 - accuracy: 0.9657 - val_loss: 0.6552 - val_accuracy: 0.8262 - lr: 3.1250e-05\nEpoch 49/50\n385/385 [==============================] - 17s 45ms/step - loss: 0.0889 - accuracy: 0.9662 - val_loss: 0.6498 - val_accuracy: 0.8306 - lr: 1.5625e-05\b\b\b\b\b\b\b\b\b\b\b\b\b\b\b\b\b\b\b\b\b\nEpoch 50/50\n385/385 [==============================] - 17s 45ms/step - loss: 0.0886 - accuracy: 0.9662 - val_loss: 0.6434 - val_accuracy: 0.8292 - lr: 1.5625e-05\b\b\b\b\b\b\b\b\b\b\b\b\b\b\b\b\b\b\b\b\b\n"
        },
        {
          "output_type": "stream",
          "name": "stderr",
          "text": "2022-12-31 22:39:22.845372: I tensorflow/stream_executor/cuda/cuda_dnn.cc:384] Loaded cuDNN version 8201\n2022-12-31 22:39:45.673088: I tensorflow/core/platform/default/subprocess.cc:304] Start cannot spawn child process: No such file or directory\n"
        }
      ],
      "execution_count": 18,
      "metadata": {
        "gather": {
          "logged": 1672527281102
        }
      },
      "id": "4158ff53"
    },
    {
      "cell_type": "code",
      "source": [
        "# Save model and weights\n",
        "'''model_name = '6_Emotion_Model_new_cnn_90_acc.h5'\n",
        "save_dir = os.path.join(os.getcwd(), 'saved_models')\n",
        "\n",
        "if not os.path.isdir(save_dir):\n",
        "    os.makedirs(save_dir)\n",
        "model_path = os.path.join(save_dir, model_name)\n",
        "model.save(model_path)\n",
        "print('Save model and weights at %s ' % model_path)\n",
        "\n",
        "# Save the model to disk\n",
        "model_json = model.to_json()\n",
        "with open(\"Model Json/model_json_6_new_cnn_90_acc.json\", \"w\") as json_file:\n",
        "    json_file.write(model_json)]]'''"
      ],
      "outputs": [
        {
          "output_type": "execute_result",
          "execution_count": 19,
          "data": {
            "text/plain": "'model_name = \\'6_Emotion_Model_new_cnn_90_acc.h5\\'\\nsave_dir = os.path.join(os.getcwd(), \\'saved_models\\')\\n\\nif not os.path.isdir(save_dir):\\n    os.makedirs(save_dir)\\nmodel_path = os.path.join(save_dir, model_name)\\nmodel.save(model_path)\\nprint(\\'Save model and weights at %s \\' % model_path)\\n\\n# Save the model to disk\\nmodel_json = model.to_json()\\nwith open(\"Model Json/model_json_6_new_cnn_90_acc.json\", \"w\") as json_file:\\n    json_file.write(model_json)]]'"
          },
          "metadata": {}
        }
      ],
      "execution_count": 19,
      "metadata": {
        "gather": {
          "logged": 1672527281419
        }
      },
      "id": "a36de717"
    },
    {
      "cell_type": "code",
      "source": [
        "print(\"Accuracy of our model on test data : \" , model.evaluate(x_test,y_test)[1]*100 , \"%\")"
      ],
      "outputs": [
        {
          "output_type": "stream",
          "name": "stdout",
          "text": "334/334 [==============================] - 3s 7ms/step - loss: 0.7078 - accuracy: 0.8260\b\b\b\b\b\b\b\b\b\b\b\b\b\b\b\b\b\b\b\b\b\b\b\b\b\b\b\b\b\b\b\b\b\b\b\b\b\b\b\b\b\b\b\b\b\b\b\b\b\b\b\b\b\b\b\b\b\b\b\b\b\b\b\b\b\b\b\b\b\b\b\b\b\b\b\b\b\b\b\b\b\b\nAccuracy of our model on test data :  82.59769678115845 %\n"
        }
      ],
      "execution_count": 20,
      "metadata": {
        "gather": {
          "logged": 1672527283827
        }
      },
      "id": "6d9fa09b"
    },
    {
      "cell_type": "code",
      "source": [
        "plt.plot(history.history['accuracy'])\n",
        "plt.plot(history.history['val_accuracy'])\n",
        "plt.title('model accuracy')\n",
        "plt.ylabel('accuracy')\n",
        "plt.xlabel('epoch')\n",
        "plt.legend(['train', 'test'], loc='upper left')\n",
        "plt.show()\n",
        "\n",
        "plt.plot(history.history['loss'])\n",
        "plt.plot(history.history['val_loss'])\n",
        "plt.title('model loss')\n",
        "plt.ylabel('loss')\n",
        "plt.xlabel('epoch')\n",
        "plt.legend(['train', 'test'], loc='upper left')\n",
        "plt.show()"
      ],
      "outputs": [
        {
          "output_type": "display_data",
          "data": {
            "text/plain": "<Figure size 432x288 with 1 Axes>",
            "image/png": "[encoded data removed]"
          },
          "metadata": {
            "needs_background": "light"
          }
        },
        {
          "output_type": "display_data",
          "data": {
            "text/plain": "<Figure size 432x288 with 1 Axes>",
            "image/png": "[encoded data removed]"
          },
          "metadata": {
            "needs_background": "light"
          }
        }
      ],
      "execution_count": 21,
      "metadata": {
        "jupyter": {
          "source_hidden": false,
          "outputs_hidden": false
        },
        "nteract": {
          "transient": {
            "deleting": false
          }
        },
        "gather": {
          "logged": 1672527285966
        }
      },
      "id": "07a2ef43-1b1f-4749-8a84-a30d235bce9b"
    },
    {
      "cell_type": "code",
      "source": [
        "# predicting on test data.\n",
        "pred_test = model.predict(x_test)\n",
        "\n",
        "y_pred = encoder.inverse_transform(pred_test)\n",
        "y_test = encoder.inverse_transform(y_test)"
      ],
      "outputs": [
        {
          "output_type": "stream",
          "name": "stdout",
          "text": "334/334 [==============================] - 2s 5ms/step\b\b\b\b\b\b\b\b\b\b\b\b\b\b\b\b\b\b\b\b\b\b\b\b\b\b\b\b\b\b\b\b\b\b\b\b\b\b\b\b\b\b\b\b\b\b\b\b\b\b\n"
        }
      ],
      "execution_count": 22,
      "metadata": {
        "gather": {
          "logged": 1672527287651
        }
      },
      "id": "6c60ebd5"
    },
    {
      "cell_type": "code",
      "source": [
        "pred_test=model.predict(x_test)"
      ],
      "outputs": [
        {
          "output_type": "stream",
          "name": "stdout",
          "text": "334/334 [==============================] - 2s 5ms/step\b\b\b\b\b\b\b\b\b\b\b\b\b\b\b\b\b\b\b\b\b\b\b\b\b\b\b\b\b\b\b\b\b\b\b\b\b\b\b\b\b\b\b\b\b\b\n"
        }
      ],
      "execution_count": 23,
      "metadata": {
        "gather": {
          "logged": 1672527289578
        }
      },
      "id": "3ae553ae"
    },
    {
      "cell_type": "code",
      "source": [
        "df = pd.DataFrame(columns=['Predicted Labels', 'Actual Labels'])\n",
        "df['Predicted Labels'] = y_pred.flatten()\n",
        "df['Actual Labels'] = y_test.flatten()\n",
        "\n",
        "df.head(20)"
      ],
      "outputs": [
        {
          "output_type": "execute_result",
          "execution_count": 24,
          "data": {
            "text/plain": "   Predicted Labels Actual Labels\n0             happy         happy\n1             angry         angry\n2             happy         happy\n3          surprise      surprise\n4              fear          fear\n5          surprise      surprise\n6           neutral       neutral\n7               sad           sad\n8             happy         happy\n9               sad           sad\n10              sad           sad\n11         surprise      surprise\n12            angry         angry\n13          neutral       neutral\n14            angry         angry\n15            happy         happy\n16              sad           sad\n17             fear          fear\n18              sad           sad\n19            happy         happy",
            "text/html": "<div>\n<style scoped>\n    .dataframe tbody tr th:only-of-type {\n        vertical-align: middle;\n    }\n\n    .dataframe tbody tr th {\n        vertical-align: top;\n    }\n\n    .dataframe thead th {\n        text-align: right;\n    }\n</style>\n<table border=\"1\" class=\"dataframe\">\n  <thead>\n    <tr style=\"text-align: right;\">\n      <th></th>\n      <th>Predicted Labels</th>\n      <th>Actual Labels</th>\n    </tr>\n  </thead>\n  <tbody>\n    <tr>\n      <th>0</th>\n      <td>happy</td>\n      <td>happy</td>\n    </tr>\n    <tr>\n      <th>1</th>\n      <td>angry</td>\n      <td>angry</td>\n    </tr>\n    <tr>\n      <th>2</th>\n      <td>happy</td>\n      <td>happy</td>\n    </tr>\n    <tr>\n      <th>3</th>\n      <td>surprise</td>\n      <td>surprise</td>\n    </tr>\n    <tr>\n      <th>4</th>\n      <td>fear</td>\n      <td>fear</td>\n    </tr>\n    <tr>\n      <th>5</th>\n      <td>surprise</td>\n      <td>surprise</td>\n    </tr>\n    <tr>\n      <th>6</th>\n      <td>neutral</td>\n      <td>neutral</td>\n    </tr>\n    <tr>\n      <th>7</th>\n      <td>sad</td>\n      <td>sad</td>\n    </tr>\n    <tr>\n      <th>8</th>\n      <td>happy</td>\n      <td>happy</td>\n    </tr>\n    <tr>\n      <th>9</th>\n      <td>sad</td>\n      <td>sad</td>\n    </tr>\n    <tr>\n      <th>10</th>\n      <td>sad</td>\n      <td>sad</td>\n    </tr>\n    <tr>\n      <th>11</th>\n      <td>surprise</td>\n      <td>surprise</td>\n    </tr>\n    <tr>\n      <th>12</th>\n      <td>angry</td>\n      <td>angry</td>\n    </tr>\n    <tr>\n      <th>13</th>\n      <td>neutral</td>\n      <td>neutral</td>\n    </tr>\n    <tr>\n      <th>14</th>\n      <td>angry</td>\n      <td>angry</td>\n    </tr>\n    <tr>\n      <th>15</th>\n      <td>happy</td>\n      <td>happy</td>\n    </tr>\n    <tr>\n      <th>16</th>\n      <td>sad</td>\n      <td>sad</td>\n    </tr>\n    <tr>\n      <th>17</th>\n      <td>fear</td>\n      <td>fear</td>\n    </tr>\n    <tr>\n      <th>18</th>\n      <td>sad</td>\n      <td>sad</td>\n    </tr>\n    <tr>\n      <th>19</th>\n      <td>happy</td>\n      <td>happy</td>\n    </tr>\n  </tbody>\n</table>\n</div>"
          },
          "metadata": {}
        }
      ],
      "execution_count": 24,
      "metadata": {
        "gather": {
          "logged": 1672527289888
        }
      },
      "id": "0fdd49df"
    },
    {
      "cell_type": "code",
      "source": [
        "cm = confusion_matrix(y_test, y_pred)\n",
        "plt.figure(figsize = (12, 10))\n",
        "cm = pd.DataFrame(cm , index = [i for i in encoder.categories_] , columns = [i for i in encoder.categories_])\n",
        "sns.heatmap(cm, linecolor='white', cmap='Blues', linewidth=1, annot=True, fmt='')\n",
        "plt.title('Confusion Matrix', size=20)\n",
        "plt.xlabel('Predicted Labels', size=14)\n",
        "plt.ylabel('Actual Labels', size=14)\n",
        "plt.show()"
      ],
      "outputs": [
        {
          "output_type": "display_data",
          "data": {
            "text/plain": "<Figure size 864x720 with 2 Axes>",
            "image/png": "[encoded data removed]"
          },
          "metadata": {
            "needs_background": "light"
          }
        }
      ],
      "execution_count": 25,
      "metadata": {
        "gather": {
          "logged": 1672527290288
        }
      },
      "id": "e4b93935"
    },
    {
      "cell_type": "code",
      "source": [
        "print(classification_report(y_test, y_pred))"
      ],
      "outputs": [
        {
          "output_type": "stream",
          "name": "stdout",
          "text": "              precision    recall  f1-score   support\n\n       angry       0.91      0.91      0.91      1828\n        fear       0.77      0.75      0.76      1537\n       happy       0.86      0.80      0.83      2130\n     neutral       0.79      0.79      0.79      2003\n         sad       0.77      0.83      0.80      2117\n    surprise       0.89      0.89      0.89      1056\n\n    accuracy                           0.83     10671\n   macro avg       0.83      0.83      0.83     10671\nweighted avg       0.83      0.83      0.83     10671\n\n"
        }
      ],
      "execution_count": 26,
      "metadata": {
        "gather": {
          "logged": 1672527290547
        }
      },
      "id": "2f8c4b30"
    },
    {
      "cell_type": "code",
      "source": [],
      "outputs": [],
      "execution_count": null,
      "metadata": {},
      "id": "3b6113e0"
    },
    {
      "cell_type": "code",
      "source": [],
      "outputs": [],
      "execution_count": null,
      "metadata": {},
      "id": "9c7ac793"
    }
  ],
  "metadata": {
    "kernelspec": {
      "name": "python38-azureml-pt-tf",
      "language": "python",
      "display_name": "Python 3.8 - Pytorch and Tensorflow"
    },
    "language_info": {
      "name": "python",
      "version": "3.8.5",
      "mimetype": "text/x-python",
      "codemirror_mode": {
        "name": "ipython",
        "version": 3
      },
      "pygments_lexer": "ipython3",
      "nbconvert_exporter": "python",
      "file_extension": ".py"
    },
    "kernel_info": {
      "name": "python38-azureml-pt-tf"
    },
    "microsoft": {
      "host": {
        "AzureML": {
          "notebookHasBeenCompleted": true
        }
      }
    },
    "nteract": {
      "version": "nteract-front-end@1.0.0"
    }
  },
  "nbformat": 4,
  "nbformat_minor": 5
}