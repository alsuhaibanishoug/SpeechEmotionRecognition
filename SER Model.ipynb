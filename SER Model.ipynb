{
  "cells": [
    {
      "cell_type": "code",
      "source": [
        "#pip install librosa"
      ],
      "outputs": [],
      "execution_count": 1,
      "metadata": {
        "jupyter": {
          "source_hidden": false,
          "outputs_hidden": false
        },
        "nteract": {
          "transient": {
            "deleting": false
          }
        },
        "gather": {
          "logged": 1673277333085
        }
      },
      "id": "efaf1cdb-4a22-4401-9107-929b6b99c5ac"
    },
    {
      "cell_type": "code",
      "source": [
        "#pip install seaborn"
      ],
      "outputs": [],
      "execution_count": 2,
      "metadata": {
        "jupyter": {
          "source_hidden": false,
          "outputs_hidden": false
        },
        "nteract": {
          "transient": {
            "deleting": false
          }
        },
        "gather": {
          "logged": 1673277333463
        }
      },
      "id": "63548453-2555-40fc-86ac-71587ede2f86"
    },
    {
      "cell_type": "code",
      "source": [
        "# Import libraries \n",
        "import librosa\n",
        "import tensorflow as tf\n",
        "import pandas as pd\n",
        "import numpy as np\n",
        "import matplotlib.pyplot as plt\n",
        "import seaborn as sns\n",
        "import os\n",
        "import sys\n",
        "import warnings\n",
        "\n",
        "from sklearn.preprocessing import StandardScaler, OneHotEncoder\n",
        "from sklearn.metrics import confusion_matrix, classification_report\n",
        "from sklearn.model_selection import train_test_split\n",
        "\n",
        "import keras\n",
        "from keras.callbacks import EarlyStopping, ReduceLROnPlateau\n",
        "from keras.models import Sequential\n",
        "from keras.layers import Dense, Conv1D, MaxPooling1D, Flatten, Dropout, BatchNormalization, MaxPool1D\n",
        "from keras.utils import np_utils\n",
        "from tensorflow.keras.utils import to_categorical\n",
        "from keras.callbacks import ModelCheckpoint\n",
        "from keras.callbacks import LearningRateScheduler\n",
        "\n",
        "# ignore warnings \n",
        "if not sys.warnoptions:\n",
        "    warnings.simplefilter(\"ignore\")\n",
        "warnings.filterwarnings(\"ignore\", category=DeprecationWarning) "
      ],
      "outputs": [
        {
          "output_type": "stream",
          "name": "stderr",
          "text": "2023-01-09 15:15:33.212055: I tensorflow/core/platform/cpu_feature_guard.cc:193] This TensorFlow binary is optimized with oneAPI Deep Neural Network Library (oneDNN) to use the following CPU instructions in performance-critical operations:  AVX2 FMA\nTo enable them in other operations, rebuild TensorFlow with the appropriate compiler flags.\n2023-01-09 15:15:33.403686: E tensorflow/stream_executor/cuda/cuda_blas.cc:2981] Unable to register cuBLAS factory: Attempting to register factory for plugin cuBLAS when one has already been registered\n2023-01-09 15:15:34.186153: W tensorflow/stream_executor/platform/default/dso_loader.cc:64] Could not load dynamic library 'libnvinfer.so.7'; dlerror: libnvinfer.so.7: cannot open shared object file: No such file or directory\n2023-01-09 15:15:34.186278: W tensorflow/stream_executor/platform/default/dso_loader.cc:64] Could not load dynamic library 'libnvinfer_plugin.so.7'; dlerror: libnvinfer_plugin.so.7: cannot open shared object file: No such file or directory\n2023-01-09 15:15:34.186293: W tensorflow/compiler/tf2tensorrt/utils/py_utils.cc:38] TF-TRT Warning: Cannot dlopen some TensorRT libraries. If you would like to use Nvidia GPU with TensorRT, please make sure the missing libraries mentioned above are installed properly.\n"
        }
      ],
      "execution_count": 3,
      "metadata": {
        "gather": {
          "logged": 1673277336424
        }
      },
      "id": "aca19694"
    },
    {
      "cell_type": "code",
      "source": [
        "Features = pd.read_csv('features_augmentation_pl.csv')\n",
        "print(Features.shape)"
      ],
      "outputs": [
        {
          "output_type": "stream",
          "name": "stdout",
          "text": "(22788, 163)\n"
        }
      ],
      "execution_count": 4,
      "metadata": {
        "gather": {
          "logged": 1673277338442
        }
      },
      "id": "0b69748d"
    },
    {
      "cell_type": "code",
      "source": [
        "# Fill NaN with 0\n",
        "Features = Features.dropna()\n",
        "print(Features.shape)"
      ],
      "outputs": [
        {
          "output_type": "stream",
          "name": "stdout",
          "text": "(22786, 163)\n"
        }
      ],
      "execution_count": 5,
      "metadata": {
        "gather": {
          "logged": 1673277338862
        }
      },
      "id": "106a9ff0"
    },
    {
      "cell_type": "code",
      "source": [
        "Features = Features.sample(frac=1, random_state=42).reset_index(drop=True)"
      ],
      "outputs": [],
      "execution_count": 6,
      "metadata": {
        "jupyter": {
          "source_hidden": false,
          "outputs_hidden": false
        },
        "nteract": {
          "transient": {
            "deleting": false
          }
        },
        "gather": {
          "logged": 1673277339424
        }
      },
      "id": "cb37dbdf-3a4c-4313-93cb-30050c96ea0b"
    },
    {
      "cell_type": "code",
      "source": [
        "X = Features.iloc[: ,:-1].values\n",
        "Y = Features['labels'].values"
      ],
      "outputs": [],
      "execution_count": 14,
      "metadata": {
        "gather": {
          "logged": 1673277343397
        }
      },
      "id": "5e83040f"
    },
    {
      "cell_type": "code",
      "source": [
        "# As this is a multiclass classification problem onehotencoding our Y.\n",
        "encoder = OneHotEncoder()\n",
        "np.array(Y).reshape(-1,1)\n",
        "Y = encoder.fit_transform(np.array(Y).reshape(-1,1)).toarray()\n",
        "encoder.categories_"
      ],
      "outputs": [
        {
          "output_type": "execute_result",
          "execution_count": 15,
          "data": {
            "text/plain": "[array(['angry', 'happy', 'neutral', 'sad', 'surprise'], dtype=object)]"
          },
          "metadata": {}
        }
      ],
      "execution_count": 15,
      "metadata": {
        "gather": {
          "logged": 1673277343912
        }
      },
      "id": "88b376db"
    },
    {
      "cell_type": "code",
      "source": [
        "# splitting data\n",
        "x_train, x_test, y_train, y_test = train_test_split(X, Y,test_size=0.2, random_state=42, shuffle=True)\n",
        "x_train.shape, y_train.shape, x_test.shape, y_test.shape"
      ],
      "outputs": [
        {
          "output_type": "execute_result",
          "execution_count": 16,
          "data": {
            "text/plain": "((18228, 162), (18228, 5), (4558, 162), (4558, 5))"
          },
          "metadata": {}
        }
      ],
      "execution_count": 16,
      "metadata": {
        "gather": {
          "logged": 1673277344592
        }
      },
      "id": "b4924646"
    },
    {
      "cell_type": "code",
      "source": [
        "x_train, x_val, y_train, y_val = train_test_split(x_train, y_train, random_state=42, test_size=0.1, shuffle=True)\n",
        "x_train.shape, x_test.shape, x_val.shape, x_train.shape, x_test.shape, x_val.shape"
      ],
      "outputs": [
        {
          "output_type": "execute_result",
          "execution_count": 17,
          "data": {
            "text/plain": "((16405, 162),\n (4558, 162),\n (1823, 162),\n (16405, 162),\n (4558, 162),\n (1823, 162))"
          },
          "metadata": {}
        }
      ],
      "execution_count": 17,
      "metadata": {
        "gather": {
          "logged": 1673277345470
        }
      },
      "id": "94467f43"
    },
    {
      "cell_type": "code",
      "source": [
        "# making our data compatible to model.\n",
        "x_train = np.expand_dims(x_train, axis=2)\n",
        "x_test = np.expand_dims(x_test, axis=2)\n",
        "x_val = np.expand_dims(x_val, axis=2)\n",
        "x_train.shape, y_train.shape, x_test.shape, y_test.shape, x_val.shape, y_val.shape"
      ],
      "outputs": [
        {
          "output_type": "execute_result",
          "execution_count": 20,
          "data": {
            "text/plain": "((16405, 162, 1),\n (16405, 5),\n (4558, 162, 1),\n (4558, 5),\n (1823, 162, 1),\n (1823, 5))"
          },
          "metadata": {}
        }
      ],
      "execution_count": 20,
      "metadata": {
        "gather": {
          "logged": 1673277346949
        }
      },
      "id": "2d934704"
    },
    {
      "cell_type": "code",
      "source": [
        "model = Sequential()\n",
        "model.add(Conv1D(512, kernel_size=5, strides=1,\n",
        "                        padding=\"same\", activation=\"relu\",\n",
        "                        input_shape=(x_train.shape[1], 1)))\n",
        "model.add(BatchNormalization())\n",
        "model.add(MaxPool1D(pool_size=5, strides=2, padding=\"same\"))\n",
        "\n",
        "model.add(Conv1D(256, kernel_size=5, strides=1,padding=\"same\", activation=\"relu\"))\n",
        "model.add(BatchNormalization())\n",
        "model.add(MaxPool1D(pool_size=5, strides=2, padding=\"same\"))\n",
        "\n",
        "model.add(Conv1D(256, kernel_size=5, strides=1,padding=\"same\", activation=\"relu\"))\n",
        "model.add(BatchNormalization())\n",
        "model.add(MaxPool1D(pool_size=5, strides=2, padding=\"same\"))\n",
        "model.add(Dropout(0.25))\n",
        "\n",
        "\n",
        "model.add(Conv1D(256, kernel_size=5, strides=1, padding='same', activation='relu'))\n",
        "model.add(BatchNormalization())\n",
        "model.add(MaxPooling1D(pool_size=3, strides = 2, padding = 'same'))\n",
        "\n",
        "model.add(Conv1D(128, kernel_size=3, strides=1, padding='same', activation='relu'))\n",
        "model.add(BatchNormalization())\n",
        "model.add(MaxPooling1D(pool_size=3, strides = 2, padding = 'same'))\n",
        "\n",
        "\n",
        "model.add(Flatten())\n",
        "model.add(Dense(512, activation='relu'))\n",
        "model.add(Dropout(0.25))\n",
        "model.add(Dense(5, activation=\"softmax\"))\n",
        "\n",
        "model.compile(optimizer=\"adam\", loss=\"categorical_crossentropy\", metrics=['accuracy'])\n",
        "model.summary()\n"
      ],
      "outputs": [
        {
          "output_type": "stream",
          "name": "stdout",
          "text": "                                                                 \n dropout_1 (Dropout)         (None, 512)               0         \n                                                                 \n dense_1 (Dense)             (None, 5)                 2565      \n                                                                 \n=================================================================\nTotal params: 1,814,917\nTrainable params: 1,812,101\nNon-trainable params: 2,816\n_________________________________________________________________\nModel: \"sequential\"\n_________________________________________________________________\n Layer (type)                Output Shape              Param #   \n=================================================================\n conv1d (Conv1D)             (None, 162, 512)          3072      \n                                                                 \n batch_normalization (BatchN  (None, 162, 512)         2048      \n ormalization)                                                   \n                                                                 \n max_pooling1d (MaxPooling1D  (None, 81, 512)          0         \n )                                                               \n                                                                 \n conv1d_1 (Conv1D)           (None, 81, 256)           655616    \n                                                                 \n batch_normalization_1 (Batc  (None, 81, 256)          1024      \n hNormalization)                                                 \n                                                                 \n max_pooling1d_1 (MaxPooling  (None, 41, 256)          0         \n 1D)                                                             \n                                                                 \n conv1d_2 (Conv1D)           (None, 41, 256)           327936    \n                                                                 \n batch_normalization_2 (Batc  (None, 41, 256)          1024      \n hNormalization)                                                 \n                                                                 \n max_pooling1d_2 (MaxPooling  (None, 21, 256)          0         \n 1D)                                                             \n                                                                 \n dropout (Dropout)           (None, 21, 256)           0         \n                                                                 \n conv1d_3 (Conv1D)           (None, 21, 256)           327936    \n                                                                 \n batch_normalization_3 (Batc  (None, 21, 256)          1024      \n hNormalization)                                                 \n                                                                 \n max_pooling1d_3 (MaxPooling  (None, 11, 256)          0         \n 1D)                                                             \n                                                                 \n conv1d_4 (Conv1D)           (None, 11, 128)           98432     \n                                                                 \n batch_normalization_4 (Batc  (None, 11, 128)          512       \n hNormalization)                                                 \n                                                                 \n max_pooling1d_4 (MaxPooling  (None, 6, 128)           0         \n 1D)                                                             \n                                                                 \n flatten (Flatten)           (None, 768)               0         \n                                                                 \n dense (Dense)               (None, 512)               393728    \n                                                                 \n dropout_1 (Dropout)         (None, 512)               0         \n                                                                 \n dense_1 (Dense)             (None, 5)                 2565      \n                                                                 \n=================================================================\nTotal params: 1,814,917\nTrainable params: 1,812,101\nNon-trainable params: 2,816\n_________________________________________________________________\n"
        }
      ],
      "execution_count": 21,
      "metadata": {
        "jupyter": {
          "source_hidden": false,
          "outputs_hidden": false
        },
        "nteract": {
          "transient": {
            "deleting": false
          }
        },
        "gather": {
          "logged": 1673277347894
        }
      },
      "id": "b6432c6c-0103-4975-9b2e-76dc70e3318f"
    },
    {
      "cell_type": "code",
      "source": [
        "learning_rate_reduction = ReduceLROnPlateau(monitor='val_accuracy',\n",
        "                                            patience=3,\n",
        "                                            verbose=1,\n",
        "                                            factor=0.5,\n",
        "                                            min_lr=0.00001)\n",
        "callbacks2 = [learning_rate_reduction]"
      ],
      "outputs": [],
      "execution_count": 24,
      "metadata": {
        "gather": {
          "logged": 1673277349167
        }
      },
      "id": "c0575a0a"
    },
    {
      "cell_type": "code",
      "source": [
        "history=model.fit(x_train, y_train, batch_size=64, epochs=64, validation_data=(x_val, y_val),callbacks=callbacks2 )"
      ],
      "outputs": [
        {
          "output_type": "stream",
          "name": "stdout",
          "text": "Epoch 1/64\n257/257 [==============================] - 16s 48ms/step - loss: 1.2348 - accuracy: 0.4806 - val_loss: 1.4916 - val_accuracy: 0.3900 - lr: 0.0010\b\b\b\b\b\b\b\b\b\b\b\b\b\b\b\b\b\b\b\b\b\b\b\b\b\b\b\b\b\nEpoch 2/64\n257/257 [==============================] - 11s 42ms/step - loss: 1.0222 - accuracy: 0.5561 - val_loss: 2.7938 - val_accuracy: 0.2924 - lr: 0.0010\b\b\b\b\b\b\b\b\b\b\b\b\b\b\b\b\b\b\b\b\b\b\b\b\b\nEpoch 3/64\n257/257 [==============================] - 11s 42ms/step - loss: 0.9425 - accuracy: 0.5889 - val_loss: 3.8179 - val_accuracy: 0.2924 - lr: 0.0010\b\b\b\b\b\b\b\b\b\b\b\b\b\b\b\b\b\b\b\b\b\b\b\b\b\nEpoch 4/64\n257/257 [==============================] - 11s 42ms/step - loss: 0.8957 - accuracy: 0.6122 - val_loss: 1.9249 - val_accuracy: 0.4273 - lr: 0.0010\b\b\b\b\b\b\b\b\b\b\b\b\b\b\b\b\b\b\b\b\b\b\b\b\b\nEpoch 5/64\n257/257 [==============================] - 11s 42ms/step - loss: 0.8568 - accuracy: 0.6299 - val_loss: 2.1693 - val_accuracy: 0.4218 - lr: 0.0010\b\b\b\b\b\b\b\b\b\b\b\b\b\b\b\b\b\b\b\b\b\b\b\b\b\nEpoch 6/64\n257/257 [==============================] - 11s 42ms/step - loss: 0.8392 - accuracy: 0.6386 - val_loss: 1.0155 - val_accuracy: 0.5612 - lr: 0.0010\b\b\b\b\b\b\b\b\b\b\b\b\b\b\b\b\b\b\b\b\b\b\b\b\b\nEpoch 7/64\n257/257 [==============================] - 11s 42ms/step - loss: 0.8205 - accuracy: 0.6449 - val_loss: 1.1946 - val_accuracy: 0.4871 - lr: 0.0010\b\b\b\b\b\b\b\b\b\b\b\b\b\b\b\b\b\b\b\b\b\b\b\b\b\nEpoch 8/64\n257/257 [==============================] - 11s 42ms/step - loss: 0.7925 - accuracy: 0.6578 - val_loss: 5.2534 - val_accuracy: 0.3055 - lr: 0.0010\b\b\b\b\b\b\b\b\b\b\b\b\b\b\b\b\b\b\b\b\b\b\b\b\b\nEpoch 9/64\n257/257 [==============================] - ETA: 0s - loss: 0.7832 - accuracy: 0.6677\b\b\b\b\b\b\b\b\b\b\b\b\b\b\b\b\b\b\b\b\b\b\b\b\b\b\b\b\b\b\b\b\b\b\b\b\b\b\b\b\b\b\b\b\b\b\b\b\b\b\b\b\b\b\b\b\b\b\b\b\b\b\b\b\b\b\b\b\b\b\b\b\b\b\b\b\b\b\b\b\b\b\b\b\b\b\nEpoch 9: ReduceLROnPlateau reducing learning rate to 0.0005000000237487257.\n257/257 [==============================] - 11s 42ms/step - loss: 0.7832 - accuracy: 0.6677 - val_loss: 1.3282 - val_accuracy: 0.4196 - lr: 0.0010\nEpoch 10/64\n257/257 [==============================] - 11s 42ms/step - loss: 0.7255 - accuracy: 0.6922 - val_loss: 2.0969 - val_accuracy: 0.4739 - lr: 5.0000e-04\b\b\b\b\b\b\b\b\b\b\b\b\b\b\b\b\b\b\b\b\b\nEpoch 11/64\n257/257 [==============================] - 11s 42ms/step - loss: 0.6956 - accuracy: 0.7037 - val_loss: 1.2061 - val_accuracy: 0.5562 - lr: 5.0000e-04\b\b\b\b\b\b\b\b\b\b\b\b\b\b\b\b\b\b\b\b\b\nEpoch 12/64\n257/257 [==============================] - 11s 42ms/step - loss: 0.6791 - accuracy: 0.7080 - val_loss: 0.7853 - val_accuracy: 0.6709 - lr: 5.0000e-04\b\b\b\b\b\b\b\b\b\b\b\b\b\b\b\b\b\b\b\b\b\nEpoch 13/64\n257/257 [==============================] - 11s 42ms/step - loss: 0.6719 - accuracy: 0.7122 - val_loss: 0.7783 - val_accuracy: 0.6703 - lr: 5.0000e-04\b\b\b\b\b\b\b\b\b\b\b\b\b\b\b\b\b\b\b\b\b\nEpoch 14/64\n257/257 [==============================] - 11s 42ms/step - loss: 0.6540 - accuracy: 0.7231 - val_loss: 0.7474 - val_accuracy: 0.6747 - lr: 5.0000e-04\b\b\b\b\b\b\b\b\b\b\b\b\b\b\b\b\b\b\b\b\b\nEpoch 15/64\n257/257 [==============================] - 11s 42ms/step - loss: 0.6378 - accuracy: 0.7315 - val_loss: 0.7936 - val_accuracy: 0.6731 - lr: 5.0000e-04\b\b\b\b\b\b\b\b\b\b\b\b\b\b\b\b\b\b\b\b\b\nEpoch 16/64\n257/257 [==============================] - 11s 42ms/step - loss: 0.6250 - accuracy: 0.7392 - val_loss: 0.7622 - val_accuracy: 0.6813 - lr: 5.0000e-04\b\b\b\b\b\b\b\b\b\b\b\b\b\b\b\b\b\b\b\b\b\nEpoch 17/64\n257/257 [==============================] - 11s 42ms/step - loss: 0.6180 - accuracy: 0.7397 - val_loss: 1.3253 - val_accuracy: 0.5003 - lr: 5.0000e-04\b\b\b\b\b\b\b\b\b\b\b\b\b\b\b\b\b\b\b\b\b\nEpoch 18/64\n257/257 [==============================] - 11s 42ms/step - loss: 0.6033 - accuracy: 0.7490 - val_loss: 1.5044 - val_accuracy: 0.5837 - lr: 5.0000e-04\b\b\b\b\b\b\b\b\b\b\b\b\b\b\b\b\b\b\b\b\b\nEpoch 19/64\n257/257 [==============================] - ETA: 0s - loss: 0.5854 - accuracy: 0.7564\b\b\b\b\b\b\b\b\b\b\b\b\b\b\b\b\b\b\b\b\b\b\b\b\b\b\b\b\b\b\b\b\b\b\b\b\b\b\b\b\b\b\b\b\b\b\b\b\b\b\b\b\b\b\b\b\b\b\b\b\b\b\b\b\b\b\b\b\b\b\b\b\b\b\b\b\b\b\b\b\b\b\b\b\b\b\nEpoch 19: ReduceLROnPlateau reducing learning rate to 0.0002500000118743628.\n257/257 [==============================] - 11s 42ms/step - loss: 0.5854 - accuracy: 0.7564 - val_loss: 1.0846 - val_accuracy: 0.5612 - lr: 5.0000e-04\nEpoch 20/64\n257/257 [==============================] - 11s 42ms/step - loss: 0.5339 - accuracy: 0.7781 - val_loss: 0.7870 - val_accuracy: 0.6665 - lr: 2.5000e-04\b\b\b\b\b\b\b\b\b\b\b\b\b\b\b\b\b\b\b\b\b\nEpoch 21/64\n257/257 [==============================] - 11s 42ms/step - loss: 0.5154 - accuracy: 0.7868 - val_loss: 0.6083 - val_accuracy: 0.7482 - lr: 2.5000e-04\b\b\b\b\b\b\b\b\b\b\b\b\b\b\b\b\b\b\b\b\b\nEpoch 22/64\n257/257 [==============================] - 11s 42ms/step - loss: 0.4939 - accuracy: 0.7962 - val_loss: 1.1805 - val_accuracy: 0.6440 - lr: 2.5000e-04\b\b\b\b\b\b\b\b\b\b\b\b\b\b\b\b\b\b\b\b\b\nEpoch 23/64\n257/257 [==============================] - 11s 42ms/step - loss: 0.4914 - accuracy: 0.8002 - val_loss: 0.6285 - val_accuracy: 0.7389 - lr: 2.5000e-04\b\b\b\b\b\b\b\b\b\b\b\b\b\b\b\b\b\b\b\b\b\nEpoch 24/64\n257/257 [==============================] - ETA: 0s - loss: 0.4785 - accuracy: 0.8045\b\b\b\b\b\b\b\b\b\b\b\b\b\b\b\b\b\b\b\b\b\b\b\b\b\b\b\b\b\b\b\b\b\b\b\b\b\b\b\b\b\b\b\b\b\b\b\b\b\b\b\b\b\b\b\b\b\b\b\b\b\b\b\b\b\b\b\b\b\b\b\b\b\b\b\b\b\b\b\b\b\b\b\b\b\b\nEpoch 24: ReduceLROnPlateau reducing learning rate to 0.0001250000059371814.\n257/257 [==============================] - 11s 42ms/step - loss: 0.4785 - accuracy: 0.8045 - val_loss: 1.3339 - val_accuracy: 0.6396 - lr: 2.5000e-04\nEpoch 25/64\n257/257 [==============================] - 11s 42ms/step - loss: 0.4466 - accuracy: 0.8200 - val_loss: 0.6155 - val_accuracy: 0.7564 - lr: 1.2500e-04\b\b\b\b\b\b\b\b\b\b\b\b\b\b\b\b\b\b\b\b\b\nEpoch 26/64\n257/257 [==============================] - 11s 42ms/step - loss: 0.4277 - accuracy: 0.8251 - val_loss: 0.7394 - val_accuracy: 0.7142 - lr: 1.2500e-04\b\b\b\b\b\b\b\b\b\b\b\b\b\b\b\b\b\b\b\b\b\nEpoch 27/64\n257/257 [==============================] - 11s 42ms/step - loss: 0.4237 - accuracy: 0.8299 - val_loss: 0.6184 - val_accuracy: 0.7553 - lr: 1.2500e-04\b\b\b\b\b\b\b\b\b\b\b\b\b\b\b\b\b\b\b\b\b\nEpoch 28/64\n257/257 [==============================] - 11s 42ms/step - loss: 0.4069 - accuracy: 0.8379 - val_loss: 0.6509 - val_accuracy: 0.7575 - lr: 1.2500e-04\b\b\b\b\b\b\b\b\b\b\b\b\b\b\b\b\b\b\b\b\b\nEpoch 29/64\n257/257 [==============================] - 11s 42ms/step - loss: 0.3960 - accuracy: 0.8398 - val_loss: 0.6441 - val_accuracy: 0.7532 - lr: 1.2500e-04\b\b\b\b\b\b\b\b\b\b\b\b\b\b\b\b\b\b\b\b\b\nEpoch 30/64\n257/257 [==============================] - 11s 42ms/step - loss: 0.3928 - accuracy: 0.8405 - val_loss: 0.7544 - val_accuracy: 0.7296 - lr: 1.2500e-04\b\b\b\b\b\b\b\b\b\b\b\b\b\b\b\b\b\b\b\b\b\nEpoch 31/64\n257/257 [==============================] - ETA: 0s - loss: 0.3821 - accuracy: 0.8482\b\b\b\b\b\b\b\b\b\b\b\b\b\b\b\b\b\b\b\b\b\b\b\b\b\b\b\b\b\b\b\b\b\b\b\b\b\b\b\b\b\b\b\b\b\b\b\b\b\b\b\b\b\b\b\b\b\b\b\b\b\b\b\b\b\b\b\b\b\b\b\b\b\b\b\b\b\b\b\b\b\b\b\b\b\b\nEpoch 31: ReduceLROnPlateau reducing learning rate to 6.25000029685907e-05.\n257/257 [==============================] - 11s 42ms/step - loss: 0.3821 - accuracy: 0.8482 - val_loss: 0.6586 - val_accuracy: 0.7488 - lr: 1.2500e-04\nEpoch 32/64\n257/257 [==============================] - 11s 42ms/step - loss: 0.3619 - accuracy: 0.8590 - val_loss: 0.7171 - val_accuracy: 0.7383 - lr: 6.2500e-05\b\b\b\b\b\b\b\b\b\b\b\b\b\b\b\b\b\b\b\b\b\nEpoch 33/64\n257/257 [==============================] - 11s 42ms/step - loss: 0.3520 - accuracy: 0.8614 - val_loss: 0.6111 - val_accuracy: 0.7647 - lr: 6.2500e-05\b\b\b\b\b\b\b\b\b\b\b\b\b\b\b\b\b\b\b\b\b\nEpoch 34/64\n257/257 [==============================] - 11s 42ms/step - loss: 0.3509 - accuracy: 0.8613 - val_loss: 0.5787 - val_accuracy: 0.7767 - lr: 6.2500e-05\b\b\b\b\b\b\b\b\b\b\b\b\b\b\b\b\b\b\b\b\b\nEpoch 35/64\n257/257 [==============================] - 11s 42ms/step - loss: 0.3405 - accuracy: 0.8633 - val_loss: 0.5819 - val_accuracy: 0.7789 - lr: 6.2500e-05\b\b\b\b\b\b\b\b\b\b\b\b\b\b\b\b\b\b\b\b\b\nEpoch 36/64\n257/257 [==============================] - 11s 42ms/step - loss: 0.3393 - accuracy: 0.8661 - val_loss: 0.5891 - val_accuracy: 0.7806 - lr: 6.2500e-05\b\b\b\b\b\b\b\b\b\b\b\b\b\b\b\b\b\b\b\b\b\nEpoch 37/64\n257/257 [==============================] - 11s 42ms/step - loss: 0.3288 - accuracy: 0.8708 - val_loss: 0.5992 - val_accuracy: 0.7718 - lr: 6.2500e-05\b\b\b\b\b\b\b\b\b\b\b\b\b\b\b\b\b\b\b\b\b\nEpoch 38/64\n257/257 [==============================] - 11s 42ms/step - loss: 0.3330 - accuracy: 0.8682 - val_loss: 0.6376 - val_accuracy: 0.7702 - lr: 6.2500e-05\b\b\b\b\b\b\b\b\b\b\b\b\b\b\b\b\b\b\b\b\b\nEpoch 39/64\n257/257 [==============================] - 11s 42ms/step - loss: 0.3237 - accuracy: 0.8726 - val_loss: 0.5745 - val_accuracy: 0.7948 - lr: 6.2500e-05\b\b\b\b\b\b\b\b\b\b\b\b\b\b\b\b\b\b\b\b\b\nEpoch 40/64\n257/257 [==============================] - 11s 42ms/step - loss: 0.3170 - accuracy: 0.8741 - val_loss: 0.5793 - val_accuracy: 0.7894 - lr: 6.2500e-05\b\b\b\b\b\b\b\b\b\b\b\b\b\b\b\b\b\b\b\b\b\nEpoch 41/64\n257/257 [==============================] - 11s 42ms/step - loss: 0.3076 - accuracy: 0.8771 - val_loss: 0.6536 - val_accuracy: 0.7597 - lr: 6.2500e-05\b\b\b\b\b\b\b\b\b\b\b\b\b\b\b\b\b\b\b\b\b\nEpoch 42/64\n257/257 [==============================] - ETA: 0s - loss: 0.3139 - accuracy: 0.8777\b\b\b\b\b\b\b\b\b\b\b\b\b\b\b\b\b\b\b\b\b\b\b\b\b\b\b\b\b\b\b\b\b\b\b\b\b\b\b\b\b\b\b\b\b\b\b\b\b\b\b\b\b\b\b\b\b\b\b\b\b\b\b\b\b\b\b\b\b\b\b\b\b\b\b\b\b\b\b\b\b\b\b\b\b\b\nEpoch 42: ReduceLROnPlateau reducing learning rate to 3.125000148429535e-05.\n257/257 [==============================] - 11s 42ms/step - loss: 0.3139 - accuracy: 0.8777 - val_loss: 0.6257 - val_accuracy: 0.7800 - lr: 6.2500e-05\nEpoch 43/64\n257/257 [==============================] - 11s 42ms/step - loss: 0.2991 - accuracy: 0.8825 - val_loss: 0.5789 - val_accuracy: 0.7948 - lr: 3.1250e-05\b\b\b\b\b\b\b\b\b\b\b\b\b\b\b\b\b\b\b\b\b\nEpoch 44/64\n257/257 [==============================] - 11s 42ms/step - loss: 0.2980 - accuracy: 0.8824 - val_loss: 0.5714 - val_accuracy: 0.8009 - lr: 3.1250e-05\b\b\b\b\b\b\b\b\b\b\b\b\b\b\b\b\b\b\b\b\b\nEpoch 45/64\n257/257 [==============================] - 11s 42ms/step - loss: 0.2929 - accuracy: 0.8843 - val_loss: 0.5786 - val_accuracy: 0.7992 - lr: 3.1250e-05\b\b\b\b\b\b\b\b\b\b\b\b\b\b\b\b\b\b\b\b\b\nEpoch 46/64\n257/257 [==============================] - 11s 42ms/step - loss: 0.2875 - accuracy: 0.8864 - val_loss: 0.5797 - val_accuracy: 0.8020 - lr: 3.1250e-05\b\b\b\b\b\b\b\b\b\b\b\b\b\b\b\b\b\b\b\b\b\nEpoch 47/64\n257/257 [==============================] - 11s 42ms/step - loss: 0.2897 - accuracy: 0.8845 - val_loss: 0.5624 - val_accuracy: 0.8091 - lr: 3.1250e-05\b\b\b\b\b\b\b\b\b\b\b\b\b\b\b\b\b\b\b\b\b\nEpoch 48/64\n257/257 [==============================] - 11s 42ms/step - loss: 0.2804 - accuracy: 0.8913 - val_loss: 0.6031 - val_accuracy: 0.7872 - lr: 3.1250e-05\b\b\b\b\b\b\b\b\b\b\b\b\b\b\b\b\b\b\b\b\b\nEpoch 49/64\n257/257 [==============================] - 11s 42ms/step - loss: 0.2796 - accuracy: 0.8897 - val_loss: 0.5827 - val_accuracy: 0.7987 - lr: 3.1250e-05\b\b\b\b\b\b\b\b\b\b\b\b\b\b\b\b\b\b\b\b\b\nEpoch 50/64\n257/257 [==============================] - ETA: 0s - loss: 0.2801 - accuracy: 0.8912\b\b\b\b\b\b\b\b\b\b\b\b\b\b\b\b\b\b\b\b\b\b\b\b\b\b\b\b\b\b\b\b\b\b\b\b\b\b\b\b\b\b\b\b\b\b\b\b\b\b\b\b\b\b\b\b\b\b\b\b\b\b\b\b\b\b\b\b\b\b\b\b\b\b\b\b\b\b\b\b\b\b\b\b\b\b\nEpoch 50: ReduceLROnPlateau reducing learning rate to 1.5625000742147677e-05.\n257/257 [==============================] - 11s 42ms/step - loss: 0.2801 - accuracy: 0.8912 - val_loss: 0.5878 - val_accuracy: 0.8003 - lr: 3.1250e-05\nEpoch 51/64\n257/257 [==============================] - 11s 42ms/step - loss: 0.2733 - accuracy: 0.8955 - val_loss: 0.5664 - val_accuracy: 0.8086 - lr: 1.5625e-05\b\b\b\b\b\b\b\b\b\b\b\b\b\b\b\b\b\b\b\b\b\nEpoch 52/64\n257/257 [==============================] - 11s 42ms/step - loss: 0.2697 - accuracy: 0.8939 - val_loss: 0.5843 - val_accuracy: 0.8031 - lr: 1.5625e-05\b\b\b\b\b\b\b\b\b\b\b\b\b\b\b\b\b\b\b\b\b\nEpoch 53/64\n257/257 [==============================] - ETA: 0s - loss: 0.2690 - accuracy: 0.8953\b\b\b\b\b\b\b\b\b\b\b\b\b\b\b\b\b\b\b\b\b\b\b\b\b\b\b\b\b\b\b\b\b\b\b\b\b\b\b\b\b\b\b\b\b\b\b\b\b\b\b\b\b\b\b\b\b\b\b\b\b\b\b\b\b\b\b\b\b\b\b\b\b\b\b\b\b\b\b\b\b\b\b\b\b\b\nEpoch 53: ReduceLROnPlateau reducing learning rate to 1e-05.\n257/257 [==============================] - 11s 42ms/step - loss: 0.2690 - accuracy: 0.8953 - val_loss: 0.5840 - val_accuracy: 0.7987 - lr: 1.5625e-05\nEpoch 54/64\n257/257 [==============================] - 11s 42ms/step - loss: 0.2722 - accuracy: 0.8923 - val_loss: 0.5716 - val_accuracy: 0.8020 - lr: 1.0000e-05\b\b\b\b\b\b\b\b\b\b\b\b\b\b\b\b\b\b\b\b\b\nEpoch 55/64\n257/257 [==============================] - 11s 42ms/step - loss: 0.2647 - accuracy: 0.8972 - val_loss: 0.5778 - val_accuracy: 0.8047 - lr: 1.0000e-05\b\b\b\b\b\b\b\b\b\b\b\b\b\b\b\b\b\b\b\b\b\nEpoch 56/64\n257/257 [==============================] - 11s 42ms/step - loss: 0.2654 - accuracy: 0.8941 - val_loss: 0.5751 - val_accuracy: 0.8080 - lr: 1.0000e-05\b\b\b\b\b\b\b\b\b\b\b\b\b\b\b\b\b\b\b\b\b\nEpoch 57/64\n257/257 [==============================] - 11s 42ms/step - loss: 0.2636 - accuracy: 0.8982 - val_loss: 0.5761 - val_accuracy: 0.8091 - lr: 1.0000e-05\b\b\b\b\b\b\b\b\b\b\b\b\b\b\b\b\b\b\b\b\b\nEpoch 58/64\n257/257 [==============================] - 11s 42ms/step - loss: 0.2648 - accuracy: 0.8974 - val_loss: 0.5885 - val_accuracy: 0.8009 - lr: 1.0000e-05\b\b\b\b\b\b\b\b\b\b\b\b\b\b\b\b\b\b\b\b\b\nEpoch 59/64\n257/257 [==============================] - 11s 42ms/step - loss: 0.2644 - accuracy: 0.8941 - val_loss: 0.5936 - val_accuracy: 0.7981 - lr: 1.0000e-05\b\b\b\b\b\b\b\b\b\b\b\b\b\b\b\b\b\b\b\b\b\nEpoch 60/64\n257/257 [==============================] - 11s 42ms/step - loss: 0.2582 - accuracy: 0.8988 - val_loss: 0.5762 - val_accuracy: 0.8075 - lr: 1.0000e-05\b\b\b\b\b\b\b\b\b\b\b\b\b\b\b\b\b\b\b\b\b\nEpoch 61/64\n257/257 [==============================] - 11s 42ms/step - loss: 0.2612 - accuracy: 0.8962 - val_loss: 0.5744 - val_accuracy: 0.8113 - lr: 1.0000e-05\b\b\b\b\b\b\b\b\b\b\b\b\b\b\b\b\b\b\b\b\b\nEpoch 62/64\n257/257 [==============================] - 11s 42ms/step - loss: 0.2599 - accuracy: 0.8995 - val_loss: 0.5817 - val_accuracy: 0.8069 - lr: 1.0000e-05\b\b\b\b\b\b\b\b\b\b\b\b\b\b\b\b\b\b\b\b\b\nEpoch 63/64\n257/257 [==============================] - 11s 42ms/step - loss: 0.2557 - accuracy: 0.8973 - val_loss: 0.6059 - val_accuracy: 0.7965 - lr: 1.0000e-05\b\b\b\b\b\b\b\b\b\b\b\b\b\b\b\b\b\b\b\b\b\nEpoch 64/64\n257/257 [==============================] - 11s 42ms/step - loss: 0.2587 - accuracy: 0.8975 - val_loss: 0.5836 - val_accuracy: 0.8058 - lr: 1.0000e-05\b\b\b\b\b\b\b\b\b\b\b\b\b\b\b\b\b\b\b\b\b\n"
        }
      ],
      "execution_count": 25,
      "metadata": {
        "gather": {
          "logged": 1673278031895
        }
      },
      "id": "4158ff53"
    },
    {
      "cell_type": "code",
      "source": [
        "# Save model and weights\n",
        "model_name = '3__Emotion_Model_new_cnn.h5'\n",
        "save_dir = os.path.join(os.getcwd(), 'saved_models')\n",
        "\n",
        "if not os.path.isdir(save_dir):\n",
        "    os.makedirs(save_dir)\n",
        "model_path = os.path.join(save_dir, model_name)\n",
        "model.save(model_path)\n",
        "print('Save model and weights at %s ' % model_path)\n",
        "\n",
        "# Save the model to disk\n",
        "model_json = model.to_json()\n",
        "with open(\"Model Json/model_json_3_new_cnn.json\", \"w\") as json_file:\n",
        "    json_file.write(model_json)"
      ],
      "outputs": [
        {
          "output_type": "stream",
          "name": "stdout",
          "text": "Save model and weights at /mnt/batch/tasks/shared/LS_root/mounts/clusters/skaalmutairi1/code/Users/skaalmutairi/saved_models/3__Emotion_Model_new_cnn.h5 \n"
        }
      ],
      "execution_count": 26,
      "metadata": {
        "gather": {
          "logged": 1673278032451
        }
      },
      "id": "a36de717"
    },
    {
      "cell_type": "code",
      "source": [
        "print(\"Accuracy of our model on test data : \" , model.evaluate(x_test,y_test)[1]*100 , \"%\")"
      ],
      "outputs": [
        {
          "output_type": "stream",
          "name": "stdout",
          "text": "143/143 [==============================] - 2s 11ms/step - loss: 0.5271 - accuracy: 0.8214\b\b\b\b\b\b\b\b\b\b\b\b\b\b\b\b\b\b\b\b\b\b\b\b\b\b\b\b\b\b\b\b\b\b\b\b\b\b\b\b\b\b\b\b\b\b\b\b\b\b\b\b\b\b\b\b\b\b\b\b\b\b\b\b\b\b\b\b\b\b\b\b\b\b\b\b\b\b\b\b\b\nAccuracy of our model on test data :  82.14129209518433 %\n"
        }
      ],
      "execution_count": 27,
      "metadata": {
        "gather": {
          "logged": 1673278034100
        }
      },
      "id": "6d9fa09b"
    },
    {
      "cell_type": "code",
      "source": [
        "plt.plot(history.history['accuracy'])\n",
        "plt.plot(history.history['val_accuracy'])\n",
        "plt.title('model accuracy')\n",
        "plt.ylabel('accuracy')\n",
        "plt.xlabel('epoch')\n",
        "plt.legend(['train', 'test'], loc='upper left')\n",
        "plt.show()\n",
        "\n",
        "plt.plot(history.history['loss'])\n",
        "plt.plot(history.history['val_loss'])\n",
        "plt.title('model loss')\n",
        "plt.ylabel('loss')\n",
        "plt.xlabel('epoch')\n",
        "plt.legend(['train', 'test'], loc='upper left')\n",
        "plt.show()"
      ],
      "outputs": [
        {
          "output_type": "display_data",
          "data": {
            "text/plain": "<Figure size 432x288 with 1 Axes>",
            "image/png": "[encoded data removed]"
          },
          "metadata": {
            "needs_background": "light"
          }
        },
        {
          "output_type": "display_data",
          "data": {
            "text/plain": "<Figure size 432x288 with 1 Axes>",
            "image/png": "[encoded data removed]"
          },
          "metadata": {
            "needs_background": "light"
          }
        }
      ],
      "execution_count": 28,
      "metadata": {
        "jupyter": {
          "source_hidden": false,
          "outputs_hidden": false
        },
        "nteract": {
          "transient": {
            "deleting": false
          }
        },
        "gather": {
          "logged": 1673278034883
        }
      },
      "id": "07a2ef43-1b1f-4749-8a84-a30d235bce9b"
    },
    {
      "cell_type": "code",
      "source": [
        "# predicting on test data.\n",
        "pred_test = model.predict(x_test)\n",
        "\n",
        "y_pred = encoder.inverse_transform(pred_test)\n",
        "y_test = encoder.inverse_transform(y_test)"
      ],
      "outputs": [
        {
          "output_type": "stream",
          "name": "stdout",
          "text": "143/143 [==============================] - 1s 8ms/step\b\b\b\b\b\b\b\b\b\b\b\b\b\b\b\b\b\b\b\b\b\b\b\b\b\b\b\b\b\b\b\b\b\b\b\b\b\b\b\b\b\b\b\b\b\b\b\b\n"
        }
      ],
      "execution_count": 29,
      "metadata": {
        "gather": {
          "logged": 1673278035963
        }
      },
      "id": "6c60ebd5"
    },
    {
      "cell_type": "code",
      "source": [
        "pred_test=model.predict(x_test)"
      ],
      "outputs": [
        {
          "output_type": "stream",
          "name": "stdout",
          "text": "143/143 [==============================] - 1s 8ms/step\b\b\b\b\b\b\b\b\b\b\b\b\b\b\b\b\b\b\b\b\b\b\b\b\b\b\b\b\b\b\b\b\b\b\b\b\b\b\b\b\b\b\b\b\b\b\n"
        }
      ],
      "execution_count": 30,
      "metadata": {
        "gather": {
          "logged": 1673278037173
        }
      },
      "id": "3ae553ae"
    },
    {
      "cell_type": "code",
      "source": [
        "df = pd.DataFrame(columns=['Predicted Labels', 'Actual Labels'])\n",
        "df['Predicted Labels'] = y_pred.flatten()\n",
        "df['Actual Labels'] = y_test.flatten()\n",
        "\n",
        "df.head(20)"
      ],
      "outputs": [
        {
          "output_type": "execute_result",
          "execution_count": 31,
          "data": {
            "text/plain": "   Predicted Labels Actual Labels\n0          surprise      surprise\n1          surprise      surprise\n2               sad           sad\n3             happy         happy\n4               sad         happy\n5             angry         angry\n6               sad           sad\n7             happy         happy\n8          surprise      surprise\n9               sad           sad\n10            angry         angry\n11            angry         angry\n12          neutral       neutral\n13          neutral       neutral\n14         surprise      surprise\n15            happy         happy\n16            angry         angry\n17              sad           sad\n18            happy         happy\n19          neutral         happy",
            "text/html": "<div>\n<style scoped>\n    .dataframe tbody tr th:only-of-type {\n        vertical-align: middle;\n    }\n\n    .dataframe tbody tr th {\n        vertical-align: top;\n    }\n\n    .dataframe thead th {\n        text-align: right;\n    }\n</style>\n<table border=\"1\" class=\"dataframe\">\n  <thead>\n    <tr style=\"text-align: right;\">\n      <th></th>\n      <th>Predicted Labels</th>\n      <th>Actual Labels</th>\n    </tr>\n  </thead>\n  <tbody>\n    <tr>\n      <th>0</th>\n      <td>surprise</td>\n      <td>surprise</td>\n    </tr>\n    <tr>\n      <th>1</th>\n      <td>surprise</td>\n      <td>surprise</td>\n    </tr>\n    <tr>\n      <th>2</th>\n      <td>sad</td>\n      <td>sad</td>\n    </tr>\n    <tr>\n      <th>3</th>\n      <td>happy</td>\n      <td>happy</td>\n    </tr>\n    <tr>\n      <th>4</th>\n      <td>sad</td>\n      <td>happy</td>\n    </tr>\n    <tr>\n      <th>5</th>\n      <td>angry</td>\n      <td>angry</td>\n    </tr>\n    <tr>\n      <th>6</th>\n      <td>sad</td>\n      <td>sad</td>\n    </tr>\n    <tr>\n      <th>7</th>\n      <td>happy</td>\n      <td>happy</td>\n    </tr>\n    <tr>\n      <th>8</th>\n      <td>surprise</td>\n      <td>surprise</td>\n    </tr>\n    <tr>\n      <th>9</th>\n      <td>sad</td>\n      <td>sad</td>\n    </tr>\n    <tr>\n      <th>10</th>\n      <td>angry</td>\n      <td>angry</td>\n    </tr>\n    <tr>\n      <th>11</th>\n      <td>angry</td>\n      <td>angry</td>\n    </tr>\n    <tr>\n      <th>12</th>\n      <td>neutral</td>\n      <td>neutral</td>\n    </tr>\n    <tr>\n      <th>13</th>\n      <td>neutral</td>\n      <td>neutral</td>\n    </tr>\n    <tr>\n      <th>14</th>\n      <td>surprise</td>\n      <td>surprise</td>\n    </tr>\n    <tr>\n      <th>15</th>\n      <td>happy</td>\n      <td>happy</td>\n    </tr>\n    <tr>\n      <th>16</th>\n      <td>angry</td>\n      <td>angry</td>\n    </tr>\n    <tr>\n      <th>17</th>\n      <td>sad</td>\n      <td>sad</td>\n    </tr>\n    <tr>\n      <th>18</th>\n      <td>happy</td>\n      <td>happy</td>\n    </tr>\n    <tr>\n      <th>19</th>\n      <td>neutral</td>\n      <td>happy</td>\n    </tr>\n  </tbody>\n</table>\n</div>"
          },
          "metadata": {}
        }
      ],
      "execution_count": 31,
      "metadata": {
        "gather": {
          "logged": 1673278037805
        }
      },
      "id": "0fdd49df"
    },
    {
      "cell_type": "code",
      "source": [
        "cm = confusion_matrix(y_test, y_pred)\n",
        "plt.figure(figsize = (12, 10))\n",
        "cm = pd.DataFrame(cm , index = [i for i in encoder.categories_] , columns = [i for i in encoder.categories_])\n",
        "sns.heatmap(cm, linecolor='white', cmap='Blues', linewidth=1, annot=True, fmt='')\n",
        "plt.title('Confusion Matrix', size=20)\n",
        "plt.xlabel('Predicted Labels', size=14)\n",
        "plt.ylabel('Actual Labels', size=14)\n",
        "plt.show()"
      ],
      "outputs": [
        {
          "output_type": "display_data",
          "data": {
            "text/plain": "<Figure size 864x720 with 2 Axes>",
            "image/png": "[encoded data removed]"
          },
          "metadata": {
            "needs_background": "light"
          }
        }
      ],
      "execution_count": 32,
      "metadata": {
        "gather": {
          "logged": 1673278038386
        }
      },
      "id": "e4b93935"
    },
    {
      "cell_type": "code",
      "source": [
        "print(classification_report(y_test, y_pred))"
      ],
      "outputs": [
        {
          "output_type": "stream",
          "name": "stdout",
          "text": "              precision    recall  f1-score   support\n\n       angry       0.90      0.89      0.90       909\n       happy       0.82      0.77      0.79      1086\n     neutral       0.73      0.84      0.78      1037\n         sad       0.84      0.80      0.82       998\n    surprise       0.88      0.80      0.84       528\n\n    accuracy                           0.82      4558\n   macro avg       0.83      0.82      0.83      4558\nweighted avg       0.83      0.82      0.82      4558\n\n"
        }
      ],
      "execution_count": 33,
      "metadata": {
        "gather": {
          "logged": 1673278038907
        }
      },
      "id": "2f8c4b30"
    },
    {
      "cell_type": "code",
      "source": [],
      "outputs": [],
      "execution_count": null,
      "metadata": {},
      "id": "3b6113e0"
    },
    {
      "cell_type": "code",
      "source": [],
      "outputs": [],
      "execution_count": null,
      "metadata": {},
      "id": "9c7ac793"
    }
  ],
  "metadata": {
    "kernelspec": {
      "name": "python38-azureml-pt-tf",
      "language": "python",
      "display_name": "Python 3.8 - Pytorch and Tensorflow"
    },
    "language_info": {
      "name": "python",
      "version": "3.8.5",
      "mimetype": "text/x-python",
      "codemirror_mode": {
        "name": "ipython",
        "version": 3
      },
      "pygments_lexer": "ipython3",
      "nbconvert_exporter": "python",
      "file_extension": ".py"
    },
    "kernel_info": {
      "name": "python38-azureml-pt-tf"
    },
    "microsoft": {
      "host": {
        "AzureML": {
          "notebookHasBeenCompleted": true
        }
      }
    },
    "nteract": {
      "version": "nteract-front-end@1.0.0"
    }
  },
  "nbformat": 4,
  "nbformat_minor": 5
}