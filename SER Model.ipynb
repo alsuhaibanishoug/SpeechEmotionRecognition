{
  "cells": [
    {
      "cell_type": "code",
      "execution_count": 1,
      "id": "efaf1cdb-4a22-4401-9107-929b6b99c5ac",
      "metadata": {
        "gather": {
          "logged": 1674645938373
        },
        "jupyter": {
          "outputs_hidden": false,
          "source_hidden": false
        },
        "nteract": {
          "transient": {
            "deleting": false
          }
        }
      },
      "outputs": [],
      "source": [
        "#pip install librosa seaborn"
      ]
    },
    {
      "cell_type": "code",
      "execution_count": 2,
      "id": "aca19694",
      "metadata": {
        "gather": {
          "logged": 1674645942108
        }
      },
      "outputs": [
        {
          "name": "stderr",
          "output_type": "stream",
          "text": [
            "2023-01-25 11:25:39.638974: I tensorflow/core/platform/cpu_feature_guard.cc:193] This TensorFlow binary is optimized with oneAPI Deep Neural Network Library (oneDNN) to use the following CPU instructions in performance-critical operations:  AVX2 FMA\n",
            "To enable them in other operations, rebuild TensorFlow with the appropriate compiler flags.\n",
            "2023-01-25 11:25:39.841269: E tensorflow/stream_executor/cuda/cuda_blas.cc:2981] Unable to register cuBLAS factory: Attempting to register factory for plugin cuBLAS when one has already been registered\n",
            "2023-01-25 11:25:40.637677: W tensorflow/stream_executor/platform/default/dso_loader.cc:64] Could not load dynamic library 'libnvinfer.so.7'; dlerror: libnvinfer.so.7: cannot open shared object file: No such file or directory\n",
            "2023-01-25 11:25:40.637817: W tensorflow/stream_executor/platform/default/dso_loader.cc:64] Could not load dynamic library 'libnvinfer_plugin.so.7'; dlerror: libnvinfer_plugin.so.7: cannot open shared object file: No such file or directory\n",
            "2023-01-25 11:25:40.637830: W tensorflow/compiler/tf2tensorrt/utils/py_utils.cc:38] TF-TRT Warning: Cannot dlopen some TensorRT libraries. If you would like to use Nvidia GPU with TensorRT, please make sure the missing libraries mentioned above are installed properly.\n"
          ]
        }
      ],
      "source": [
        "# Import libraries \n",
        "import tensorflow as tf\n",
        "import pandas as pd\n",
        "import numpy as np\n",
        "import matplotlib.pyplot as plt\n",
        "import seaborn as sns\n",
        "import os\n",
        "import sys\n",
        "import warnings\n",
        "\n",
        "from sklearn.preprocessing import OneHotEncoder\n",
        "from sklearn.metrics import confusion_matrix, classification_report\n",
        "from sklearn.model_selection import train_test_split\n",
        "\n",
        "import keras\n",
        "from keras.callbacks import  ReduceLROnPlateau\n",
        "from keras.models import Sequential\n",
        "from keras.layers import Dense, Conv1D, MaxPooling1D, Flatten, Dropout, BatchNormalization\n",
        "from keras.utils import np_utils\n",
        "from tensorflow.keras.utils import to_categorical\n",
        "\n",
        "# ignore warnings \n",
        "if not sys.warnoptions:\n",
        "    warnings.simplefilter(\"ignore\")\n",
        "warnings.filterwarnings(\"ignore\", category=DeprecationWarning) "
      ]
    },
    {
      "cell_type": "code",
      "execution_count": 3,
      "id": "0b69748d",
      "metadata": {
        "gather": {
          "logged": 1674645943586
        }
      },
      "outputs": [
        {
          "name": "stdout",
          "output_type": "stream",
          "text": [
            "(22788, 163)\n"
          ]
        }
      ],
      "source": [
        "Features = pd.read_csv('csv/features_augmentation_pl.csv')\n",
        "print(Features.shape)"
      ]
    },
    {
      "cell_type": "code",
      "execution_count": 4,
      "id": "106a9ff0",
      "metadata": {
        "gather": {
          "logged": 1674645943923
        }
      },
      "outputs": [
        {
          "name": "stdout",
          "output_type": "stream",
          "text": [
            "(22786, 163)\n"
          ]
        }
      ],
      "source": [
        "# Fill NaN with 0\n",
        "Features = Features.dropna()\n",
        "print(Features.shape)"
      ]
    },
    {
      "cell_type": "code",
      "execution_count": 5,
      "id": "cb37dbdf-3a4c-4313-93cb-30050c96ea0b",
      "metadata": {
        "gather": {
          "logged": 1674645944192
        },
        "jupyter": {
          "outputs_hidden": false,
          "source_hidden": false
        },
        "nteract": {
          "transient": {
            "deleting": false
          }
        }
      },
      "outputs": [],
      "source": [
        "Features = Features.sample(frac=1, random_state=42).reset_index(drop=True)"
      ]
    },
    {
      "cell_type": "code",
      "execution_count": 6,
      "id": "5e83040f",
      "metadata": {
        "gather": {
          "logged": 1674645944442
        }
      },
      "outputs": [],
      "source": [
        "X = Features.iloc[: ,:-1].values\n",
        "Y = Features['labels'].values"
      ]
    },
    {
      "cell_type": "code",
      "execution_count": 7,
      "id": "88b376db",
      "metadata": {
        "gather": {
          "logged": 1674645944758
        }
      },
      "outputs": [
        {
          "data": {
            "text/plain": [
              "[array(['angry', 'happy', 'neutral', 'sad', 'surprise'], dtype=object)]"
            ]
          },
          "execution_count": 7,
          "metadata": {},
          "output_type": "execute_result"
        }
      ],
      "source": [
        "# As this is a multiclass classification problem onehotencoding our Y.\n",
        "encoder = OneHotEncoder()\n",
        "np.array(Y).reshape(-1,1)\n",
        "Y = encoder.fit_transform(np.array(Y).reshape(-1,1)).toarray()\n",
        "encoder.categories_"
      ]
    },
    {
      "cell_type": "code",
      "execution_count": 8,
      "id": "b4924646",
      "metadata": {
        "gather": {
          "logged": 1674645945032
        }
      },
      "outputs": [
        {
          "data": {
            "text/plain": [
              "((18228, 162), (18228, 5), (4558, 162), (4558, 5))"
            ]
          },
          "execution_count": 8,
          "metadata": {},
          "output_type": "execute_result"
        }
      ],
      "source": [
        "# splitting data\n",
        "x_train, x_test, y_train, y_test = train_test_split(X, Y,test_size=0.2, random_state=42, shuffle=True)\n",
        "x_train.shape, y_train.shape, x_test.shape, y_test.shape"
      ]
    },
    {
      "cell_type": "code",
      "execution_count": 9,
      "id": "94467f43",
      "metadata": {
        "gather": {
          "logged": 1674645945308
        }
      },
      "outputs": [
        {
          "data": {
            "text/plain": [
              "((16405, 162),\n",
              " (4558, 162),\n",
              " (1823, 162),\n",
              " (16405, 162),\n",
              " (4558, 162),\n",
              " (1823, 162))"
            ]
          },
          "execution_count": 9,
          "metadata": {},
          "output_type": "execute_result"
        }
      ],
      "source": [
        "x_train, x_val, y_train, y_val = train_test_split(x_train, y_train, random_state=42, test_size=0.1, shuffle=True)\n",
        "x_train.shape, x_test.shape, x_val.shape, x_train.shape, x_test.shape, x_val.shape"
      ]
    },
    {
      "cell_type": "code",
      "execution_count": 10,
      "id": "2d934704",
      "metadata": {
        "gather": {
          "logged": 1674645945677
        }
      },
      "outputs": [
        {
          "data": {
            "text/plain": [
              "((16405, 162, 1),\n",
              " (16405, 5),\n",
              " (4558, 162, 1),\n",
              " (4558, 5),\n",
              " (1823, 162, 1),\n",
              " (1823, 5))"
            ]
          },
          "execution_count": 10,
          "metadata": {},
          "output_type": "execute_result"
        }
      ],
      "source": [
        "# making our data compatible to model.\n",
        "x_train = np.expand_dims(x_train, axis=2)\n",
        "x_test = np.expand_dims(x_test, axis=2)\n",
        "x_val = np.expand_dims(x_val, axis=2)\n",
        "x_train.shape, y_train.shape, x_test.shape, y_test.shape, x_val.shape, y_val.shape"
      ]
    },
    {
      "cell_type": "code",
      "execution_count": 11,
      "id": "b6432c6c-0103-4975-9b2e-76dc70e3318f",
      "metadata": {
        "gather": {
          "logged": 1674645946106
        },
        "jupyter": {
          "outputs_hidden": false,
          "source_hidden": false
        },
        "nteract": {
          "transient": {
            "deleting": false
          }
        }
      },
      "outputs": [
        {
          "name": "stdout",
          "output_type": "stream",
          "text": [
            "Model: \"sequential\"\n",
            "_________________________________________________________________\n",
            " Layer (type)                Output Shape              Param #   \n",
            "=================================================================\n",
            " conv1d (Conv1D)             (None, 162, 128)          768       \n",
            "                                                                 \n",
            " batch_normalization (BatchN  (None, 162, 128)         512       \n",
            " ormalization)                                                   \n",
            "                                                                 \n",
            " max_pooling1d (MaxPooling1D  (None, 81, 128)          0         \n",
            " )                                                               \n",
            "                                                                 \n",
            " conv1d_1 (Conv1D)           (None, 81, 256)           164096    \n",
            "                                                                 \n",
            " batch_normalization_1 (Batc  (None, 81, 256)          1024      \n",
            " hNormalization)                                                 \n",
            "                                                                 \n",
            " max_pooling1d_1 (MaxPooling  (None, 41, 256)          0         \n",
            " 1D)                                                             \n",
            "                                                                 \n",
            " conv1d_2 (Conv1D)           (None, 41, 256)           327936    \n",
            "                                                                 \n",
            " batch_normalization_2 (Batc  (None, 41, 256)          1024      \n",
            " hNormalization)                                                 \n",
            "                                                                 \n",
            " max_pooling1d_2 (MaxPooling  (None, 21, 256)          0         \n",
            " 1D)                                                             \n",
            "                                                                 \n",
            " dropout (Dropout)           (None, 21, 256)           0         \n",
            "                                                                 \n",
            " conv1d_3 (Conv1D)           (None, 21, 512)           655872    \n",
            "                                                                 \n",
            " batch_normalization_3 (Batc  (None, 21, 512)          2048      \n",
            " hNormalization)                                                 \n",
            "                                                                 \n",
            " max_pooling1d_3 (MaxPooling  (None, 11, 512)          0         \n",
            " 1D)                                                             \n",
            "                                                                 \n",
            " conv1d_4 (Conv1D)           (None, 11, 512)           1311232   \n",
            "                                                                 \n",
            " batch_normalization_4 (Batc  (None, 11, 512)          2048      \n",
            " hNormalization)                                                 \n",
            "                                                                 \n",
            " max_pooling1d_4 (MaxPooling  (None, 6, 512)           0         \n",
            " 1D)                                                             \n",
            "                                                                 \n",
            " flatten (Flatten)           (None, 3072)              0         \n",
            "                                                                 \n",
            " dense (Dense)               (None, 512)               1573376   \n"
          ]
        },
        {
          "name": "stderr",
          "output_type": "stream",
          "text": [
            "2023-01-25 11:25:44.015770: I tensorflow/core/platform/cpu_feature_guard.cc:193] This TensorFlow binary is optimized with oneAPI Deep Neural Network Library (oneDNN) to use the following CPU instructions in performance-critical operations:  AVX2 FMA\n",
            "To enable them in other operations, rebuild TensorFlow with the appropriate compiler flags.\n",
            "2023-01-25 11:25:44.610936: I tensorflow/core/common_runtime/gpu/gpu_device.cc:1616] Created device /job:localhost/replica:0/task:0/device:GPU:0 with 10787 MB memory:  -> device: 0, name: Tesla K80, pci bus id: 0001:00:00.0, compute capability: 3.7\n"
          ]
        }
      ],
      "source": [
        "model = Sequential()\n",
        "model.add(Conv1D(128, kernel_size=5, strides=1,\n",
        "                        padding=\"same\", activation=\"relu\",\n",
        "                        input_shape=(x_train.shape[1], 1)))\n",
        "model.add(BatchNormalization())\n",
        "model.add(MaxPooling1D(pool_size=3, strides=2, padding=\"same\"))\n",
        "\n",
        "model.add(Conv1D(256, kernel_size=5, strides=1,padding=\"same\", activation=\"relu\"))\n",
        "model.add(BatchNormalization())\n",
        "model.add(MaxPooling1D(pool_size=3, strides=2, padding=\"same\"))\n",
        "\n",
        "model.add(Conv1D(256, kernel_size=5, strides=1,padding=\"same\", activation=\"relu\"))\n",
        "model.add(BatchNormalization())\n",
        "model.add(MaxPooling1D(pool_size=3, strides=2, padding=\"same\"))\n",
        "\n",
        "model.add(Dropout(0.25))\n",
        "\n",
        "model.add(Conv1D(512, kernel_size=5, strides=1, padding='same', activation='relu'))\n",
        "model.add(BatchNormalization())\n",
        "model.add(MaxPooling1D(pool_size=3, strides = 2, padding = 'same'))\n",
        "\n",
        "model.add(Conv1D(512, kernel_size=5, strides=1, padding='same', activation='relu'))\n",
        "model.add(BatchNormalization())\n",
        "model.add(MaxPooling1D(pool_size=3, strides = 2, padding = 'same'))\n",
        "\n",
        "\n",
        "\n",
        "model.add(Flatten())\n",
        "model.add(Dense(512, activation='relu'))\n",
        "model.add(Dropout(0.25))\n",
        "model.add(Dense(5, activation=\"softmax\"))\n",
        "\n",
        "model.compile(optimizer=\"adam\", loss=\"categorical_crossentropy\", metrics=['accuracy'])\n",
        "model.summary()\n"
      ]
    },
    {
      "cell_type": "code",
      "execution_count": 12,
      "id": "c0575a0a",
      "metadata": {
        "gather": {
          "logged": 1674645946375
        }
      },
      "outputs": [],
      "source": [
        "learning_rate_reduction = ReduceLROnPlateau(monitor='val_accuracy',\n",
        "                                            patience=3,\n",
        "                                            verbose=1,\n",
        "                                            factor=0.5,\n",
        "                                            min_lr=0.00001)\n",
        "callbacks= [learning_rate_reduction]"
      ]
    },
    {
      "cell_type": "code",
      "execution_count": 13,
      "id": "4158ff53",
      "metadata": {
        "gather": {
          "logged": 1674646564131
        }
      },
      "outputs": [
        {
          "name": "stdout",
          "output_type": "stream",
          "text": [
            "Epoch 1/64\n",
            "257/257 [==============================] - 15s 42ms/step - loss: 1.3590 - accuracy: 0.4449 - val_loss: 2.6919 - val_accuracy: 0.2090 - lr: 0.0010\b\b\b\b\b\b\b\b\b\b\b\b\b\b\b\b\b\b\b\b\b\b\b\b\b\b\b\b\b\n",
            "Epoch 2/64\n",
            "257/257 [==============================] - 9s 35ms/step - loss: 1.0369 - accuracy: 0.5535 - val_loss: 1.9018 - val_accuracy: 0.3247 - lr: 0.0010\b\b\b\b\b\b\b\b\b\b\b\b\b\b\b\b\b\b\b\b\b\b\b\b\n",
            "Epoch 3/64\n",
            "257/257 [==============================] - 9s 35ms/step - loss: 0.9647 - accuracy: 0.5872 - val_loss: 2.2809 - val_accuracy: 0.3686 - lr: 0.0010\b\b\b\b\b\b\b\b\b\b\b\b\b\b\b\b\b\b\b\b\b\b\b\b\n",
            "Epoch 4/64\n",
            "257/257 [==============================] - 9s 35ms/step - loss: 0.9148 - accuracy: 0.6078 - val_loss: 2.5046 - val_accuracy: 0.4163 - lr: 0.0010\b\b\b\b\b\b\b\b\b\b\b\b\b\b\b\b\b\b\b\b\b\b\b\b\n",
            "Epoch 5/64\n",
            "257/257 [==============================] - 9s 35ms/step - loss: 0.8789 - accuracy: 0.6271 - val_loss: 1.2892 - val_accuracy: 0.5123 - lr: 0.0010\b\b\b\b\b\b\b\b\b\b\b\b\b\b\b\b\b\b\b\b\b\b\b\b\n",
            "Epoch 6/64\n",
            "257/257 [==============================] - 9s 35ms/step - loss: 0.8536 - accuracy: 0.6330 - val_loss: 1.2743 - val_accuracy: 0.5101 - lr: 0.0010\b\b\b\b\b\b\b\b\b\b\b\b\b\b\b\b\b\b\b\b\b\b\b\b\n",
            "Epoch 7/64\n",
            "257/257 [==============================] - 9s 35ms/step - loss: 0.8238 - accuracy: 0.6455 - val_loss: 1.4634 - val_accuracy: 0.5288 - lr: 0.0010\b\b\b\b\b\b\b\b\b\b\b\b\b\b\b\b\b\b\b\b\b\b\b\b\n",
            "Epoch 8/64\n",
            "257/257 [==============================] - 9s 35ms/step - loss: 0.8136 - accuracy: 0.6502 - val_loss: 1.7908 - val_accuracy: 0.4158 - lr: 0.0010\b\b\b\b\b\b\b\b\b\b\b\b\b\b\b\b\b\b\b\b\b\b\b\b\n",
            "Epoch 9/64\n",
            "257/257 [==============================] - 9s 35ms/step - loss: 0.7854 - accuracy: 0.6667 - val_loss: 1.0843 - val_accuracy: 0.5831 - lr: 0.0010\b\b\b\b\b\b\b\b\b\b\b\b\b\b\b\b\b\b\b\b\b\b\b\b\n",
            "Epoch 10/64\n",
            "257/257 [==============================] - 9s 36ms/step - loss: 0.7643 - accuracy: 0.6764 - val_loss: 1.1260 - val_accuracy: 0.5941 - lr: 0.0010\b\b\b\b\b\b\b\b\b\b\b\b\b\b\b\b\b\b\b\b\b\b\b\b\n",
            "Epoch 11/64\n",
            "257/257 [==============================] - 9s 36ms/step - loss: 0.7401 - accuracy: 0.6878 - val_loss: 0.9316 - val_accuracy: 0.6297 - lr: 0.0010\b\b\b\b\b\b\b\b\b\b\b\b\b\b\b\b\b\b\b\b\b\b\b\b\b\b\n",
            "Epoch 12/64\n",
            "257/257 [==============================] - 9s 36ms/step - loss: 0.7333 - accuracy: 0.6894 - val_loss: 0.8424 - val_accuracy: 0.6572 - lr: 0.0010\b\b\b\b\b\b\b\b\b\b\b\b\b\b\b\b\b\b\b\b\b\b\b\b\n",
            "Epoch 13/64\n",
            "257/257 [==============================] - 9s 36ms/step - loss: 0.7055 - accuracy: 0.7051 - val_loss: 1.1834 - val_accuracy: 0.6155 - lr: 0.0010\b\b\b\b\b\b\b\b\b\b\b\b\b\b\b\b\b\b\b\b\b\b\b\b\n",
            "Epoch 14/64\n",
            "257/257 [==============================] - 9s 36ms/step - loss: 0.6850 - accuracy: 0.7122 - val_loss: 1.3869 - val_accuracy: 0.5425 - lr: 0.0010\b\b\b\b\b\b\b\b\b\b\b\b\b\b\b\b\b\b\b\b\b\b\b\b\n",
            "Epoch 15/64\n",
            "256/257 [============================>.] - ETA: 0s - loss: 0.6654 - accuracy: 0.7235\b\b\b\b\b\b\b\b\b\b\b\b\b\b\b\b\b\b\b\b\b\b\b\b\b\b\b\b\b\b\b\b\b\b\b\b\b\b\b\b\b\b\b\b\b\b\b\b\b\b\b\b\b\b\b\b\b\b\b\b\b\b\b\b\b\b\b\b\b\b\b\b\b\b\b\b\b\b\b\b\b\b\b\b\b\b\n",
            "Epoch 15: ReduceLROnPlateau reducing learning rate to 0.0005000000237487257.\n",
            "257/257 [==============================] - 9s 36ms/step - loss: 0.6657 - accuracy: 0.7234 - val_loss: 1.3711 - val_accuracy: 0.5754 - lr: 0.0010\n",
            "Epoch 16/64\n",
            "257/257 [==============================] - 9s 37ms/step - loss: 0.5941 - accuracy: 0.7523 - val_loss: 1.6840 - val_accuracy: 0.4959 - lr: 5.0000e-04\b\b\b\b\b\b\b\b\b\b\b\b\b\b\b\b\b\b\b\b\n",
            "Epoch 17/64\n",
            "257/257 [==============================] - 9s 36ms/step - loss: 0.5658 - accuracy: 0.7683 - val_loss: 0.7497 - val_accuracy: 0.6912 - lr: 5.0000e-04\b\b\b\b\b\b\b\b\b\b\b\b\b\b\b\b\b\b\b\b\n",
            "Epoch 18/64\n",
            "257/257 [==============================] - 9s 36ms/step - loss: 0.5414 - accuracy: 0.7762 - val_loss: 0.9259 - val_accuracy: 0.6895 - lr: 5.0000e-04\b\b\b\b\b\b\b\b\b\b\b\b\b\b\b\b\b\b\b\b\b\b\n",
            "Epoch 19/64\n",
            "257/257 [==============================] - 9s 36ms/step - loss: 0.5162 - accuracy: 0.7876 - val_loss: 3.6260 - val_accuracy: 0.5540 - lr: 5.0000e-04\b\b\b\b\b\b\b\b\b\b\b\b\b\b\b\b\b\b\b\b\n",
            "Epoch 20/64\n",
            "257/257 [==============================] - 9s 36ms/step - loss: 0.4979 - accuracy: 0.8001 - val_loss: 0.8152 - val_accuracy: 0.6934 - lr: 5.0000e-04\b\b\b\b\b\b\b\b\b\b\b\b\b\b\b\b\b\b\b\b\b\b\n",
            "Epoch 21/64\n",
            "257/257 [==============================] - 9s 36ms/step - loss: 0.4844 - accuracy: 0.8039 - val_loss: 3.9220 - val_accuracy: 0.4679 - lr: 5.0000e-04\b\b\b\b\b\b\b\b\b\b\b\b\b\b\b\b\b\b\b\b\n",
            "Epoch 22/64\n",
            "257/257 [==============================] - 9s 36ms/step - loss: 0.4659 - accuracy: 0.8175 - val_loss: 0.6601 - val_accuracy: 0.7394 - lr: 5.0000e-04\b\b\b\b\b\b\b\b\b\b\b\b\b\b\b\b\b\b\b\b\b\b\n",
            "Epoch 23/64\n",
            "257/257 [==============================] - 9s 36ms/step - loss: 0.4303 - accuracy: 0.8258 - val_loss: 0.7288 - val_accuracy: 0.7109 - lr: 5.0000e-04\b\b\b\b\b\b\b\b\b\b\b\b\b\b\b\b\b\b\b\b\b\b\n",
            "Epoch 24/64\n",
            "257/257 [==============================] - 9s 37ms/step - loss: 0.4225 - accuracy: 0.8327 - val_loss: 0.9709 - val_accuracy: 0.6533 - lr: 5.0000e-04\b\b\b\b\b\b\b\b\b\b\b\b\b\b\b\b\b\b\b\b\n",
            "Epoch 25/64\n",
            "257/257 [==============================] - ETA: 0s - loss: 0.4002 - accuracy: 0.8443\b\b\b\b\b\b\b\b\b\b\b\b\b\b\b\b\b\b\b\b\b\b\b\b\b\b\b\b\b\b\b\b\b\b\b\b\b\b\b\b\b\b\b\b\b\b\b\b\b\b\b\b\b\b\b\b\b\b\b\b\b\b\b\b\b\b\b\b\b\b\b\b\b\b\b\b\b\b\b\b\b\b\b\b\n",
            "Epoch 25: ReduceLROnPlateau reducing learning rate to 0.0002500000118743628.\n",
            "257/257 [==============================] - 10s 38ms/step - loss: 0.4002 - accuracy: 0.8443 - val_loss: 0.7774 - val_accuracy: 0.6956 - lr: 5.0000e-04\n",
            "Epoch 26/64\n",
            "257/257 [==============================] - 9s 37ms/step - loss: 0.3452 - accuracy: 0.8617 - val_loss: 0.5623 - val_accuracy: 0.7916 - lr: 2.5000e-04\b\b\b\b\b\b\b\b\b\b\b\b\b\b\b\b\b\b\b\b\n",
            "Epoch 27/64\n",
            "257/257 [==============================] - 10s 37ms/step - loss: 0.3212 - accuracy: 0.8733 - val_loss: 0.7222 - val_accuracy: 0.7608 - lr: 2.5000e-04\b\b\b\b\b\b\b\b\b\b\b\b\b\b\b\b\b\b\b\n",
            "Epoch 28/64\n",
            "257/257 [==============================] - 9s 36ms/step - loss: 0.2996 - accuracy: 0.8826 - val_loss: 1.2113 - val_accuracy: 0.7049 - lr: 2.5000e-04\b\b\b\b\b\b\b\b\b\b\b\b\b\b\b\b\b\b\b\b\n",
            "Epoch 29/64\n",
            "257/257 [==============================] - 10s 38ms/step - loss: 0.2813 - accuracy: 0.8870 - val_loss: 0.6216 - val_accuracy: 0.8124 - lr: 2.5000e-04\b\b\b\b\b\b\b\b\b\b\b\b\b\b\b\b\b\b\b\n",
            "Epoch 30/64\n",
            "257/257 [==============================] - 10s 38ms/step - loss: 0.2735 - accuracy: 0.8931 - val_loss: 0.8644 - val_accuracy: 0.7405 - lr: 2.5000e-04\b\b\b\b\b\b\b\b\b\b\b\b\b\b\b\b\b\b\b\n",
            "Epoch 31/64\n",
            "257/257 [==============================] - 10s 38ms/step - loss: 0.2568 - accuracy: 0.8986 - val_loss: 0.6372 - val_accuracy: 0.7784 - lr: 2.5000e-04\b\b\b\b\b\b\b\b\b\b\b\b\b\b\b\b\b\b\b\n",
            "Epoch 32/64\n",
            "257/257 [==============================] - ETA: 0s - loss: 0.2445 - accuracy: 0.9025\b\b\b\b\b\b\b\b\b\b\b\b\b\b\b\b\b\b\b\b\b\b\b\b\b\b\b\b\b\b\b\b\b\b\b\b\b\b\b\b\b\b\b\b\b\b\b\b\b\b\b\b\b\b\b\b\b\b\b\b\b\b\b\b\b\b\b\b\b\b\b\b\b\b\b\b\b\b\b\b\b\b\b\b\n",
            "Epoch 32: ReduceLROnPlateau reducing learning rate to 0.0001250000059371814.\n",
            "257/257 [==============================] - 10s 38ms/step - loss: 0.2445 - accuracy: 0.9025 - val_loss: 0.6579 - val_accuracy: 0.7899 - lr: 2.5000e-04\n",
            "Epoch 33/64\n",
            "257/257 [==============================] - 10s 38ms/step - loss: 0.2185 - accuracy: 0.9159 - val_loss: 0.6476 - val_accuracy: 0.8162 - lr: 1.2500e-04\b\b\b\b\b\b\b\b\b\b\b\b\b\b\b\b\b\b\b\n",
            "Epoch 34/64\n",
            "257/257 [==============================] - 10s 38ms/step - loss: 0.1966 - accuracy: 0.9245 - val_loss: 0.6516 - val_accuracy: 0.8064 - lr: 1.2500e-04\b\b\b\b\b\b\b\b\b\b\b\b\b\b\b\b\b\b\b\n",
            "Epoch 35/64\n",
            "257/257 [==============================] - 10s 38ms/step - loss: 0.1897 - accuracy: 0.9267 - val_loss: 0.8940 - val_accuracy: 0.7784 - lr: 1.2500e-04\b\b\b\b\b\b\b\b\b\b\b\b\b\b\b\b\b\b\b\n",
            "Epoch 36/64\n",
            "257/257 [==============================] - 10s 39ms/step - loss: 0.1755 - accuracy: 0.9308 - val_loss: 0.5863 - val_accuracy: 0.8354 - lr: 1.2500e-04\b\b\b\b\b\b\b\b\b\b\b\b\b\b\b\b\b\b\b\n",
            "Epoch 37/64\n",
            "257/257 [==============================] - 10s 37ms/step - loss: 0.1715 - accuracy: 0.9344 - val_loss: 0.9346 - val_accuracy: 0.7784 - lr: 1.2500e-04\b\b\b\b\b\b\b\b\b\b\b\b\b\b\b\b\b\b\b\b\b\n",
            "Epoch 38/64\n",
            "257/257 [==============================] - 10s 38ms/step - loss: 0.1686 - accuracy: 0.9342 - val_loss: 0.8776 - val_accuracy: 0.8042 - lr: 1.2500e-04\b\b\b\b\b\b\b\b\b\b\b\b\b\b\b\b\b\b\b\b\b\n",
            "Epoch 39/64\n",
            "257/257 [==============================] - ETA: 0s - loss: 0.1602 - accuracy: 0.9387\b\b\b\b\b\b\b\b\b\b\b\b\b\b\b\b\b\b\b\b\b\b\b\b\b\b\b\b\b\b\b\b\b\b\b\b\b\b\b\b\b\b\b\b\b\b\b\b\b\b\b\b\b\b\b\b\b\b\b\b\b\b\b\b\b\b\b\b\b\b\b\b\b\b\b\b\b\b\b\b\b\b\b\b\n",
            "Epoch 39: ReduceLROnPlateau reducing learning rate to 6.25000029685907e-05.\n",
            "257/257 [==============================] - 9s 36ms/step - loss: 0.1602 - accuracy: 0.9387 - val_loss: 0.6986 - val_accuracy: 0.8151 - lr: 1.2500e-04\n",
            "Epoch 40/64\n",
            "257/257 [==============================] - 10s 38ms/step - loss: 0.1462 - accuracy: 0.9451 - val_loss: 0.6701 - val_accuracy: 0.8316 - lr: 6.2500e-05\b\b\b\b\b\b\b\b\b\b\b\b\b\b\b\b\b\b\b\n",
            "Epoch 41/64\n",
            "257/257 [==============================] - 9s 37ms/step - loss: 0.1370 - accuracy: 0.9494 - val_loss: 0.6411 - val_accuracy: 0.8393 - lr: 6.2500e-05\b\b\b\b\b\b\b\b\b\b\b\b\b\b\b\b\b\b\b\b\n",
            "Epoch 42/64\n",
            "257/257 [==============================] - 10s 39ms/step - loss: 0.1329 - accuracy: 0.9486 - val_loss: 0.7241 - val_accuracy: 0.8354 - lr: 6.2500e-05\b\b\b\b\b\b\b\b\b\b\b\b\b\b\b\b\b\b\b\n",
            "Epoch 43/64\n",
            "257/257 [==============================] - 10s 39ms/step - loss: 0.1307 - accuracy: 0.9498 - val_loss: 0.6443 - val_accuracy: 0.8426 - lr: 6.2500e-05\b\b\b\b\b\b\b\b\b\b\b\b\b\b\b\b\b\b\b\n",
            "Epoch 44/64\n",
            "257/257 [==============================] - 10s 38ms/step - loss: 0.1295 - accuracy: 0.9512 - val_loss: 0.9256 - val_accuracy: 0.8036 - lr: 6.2500e-05\b\b\b\b\b\b\b\b\b\b\b\b\b\b\b\b\b\b\b\n",
            "Epoch 45/64\n",
            "257/257 [==============================] - 10s 38ms/step - loss: 0.1237 - accuracy: 0.9536 - val_loss: 0.9401 - val_accuracy: 0.8091 - lr: 6.2500e-05\b\b\b\b\b\b\b\b\b\b\b\b\b\b\b\b\b\b\b\b\b\n",
            "Epoch 46/64\n",
            "256/257 [============================>.] - ETA: 0s - loss: 0.1194 - accuracy: 0.9545\b\b\b\b\b\b\b\b\b\b\b\b\b\b\b\b\b\b\b\b\b\b\b\b\b\b\b\b\b\b\b\b\b\b\b\b\b\b\b\b\b\b\b\b\b\b\b\b\b\b\b\b\b\b\b\b\b\b\b\b\b\b\b\b\b\b\b\b\b\b\b\b\b\b\b\b\b\b\b\b\b\b\b\b\n",
            "Epoch 46: ReduceLROnPlateau reducing learning rate to 3.125000148429535e-05.\n",
            "257/257 [==============================] - 10s 38ms/step - loss: 0.1194 - accuracy: 0.9545 - val_loss: 0.7436 - val_accuracy: 0.8387 - lr: 6.2500e-05\n",
            "Epoch 47/64\n",
            "257/257 [==============================] - 10s 38ms/step - loss: 0.1113 - accuracy: 0.9585 - val_loss: 0.7073 - val_accuracy: 0.8470 - lr: 3.1250e-05\b\b\b\b\b\b\b\b\b\b\b\b\b\b\b\b\b\b\b\b\b\n",
            "Epoch 48/64\n",
            "257/257 [==============================] - 10s 39ms/step - loss: 0.1062 - accuracy: 0.9592 - val_loss: 0.7118 - val_accuracy: 0.8491 - lr: 3.1250e-05\b\b\b\b\b\b\b\b\b\b\b\b\b\b\b\b\b\b\b\n",
            "Epoch 49/64\n",
            "257/257 [==============================] - 10s 38ms/step - loss: 0.1070 - accuracy: 0.9581 - val_loss: 0.7245 - val_accuracy: 0.8470 - lr: 3.1250e-05\b\b\b\b\b\b\b\b\b\b\b\b\b\b\b\b\b\b\b\n",
            "Epoch 50/64\n",
            "257/257 [==============================] - 10s 39ms/step - loss: 0.1077 - accuracy: 0.9590 - val_loss: 0.6625 - val_accuracy: 0.8448 - lr: 3.1250e-05\b\b\b\b\b\b\b\b\b\b\b\b\b\b\b\b\b\b\b\n",
            "Epoch 51/64\n",
            "256/257 [============================>.] - ETA: 0s - loss: 0.1069 - accuracy: 0.9606\b\b\b\b\b\b\b\b\b\b\b\b\b\b\b\b\b\b\b\b\b\b\b\b\b\b\b\b\b\b\b\b\b\b\b\b\b\b\b\b\b\b\b\b\b\b\b\b\b\b\b\b\b\b\b\b\b\b\b\b\b\b\b\b\b\b\b\b\b\b\b\b\b\b\b\b\b\b\b\b\b\b\b\b\b\b\n",
            "Epoch 51: ReduceLROnPlateau reducing learning rate to 1.5625000742147677e-05.\n",
            "257/257 [==============================] - 10s 39ms/step - loss: 0.1070 - accuracy: 0.9606 - val_loss: 0.7235 - val_accuracy: 0.8409 - lr: 3.1250e-05\n",
            "Epoch 52/64\n",
            "257/257 [==============================] - 10s 38ms/step - loss: 0.0998 - accuracy: 0.9621 - val_loss: 0.6863 - val_accuracy: 0.8502 - lr: 1.5625e-05\b\b\b\b\b\b\b\b\b\b\b\b\b\b\b\b\b\b\b\n",
            "Epoch 53/64\n",
            "257/257 [==============================] - 10s 38ms/step - loss: 0.1002 - accuracy: 0.9617 - val_loss: 0.6949 - val_accuracy: 0.8464 - lr: 1.5625e-05\b\b\b\b\b\b\b\b\b\b\b\b\b\b\b\b\b\b\b\b\b\n",
            "Epoch 54/64\n",
            "257/257 [==============================] - 10s 39ms/step - loss: 0.1014 - accuracy: 0.9616 - val_loss: 0.7150 - val_accuracy: 0.8470 - lr: 1.5625e-05\b\b\b\b\b\b\b\b\b\b\b\b\b\b\b\b\b\b\b\b\b\n",
            "Epoch 55/64\n",
            "257/257 [==============================] - 10s 38ms/step - loss: 0.0974 - accuracy: 0.9646 - val_loss: 0.7041 - val_accuracy: 0.8530 - lr: 1.5625e-05\b\b\b\b\b\b\b\b\b\b\b\b\b\b\b\b\b\b\b\b\b\n",
            "Epoch 56/64\n",
            "257/257 [==============================] - 10s 38ms/step - loss: 0.0902 - accuracy: 0.9647 - val_loss: 0.7847 - val_accuracy: 0.8382 - lr: 1.5625e-05\b\b\b\b\b\b\b\b\b\b\b\b\b\b\b\b\b\b\b\n",
            "Epoch 57/64\n",
            "257/257 [==============================] - 10s 40ms/step - loss: 0.0975 - accuracy: 0.9628 - val_loss: 0.7203 - val_accuracy: 0.8459 - lr: 1.5625e-05\b\b\b\b\b\b\b\b\b\b\b\b\b\b\b\b\b\b\b\n",
            "Epoch 58/64\n",
            "257/257 [==============================] - ETA: 0s - loss: 0.0930 - accuracy: 0.9645\b\b\b\b\b\b\b\b\b\b\b\b\b\b\b\b\b\b\b\b\b\b\b\b\b\b\b\b\b\b\b\b\b\b\b\b\b\b\b\b\b\b\b\b\b\b\b\b\b\b\b\b\b\b\b\b\b\b\b\b\b\b\b\b\b\b\b\b\b\b\b\b\b\b\b\b\b\b\b\b\b\b\b\b\b\b\n",
            "Epoch 58: ReduceLROnPlateau reducing learning rate to 1e-05.\n",
            "257/257 [==============================] - 10s 37ms/step - loss: 0.0930 - accuracy: 0.9645 - val_loss: 0.6987 - val_accuracy: 0.8481 - lr: 1.5625e-05\n",
            "Epoch 59/64\n",
            "257/257 [==============================] - 10s 39ms/step - loss: 0.0937 - accuracy: 0.9642 - val_loss: 0.7267 - val_accuracy: 0.8502 - lr: 1.0000e-05\b\b\b\b\b\b\b\b\b\b\b\b\b\b\b\b\b\b\b\n",
            "Epoch 60/64\n",
            "257/257 [==============================] - 10s 41ms/step - loss: 0.0911 - accuracy: 0.9662 - val_loss: 0.7386 - val_accuracy: 0.8415 - lr: 1.0000e-05\b\b\b\b\b\b\b\b\b\b\b\b\b\b\b\b\b\b\b\n",
            "Epoch 61/64\n",
            "257/257 [==============================] - 10s 39ms/step - loss: 0.0916 - accuracy: 0.9649 - val_loss: 0.6986 - val_accuracy: 0.8502 - lr: 1.0000e-05\b\b\b\b\b\b\b\b\b\b\b\b\b\b\b\b\b\b\b\b\b\n",
            "Epoch 62/64\n",
            "257/257 [==============================] - 10s 37ms/step - loss: 0.0909 - accuracy: 0.9672 - val_loss: 0.7197 - val_accuracy: 0.8491 - lr: 1.0000e-05\b\b\b\b\b\b\b\b\b\b\b\b\b\b\b\b\b\b\b\n",
            "Epoch 63/64\n",
            "257/257 [==============================] - 10s 40ms/step - loss: 0.0846 - accuracy: 0.9669 - val_loss: 0.7534 - val_accuracy: 0.8453 - lr: 1.0000e-05\b\b\b\b\b\b\b\b\b\b\b\b\b\b\b\b\b\b\b\n",
            "Epoch 64/64\n",
            "257/257 [==============================] - 10s 39ms/step - loss: 0.0880 - accuracy: 0.9676 - val_loss: 0.6925 - val_accuracy: 0.8497 - lr: 1.0000e-05\b\b\b\b\b\b\b\b\b\b\b\b\b\b\b\b\b\b\b\n"
          ]
        },
        {
          "name": "stderr",
          "output_type": "stream",
          "text": [
            "2023-01-25 11:25:47.529653: I tensorflow/stream_executor/cuda/cuda_dnn.cc:384] Loaded cuDNN version 8201\n",
            "2023-01-25 11:25:47.788921: I tensorflow/core/platform/default/subprocess.cc:304] Start cannot spawn child process: No such file or directory\n"
          ]
        }
      ],
      "source": [
        "history=model.fit(x_train, y_train, batch_size=64, epochs=64, validation_data=(x_val, y_val),callbacks=callbacks )"
      ]
    },
    {
      "cell_type": "code",
      "execution_count": 14,
      "id": "6d9fa09b",
      "metadata": {
        "gather": {
          "logged": 1674646566191
        }
      },
      "outputs": [
        {
          "name": "stdout",
          "output_type": "stream",
          "text": [
            "143/143 [==============================] - 2s 10ms/step - loss: 0.5941 - accuracy: 0.8684\b\b\b\b\b\b\b\b\b\b\b\b\b\b\b\b\b\b\b\b\b\b\b\b\b\b\b\b\b\b\b\b\b\b\b\b\b\b\b\b\b\b\b\b\b\b\b\b\b\b\b\b\b\b\b\b\b\b\b\b\b\b\b\b\b\b\b\b\b\b\b\b\b\b\b\b\b\b\b\b\b\b\b\n",
            "Accuracy of our model on test data :  86.83633208274841 %\n"
          ]
        }
      ],
      "source": [
        "print(\"Accuracy of our model on test data : \" , model.evaluate(x_test,y_test)[1]*100 , \"%\")"
      ]
    },
    {
      "cell_type": "code",
      "execution_count": 15,
      "id": "07a2ef43-1b1f-4749-8a84-a30d235bce9b",
      "metadata": {
        "gather": {
          "logged": 1674646567102
        },
        "jupyter": {
          "outputs_hidden": false,
          "source_hidden": false
        },
        "nteract": {
          "transient": {
            "deleting": false
          }
        }
      },
      "outputs": [
        {
          "data": {
            "image/png": "[encoded data removed]",
            "text/plain": [
              "<Figure size 432x288 with 1 Axes>"
            ]
          },
          "metadata": {
            "needs_background": "light"
          },
          "output_type": "display_data"
        },
        {
          "data": {
            "image/png": "[encoded data removed]",
            "text/plain": [
              "<Figure size 432x288 with 1 Axes>"
            ]
          },
          "metadata": {
            "needs_background": "light"
          },
          "output_type": "display_data"
        }
      ],
      "source": [
        "plt.plot(history.history['accuracy'])\n",
        "plt.plot(history.history['val_accuracy'])\n",
        "plt.title('model accuracy')\n",
        "plt.ylabel('accuracy')\n",
        "plt.xlabel('epoch')\n",
        "plt.legend(['train', 'test'], loc='upper left')\n",
        "plt.show()\n",
        "\n",
        "plt.plot(history.history['loss'])\n",
        "plt.plot(history.history['val_loss'])\n",
        "plt.title('model loss')\n",
        "plt.ylabel('loss')\n",
        "plt.xlabel('epoch')\n",
        "plt.legend(['train', 'test'], loc='upper left')\n",
        "plt.show()"
      ]
    },
    {
      "cell_type": "code",
      "execution_count": 16,
      "id": "6c60ebd5",
      "metadata": {
        "gather": {
          "logged": 1674646567768
        }
      },
      "outputs": [
        {
          "name": "stdout",
          "output_type": "stream",
          "text": [
            "143/143 [==============================] - 1s 6ms/step\b\b\b\b\b\b\b\b\b\b\b\b\b\b\b\b\b\b\b\b\b\b\b\b\b\b\b\b\b\b\b\b\b\b\b\b\b\b\b\b\b\b\b\b\b\b\b\b\n"
          ]
        }
      ],
      "source": [
        "# predicting on test data.\n",
        "pred_test = model.predict(x_test)\n",
        "\n",
        "y_pred = encoder.inverse_transform(pred_test)\n",
        "y_test = encoder.inverse_transform(y_test)"
      ]
    },
    {
      "cell_type": "code",
      "execution_count": 17,
      "id": "4816f05c-5205-4e4c-86e8-94833b5bfacf",
      "metadata": {
        "gather": {
          "logged": 1674646567993
        },
        "jupyter": {
          "outputs_hidden": false,
          "source_hidden": false
        },
        "nteract": {
          "transient": {
            "deleting": false
          }
        }
      },
      "outputs": [],
      "source": [
        "def plot_value_array(i, predictions_array, true_label):\n",
        "  true_label = true_label[i]\n",
        "  plt.grid(False)\n",
        "  plt.xticks(range(5))\n",
        "  plt.yticks([])\n",
        "  thisplot = plt.bar(range(5), predictions_array, color=\"#777777\")\n",
        "  plt.ylim([0, 1])\n",
        "  predicted_label = np.argmax(predictions_array)\n",
        "\n",
        "  thisplot[predicted_label].set_color('red')\n",
        "  thisplot[true_label].set_color('blue')"
      ]
    },
    {
      "cell_type": "code",
      "execution_count": 18,
      "id": "0fdd49df",
      "metadata": {
        "gather": {
          "logged": 1674646568515
        }
      },
      "outputs": [
        {
          "data": {
            "text/html": [
              "<div>\n",
              "<style scoped>\n",
              "    .dataframe tbody tr th:only-of-type {\n",
              "        vertical-align: middle;\n",
              "    }\n",
              "\n",
              "    .dataframe tbody tr th {\n",
              "        vertical-align: top;\n",
              "    }\n",
              "\n",
              "    .dataframe thead th {\n",
              "        text-align: right;\n",
              "    }\n",
              "</style>\n",
              "<table border=\"1\" class=\"dataframe\">\n",
              "  <thead>\n",
              "    <tr style=\"text-align: right;\">\n",
              "      <th></th>\n",
              "      <th>Predicted Labels</th>\n",
              "      <th>Actual Labels</th>\n",
              "    </tr>\n",
              "  </thead>\n",
              "  <tbody>\n",
              "    <tr>\n",
              "      <th>0</th>\n",
              "      <td>surprise</td>\n",
              "      <td>surprise</td>\n",
              "    </tr>\n",
              "    <tr>\n",
              "      <th>1</th>\n",
              "      <td>surprise</td>\n",
              "      <td>surprise</td>\n",
              "    </tr>\n",
              "    <tr>\n",
              "      <th>2</th>\n",
              "      <td>sad</td>\n",
              "      <td>sad</td>\n",
              "    </tr>\n",
              "    <tr>\n",
              "      <th>3</th>\n",
              "      <td>happy</td>\n",
              "      <td>happy</td>\n",
              "    </tr>\n",
              "    <tr>\n",
              "      <th>4</th>\n",
              "      <td>neutral</td>\n",
              "      <td>happy</td>\n",
              "    </tr>\n",
              "    <tr>\n",
              "      <th>5</th>\n",
              "      <td>angry</td>\n",
              "      <td>angry</td>\n",
              "    </tr>\n",
              "    <tr>\n",
              "      <th>6</th>\n",
              "      <td>sad</td>\n",
              "      <td>sad</td>\n",
              "    </tr>\n",
              "    <tr>\n",
              "      <th>7</th>\n",
              "      <td>happy</td>\n",
              "      <td>happy</td>\n",
              "    </tr>\n",
              "    <tr>\n",
              "      <th>8</th>\n",
              "      <td>surprise</td>\n",
              "      <td>surprise</td>\n",
              "    </tr>\n",
              "    <tr>\n",
              "      <th>9</th>\n",
              "      <td>sad</td>\n",
              "      <td>sad</td>\n",
              "    </tr>\n",
              "    <tr>\n",
              "      <th>10</th>\n",
              "      <td>angry</td>\n",
              "      <td>angry</td>\n",
              "    </tr>\n",
              "    <tr>\n",
              "      <th>11</th>\n",
              "      <td>angry</td>\n",
              "      <td>angry</td>\n",
              "    </tr>\n",
              "    <tr>\n",
              "      <th>12</th>\n",
              "      <td>neutral</td>\n",
              "      <td>neutral</td>\n",
              "    </tr>\n",
              "    <tr>\n",
              "      <th>13</th>\n",
              "      <td>neutral</td>\n",
              "      <td>neutral</td>\n",
              "    </tr>\n",
              "    <tr>\n",
              "      <th>14</th>\n",
              "      <td>surprise</td>\n",
              "      <td>surprise</td>\n",
              "    </tr>\n",
              "    <tr>\n",
              "      <th>15</th>\n",
              "      <td>happy</td>\n",
              "      <td>happy</td>\n",
              "    </tr>\n",
              "    <tr>\n",
              "      <th>16</th>\n",
              "      <td>angry</td>\n",
              "      <td>angry</td>\n",
              "    </tr>\n",
              "    <tr>\n",
              "      <th>17</th>\n",
              "      <td>surprise</td>\n",
              "      <td>sad</td>\n",
              "    </tr>\n",
              "    <tr>\n",
              "      <th>18</th>\n",
              "      <td>happy</td>\n",
              "      <td>happy</td>\n",
              "    </tr>\n",
              "    <tr>\n",
              "      <th>19</th>\n",
              "      <td>happy</td>\n",
              "      <td>happy</td>\n",
              "    </tr>\n",
              "  </tbody>\n",
              "</table>\n",
              "</div>"
            ],
            "text/plain": [
              "   Predicted Labels Actual Labels\n",
              "0          surprise      surprise\n",
              "1          surprise      surprise\n",
              "2               sad           sad\n",
              "3             happy         happy\n",
              "4           neutral         happy\n",
              "5             angry         angry\n",
              "6               sad           sad\n",
              "7             happy         happy\n",
              "8          surprise      surprise\n",
              "9               sad           sad\n",
              "10            angry         angry\n",
              "11            angry         angry\n",
              "12          neutral       neutral\n",
              "13          neutral       neutral\n",
              "14         surprise      surprise\n",
              "15            happy         happy\n",
              "16            angry         angry\n",
              "17         surprise           sad\n",
              "18            happy         happy\n",
              "19            happy         happy"
            ]
          },
          "execution_count": 18,
          "metadata": {},
          "output_type": "execute_result"
        }
      ],
      "source": [
        "df = pd.DataFrame(columns=['Predicted Labels', 'Actual Labels'])\n",
        "df['Predicted Labels'] = y_pred.flatten()\n",
        "df['Actual Labels'] = y_test.flatten()\n",
        "\n",
        "df.head(20)"
      ]
    },
    {
      "cell_type": "code",
      "execution_count": 19,
      "id": "e4b93935",
      "metadata": {
        "gather": {
          "logged": 1674646568859
        }
      },
      "outputs": [
        {
          "data": {
            "image/png": "[encoded data removed]",
            "text/plain": [
              "<Figure size 864x720 with 2 Axes>"
            ]
          },
          "metadata": {
            "needs_background": "light"
          },
          "output_type": "display_data"
        }
      ],
      "source": [
        "cm = confusion_matrix(y_test, y_pred)\n",
        "plt.figure(figsize = (12, 10))\n",
        "cm = pd.DataFrame(cm , index = [i for i in encoder.categories_] , columns = [i for i in encoder.categories_])\n",
        "sns.heatmap(cm, linecolor='white', cmap='Blues', linewidth=1, annot=True, fmt='')\n",
        "plt.title('Confusion Matrix', size=20)\n",
        "plt.xlabel('Predicted Labels', size=14)\n",
        "plt.ylabel('Actual Labels', size=14)\n",
        "plt.show()"
      ]
    },
    {
      "cell_type": "code",
      "execution_count": 20,
      "id": "2f8c4b30",
      "metadata": {
        "gather": {
          "logged": 1674646569102
        }
      },
      "outputs": [
        {
          "name": "stdout",
          "output_type": "stream",
          "text": [
            "              precision    recall  f1-score   support\n",
            "\n",
            "       angry       0.93      0.93      0.93       909\n",
            "       happy       0.88      0.84      0.86      1086\n",
            "     neutral       0.80      0.86      0.83      1037\n",
            "         sad       0.86      0.86      0.86       998\n",
            "    surprise       0.89      0.87      0.88       528\n",
            "\n",
            "    accuracy                           0.87      4558\n",
            "   macro avg       0.87      0.87      0.87      4558\n",
            "weighted avg       0.87      0.87      0.87      4558\n",
            "\n"
          ]
        }
      ],
      "source": [
        "print(classification_report(y_test, y_pred))"
      ]
    },
    {
      "cell_type": "code",
      "execution_count": 21,
      "id": "9c7ac793",
      "metadata": {
        "gather": {
          "logged": 1674646571652
        }
      },
      "outputs": [
        {
          "name": "stdout",
          "output_type": "stream",
          "text": [
            "Save model and weights at /mnt/batch/tasks/shared/LS_root/mounts/clusters/shoaqa161/code/Users/shoaqa16/saved_models/5_Emotion_Model_cnn_82.h5 \n"
          ]
        }
      ],
      "source": [
        "# Save model and weights\n",
        "model_name = '5_Emotion_Model_cnn_87.h5'\n",
        "save_dir = os.path.join(os.getcwd(), 'saved_models')\n",
        "\n",
        "if not os.path.isdir(save_dir):\n",
        "    os.makedirs(save_dir)\n",
        "model_path = os.path.join(save_dir, model_name)\n",
        "model.save(model_path)\n",
        "print('Save model and weights at %s ' % model_path)\n",
        "\n",
        "# Save the model to disk\n",
        "model_json = model.to_json()\n",
        "with open(\"Model Json/5_Emotion_Model_cnn_87.json\", \"w\") as json_file:\n",
        "    json_file.write(model_json)"
      ]
    }
  ],
  "metadata": {
    "kernel_info": {
      "name": "python38-azureml-pt-tf"
    },
    "kernelspec": {
      "display_name": "Python 3.8 - Pytorch and Tensorflow",
      "language": "python",
      "name": "python38-azureml-pt-tf"
    },
    "language_info": {
      "codemirror_mode": {
        "name": "ipython",
        "version": 3
      },
      "file_extension": ".py",
      "mimetype": "text/x-python",
      "name": "python",
      "nbconvert_exporter": "python",
      "pygments_lexer": "ipython3",
      "version": "3.8.5"
    },
    "microsoft": {
      "host": {
        "AzureML": {
          "notebookHasBeenCompleted": true
        }
      }
    },
    "nteract": {
      "version": "nteract-front-end@1.0.0"
    }
  },
  "nbformat": 4,
  "nbformat_minor": 5
}
