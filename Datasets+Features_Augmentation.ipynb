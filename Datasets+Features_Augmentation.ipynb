{
 "cells": [
  {
   "cell_type": "markdown",
   "id": "d69de08f",
   "metadata": {},
   "source": [
    "# <center>Speech Emotion Recognition Datasets test<center>"
   ]
  },
  {
   "cell_type": "code",
   "execution_count": 1,
   "id": "67319f7a-e147-4f38-a774-0e4871a05f0b",
   "metadata": {
    "gather": {
     "logged": 1675932734109
    },
    "jupyter": {
     "outputs_hidden": false,
     "source_hidden": false
    },
    "nteract": {
     "transient": {
      "deleting": false
     }
    }
   },
   "outputs": [],
   "source": [
    "#pip install librosa seaborn"
   ]
  },
  {
   "cell_type": "code",
   "execution_count": 2,
   "id": "847b8ecf",
   "metadata": {
    "gather": {
     "logged": 1675932738063
    }
   },
   "outputs": [],
   "source": [
    "# Import libraries \n",
    "import librosa\n",
    "import matplotlib.pyplot as plt\n",
    "#import tensorflow as tf\n",
    "import seaborn as sns\n",
    "import pandas as pd\n",
    "import numpy as np\n",
    "import os\n",
    "import sys\n",
    "import warnings\n",
    "\n",
    "\n",
    "# ignore warnings \n",
    "if not sys.warnoptions:\n",
    "    warnings.simplefilter(\"ignore\")\n",
    "warnings.filterwarnings(\"ignore\", category=DeprecationWarning) "
   ]
  },
  {
   "cell_type": "code",
   "execution_count": 3,
   "id": "cc95ce63",
   "metadata": {
    "gather": {
     "logged": 1675932738584
    }
   },
   "outputs": [],
   "source": [
    "# Paths for data\n",
    "SAVEE = \"Datasets/surrey-audiovisual-expressed-emotion-savee/ALL/\"\n",
    "RAV = \"Datasets/ravdess-emotional-speech-audio/audio_speech_actors_01-24/\"\n",
    "TESS = \"Datasets/toronto-emotional-speech-set-tess/TESS Toronto emotional speech set data/\"\n",
    "CREMA = \"Datasets/cremad/AudioWAV/\"\n",
    "ANAD = \"Datasets/Arabic Natural Audio Dataset/Speech/\"\n",
    "KSUEmotions = \"Datasets/ksu_emotions/data/SPEECH/\""
   ]
  },
  {
   "cell_type": "markdown",
   "id": "933dd506",
   "metadata": {},
   "source": [
    "#  <center> About Surrey Audio-Visual Expressed Emotion (SAVEE) Dataset <center>\n",
    "The SAVEE database was recorded from four native English male speakers (identified as DC, JE, JK, KL), postgraduate students and researchers at the University of Surrey aged from 27 to 31 years. Emotion has been described psychologically in discrete categories: anger, disgust, fear, happiness, sadness and surprise. A neutral category is also added to provide recordings of 7 emotion categories.\n",
    "\n",
    "The text material consisted of 15 TIMIT sentences per emotion: 3 common, 2 emotion-specific and 10 generic sentences that were different for each emotion and phonetically-balanced. The 3 common and 2 × 6 = 12 emotion-specific sentences were recorded as neutral to give 30 neutral sentences. This resulted in a total of 120 utterances per speaker, for example:\n",
    "\n",
    "Common: She had your dark suit in greasy wash water all year. <br> \n",
    "Anger: Who authorized the unlimited expense account? <br>\n",
    "Disgust: Please take this dirty table cloth to the cleaners for me. <br> \n",
    "Fear: Call an ambulance for medical assistance. <br>\n",
    "Happiness: Those musicians harmonize marvelously. <br>\n",
    "Sadness: The prospect of cutting back spending is an unpleasant one for any governor. <br>\n",
    "Surprise: The carpet cleaners shampooed our oriental rug. <br>\n",
    "Neutral: The best way to learn is to solve extra problems.<br>\n",
    "#### Academic citation \n",
    "@inproceedings{Vlasenko_combiningframe,\n",
    "author = {Vlasenko, Bogdan and Schuller, Bjorn and Wendemuth, Andreas and Rigoll, Gerhard},\n",
    "year = {2007},\n",
    "month = {01},\n",
    "pages = {2249-2252},\n",
    "title = {Combining frame and turn-level information for robust recognition of emotions within speech},\n",
    "journal = {Proceedings of Interspeech}\n",
    "}\n",
    "#### Acquired from\n",
    "https://www.kaggle.com/datasets/ejlok1/surrey-audiovisual-expressed-emotion-savee "
   ]
  },
  {
   "cell_type": "code",
   "execution_count": 4,
   "id": "fa7afae0",
   "metadata": {
    "gather": {
     "logged": 1675932739777
    }
   },
   "outputs": [],
   "source": [
    "# Get the data location for SAVEE\n",
    "dir_list = os.listdir(SAVEE)\n",
    "# parse the filename to get the emotions\n",
    "emotion=[]\n",
    "path = []\n",
    "for i in dir_list:\n",
    "    if i.startswith('.'):\n",
    "        continue\n",
    "        \n",
    "    if i[-8:-6]=='_a':\n",
    "        emotion.append('angry')\n",
    "    elif i[-8:-6]=='_d':\n",
    "        emotion.append('disgust')\n",
    "    elif i[-8:-6]=='_f':\n",
    "        emotion.append('fear')\n",
    "    elif i[-8:-6]=='_h':\n",
    "        emotion.append('happy')\n",
    "    elif i[-8:-6]=='_n':\n",
    "        emotion.append('neutral')\n",
    "    elif i[-8:-6]=='sa':\n",
    "        emotion.append('sad')\n",
    "    elif i[-8:-6]=='su':\n",
    "        emotion.append('surprise')\n",
    "    else:\n",
    "        emotion.append('error') \n",
    "    path.append(SAVEE + i)\n",
    "\n",
    "# Now check out the label count distribution \n",
    "SAVEE_df = pd.DataFrame(emotion, columns = ['labels'])\n",
    "SAVEE_df['source'] = 'SAVEE'\n",
    "SAVEE_df = pd.concat([SAVEE_df, pd.DataFrame(path, columns = ['path'])], axis = 1)\n",
    "#SAVEE_df.labels.value_counts()"
   ]
  },
  {
   "cell_type": "raw",
   "id": "546932bb",
   "metadata": {},
   "source": [
    "# use the Librosa library \n",
    "fname = SAVEE + 'DC_f11.wav'  \n",
    "data, sampling_rate = librosa.load(fname)\n",
    "plt.figure(figsize=(15, 5))\n",
    "librosa.display.waveshow(data, sr=sampling_rate)\n",
    "\n",
    "# Lets play the audio \n",
    "ipd.Audio(fname)"
   ]
  },
  {
   "cell_type": "markdown",
   "id": "a2b87c3a",
   "metadata": {},
   "source": [
    "# <center> Ryerson Audio-Visual Database of Emotional Speech and Song (RAVDESS)<center>"
   ]
  },
  {
   "cell_type": "markdown",
   "id": "aed99f8b",
   "metadata": {},
   "source": [
    "#### Files\n",
    "\n",
    "This portion of the RAVDESS contains 1440 files: 60 trials per actor x 24 actors = 1440. The RAVDESS contains 24 professional actors (12 female, 12 male), vocalizing two lexically-matched statements in a neutral North American accent. Speech emotions includes calm, happy, sad, angry, fearful, surprise, and disgust expressions. Each expression is produced at two levels of emotional intensity (normal, strong), with an additional neutral expression.\n",
    "\n",
    "#### File naming convention\n",
    "\n",
    "Each of the 1440 files has a unique filename. The filename consists of a 7-part numerical identifier (e.g., 03-01-06-01-02-01-12.wav). These identifiers define the stimulus characteristics:\n",
    "\n",
    "#### Filename identifiers\n",
    "\n",
    "Modality (01 = full-AV, 02 = video-only, 03 = audio-only).<br>\n",
    "Vocal channel (01 = speech, 02 = song).<br>\n",
    "Emotion (01 = neutral, 02 = calm, 03 = happy, 04 = sad, 05 = angry, 06 = fearful, 07 = disgust, 08 = surprised).<br>\n",
    "Emotional intensity (01 = normal, 02 = strong). NOTE: There is no strong intensity for the 'neutral' emotion.<br>\n",
    "Statement (01 = \"Kids are talking by the door\", 02 = \"Dogs are sitting by the door\").<br>\n",
    "Repetition (01 = 1st repetition, 02 = 2nd repetition).<br>\n",
    "Actor (01 to 24. Odd numbered actors are male, even numbered actors are female).<br>\n",
    "Filename example: 03-01-06-01-02-01-12.wav<br>\n",
    "Audio-only (03)<br>\n",
    "Speech (01)<br>\n",
    "Fearful (06)<br>\n",
    "Normal intensity (01)<br>\n",
    "Statement \"dogs\" (02)<br>\n",
    "1st Repetition (01)<br>\n",
    "12th Actor (12)<br>\n",
    "Female, as the actor ID number is even.<br>\n",
    "<br>\n",
    "#### Academic citation \n",
    "Livingstone SR, Russo FA (2018) The Ryerson Audio-Visual Database of Emotional Speech and Song (RAVDESS): A dynamic, multimodal set of facial and vocal expressions in North American English. PLoS ONE 13(5): e0196391. https://doi.org/10.1371/journal.pone.0196391.\n",
    "\n",
    "#### Acquired from\n",
    "https://www.kaggle.com/datasets/uwrfkaggler/ravdess-emotional-speech-audio "
   ]
  },
  {
   "cell_type": "code",
   "execution_count": 5,
   "id": "0519815d",
   "metadata": {
    "gather": {
     "logged": 1675932740586
    }
   },
   "outputs": [
    {
     "data": {
      "text/plain": [
       "neutral     288\n",
       "surprise    192\n",
       "angry       192\n",
       "fear        192\n",
       "disgust     192\n",
       "sad         192\n",
       "happy       192\n",
       "Name: labels, dtype: int64"
      ]
     },
     "execution_count": 5,
     "metadata": {},
     "output_type": "execute_result"
    }
   ],
   "source": [
    "dir_list = os.listdir(RAV)\n",
    "dir_list.sort()\n",
    "\n",
    "emotion = []\n",
    "path = []\n",
    "for dir in dir_list:\n",
    "    # as their are 20 different actors in our previous directory we need to extract files for each actor.\n",
    "    actor = os.listdir(RAV + dir)\n",
    "    for file in actor:\n",
    "        if file.startswith('.'):\n",
    "            continue\n",
    "        part = file.split('.')[0]\n",
    "        part = part.split('-')\n",
    "        # third part in each file represents the emotion associated to that file.\n",
    "        emotion.append(int(part[2]))\n",
    "        path.append(RAV + dir + '/' + file)\n",
    "        \n",
    "# dataframe for emotion of files\n",
    "emotion_df = pd.DataFrame(emotion, columns=['labels'])\n",
    "\n",
    "# dataframe for path of files.\n",
    "path_df = pd.DataFrame(path, columns=['path'])\n",
    "RAV_df = pd.concat([emotion_df, path_df], axis=1)\n",
    "RAV_df['source'] = 'RAVDESS'\n",
    "\n",
    "# changing integers to actual emotions.\n",
    "RAV_df.labels.replace({1:'neutral', 2:'neutral', 3:'happy', 4:'sad', 5:'angry', 6:'fear', 7:'disgust', 8:'surprise'}, inplace=True)\n",
    "RAV_df.labels.value_counts()"
   ]
  },
  {
   "cell_type": "raw",
   "id": "76d274e8",
   "metadata": {},
   "source": [
    "# Pick a fearful track\n",
    "fname = RAV + 'Actor_14/03-01-06-02-02-02-14.wav'  \n",
    "data, sampling_rate = librosa.load(fname)\n",
    "plt.figure(figsize=(15, 5))\n",
    "librosa.display.waveshow(data, sr=sampling_rate)\n",
    "\n",
    "# Lets play the audio \n",
    "ipd.Audio(fname)"
   ]
  },
  {
   "cell_type": "markdown",
   "id": "a26891a1",
   "metadata": {},
   "source": [
    "# <center>Toronto emotional speech set (TESS)<center>\n",
    "There are a set of 200 target words were spoken in the carrier phrase \"Say the word _' by two actresses (aged 26 and 64 years) and recordings were made of the set portraying each of seven emotions (anger, disgust, fear, happiness, pleasant surprise, sadness, and neutral). There are 2800 data points (audio files) in total.\n",
    "\n",
    "The dataset is organised such that each of the two female actor and their emotions are contain within its own folder. And within that, all 200 target words audio file can be found. The format of the audio file is a WAV format\n",
    "#### Academic citation \n",
    "“Toronto emotional speech set (TESS) | TSpace Repository.” https://tspace.library.utoronto.ca/handle/1807/24487 (accessed Sep. 11, 2022).\n",
    "#### Acquired from\n",
    "https://www.kaggle.com/datasets/ejlok1/toronto-emotional-speech-set-tess"
   ]
  },
  {
   "cell_type": "code",
   "execution_count": 6,
   "id": "c028a5ee",
   "metadata": {
    "gather": {
     "logged": 1675932741166
    },
    "scrolled": true
   },
   "outputs": [
    {
     "data": {
      "text/plain": [
       "fear        400\n",
       "surprise    400\n",
       "sad         400\n",
       "angry       400\n",
       "disgust     400\n",
       "happy       400\n",
       "neutral     400\n",
       "Unknown      14\n",
       "Name: labels, dtype: int64"
      ]
     },
     "execution_count": 6,
     "metadata": {},
     "output_type": "execute_result"
    }
   ],
   "source": [
    "dir_list = os.listdir(TESS)\n",
    "dir_list.sort()\n",
    "\n",
    "path = []\n",
    "emotion = []\n",
    "\n",
    "for i in dir_list:\n",
    "    fname = os.listdir(TESS + i)\n",
    "    for f in fname:\n",
    "        if i == 'OAF_angry' or i == 'YAF_angry':\n",
    "            emotion.append('angry')\n",
    "        elif i == 'OAF_disgust' or i == 'YAF_disgust':\n",
    "            emotion.append('disgust')\n",
    "        elif i == 'OAF_Fear' or i == 'YAF_fear':\n",
    "            emotion.append('fear')\n",
    "        elif i == 'OAF_happy' or i == 'YAF_happy':\n",
    "            emotion.append('happy')\n",
    "        elif i == 'OAF_neutral' or i == 'YAF_neutral':\n",
    "            emotion.append('neutral')                                \n",
    "        elif i == 'OAF_Pleasant_surprise' or i == 'YAF_pleasant_surprised':\n",
    "            emotion.append('surprise')               \n",
    "        elif i == 'OAF_Sad' or i == 'YAF_sad':\n",
    "            emotion.append('sad')\n",
    "        else:\n",
    "            emotion.append('Unknown')\n",
    "        path.append(TESS + i + \"/\" + f)\n",
    "\n",
    "TESS_df = pd.DataFrame(emotion, columns = ['labels'])\n",
    "TESS_df['source'] = 'TESS'\n",
    "TESS_df = pd.concat([TESS_df,pd.DataFrame(path, columns = ['path'])],axis=1)\n",
    "TESS_df.labels.value_counts()"
   ]
  },
  {
   "cell_type": "code",
   "execution_count": 7,
   "id": "33636a2e",
   "metadata": {
    "gather": {
     "logged": 1675932741766
    }
   },
   "outputs": [
    {
     "data": {
      "text/plain": [
       "fear        400\n",
       "surprise    400\n",
       "sad         400\n",
       "angry       400\n",
       "disgust     400\n",
       "happy       400\n",
       "neutral     400\n",
       "Name: labels, dtype: int64"
      ]
     },
     "execution_count": 7,
     "metadata": {},
     "output_type": "execute_result"
    }
   ],
   "source": [
    "TESS_df.drop(TESS_df[TESS_df['labels']=='Unknown'].index, inplace=True)\n",
    "TESS_df.labels.value_counts()"
   ]
  },
  {
   "cell_type": "raw",
   "id": "6e8978ef",
   "metadata": {},
   "source": [
    "# lets play a fearful track \n",
    "fname = TESS + 'YAF_fear/YAF_dog_fear.wav' \n",
    "\n",
    "data, sampling_rate = librosa.load(fname)\n",
    "plt.figure(figsize=(15, 5))\n",
    "librosa.display.waveshow(data, sr=sampling_rate)\n",
    "\n",
    "# Lets play the audio \n",
    "ipd.Audio(fname)"
   ]
  },
  {
   "cell_type": "markdown",
   "id": "a0130e96",
   "metadata": {},
   "source": [
    "# <center> Crowd Sourced Emotional Multimodal Actors Dataset (CREMA-D) <center>"
   ]
  },
  {
   "cell_type": "markdown",
   "id": "8acd6b7e",
   "metadata": {},
   "source": [
    "CREMA-D is a data set of 7,442 original clips from 91 actors. These clips were from 48 male and 43 female actors between the ages of 20 and 74 coming from a variety of races and ethnicities (African America, Asian, Caucasian, Hispanic, and Unspecified). Actors spoke from a selection of 12 sentences. The sentences were presented using one of six different emotions (Anger, Disgust, Fear, Happy, Neutral, and Sad) and four different emotion levels (Low, Medium, High, and Unspecified).\n",
    "#### Academic citation \n",
    "Cao H, Cooper DG, Keutmann MK, Gur RC, Nenkova A, Verma R. CREMA-D: Crowd-sourced Emotional Multimodal Actors Dataset. IEEE Trans Affect Comput. 2014 Oct-Dec;5(4):377-390. doi: 10.1109/TAFFC.2014.2336244. PMID: 25653738; PMCID: PMC4313618.\n",
    "#### Acquired from\n",
    "https://www.kaggle.com/datasets/ejlok1/cremad "
   ]
  },
  {
   "cell_type": "code",
   "execution_count": 8,
   "id": "f0f40141",
   "metadata": {
    "gather": {
     "logged": 1675932743121
    }
   },
   "outputs": [
    {
     "data": {
      "text/plain": [
       "angry      1271\n",
       "disgust    1271\n",
       "sad        1271\n",
       "fear       1271\n",
       "happy      1271\n",
       "neutral    1087\n",
       "Name: labels, dtype: int64"
      ]
     },
     "execution_count": 8,
     "metadata": {},
     "output_type": "execute_result"
    }
   ],
   "source": [
    "dir_list = os.listdir(CREMA)\n",
    "dir_list.sort()\n",
    "\n",
    "emotion = []\n",
    "path = []\n",
    "\n",
    "for wav in os.listdir(CREMA):\n",
    "    if wav.startswith('.'):\n",
    "        continue\n",
    "    info = wav.partition(\".wav\")[0].split(\"_\")\n",
    "    if info[2] == 'SAD':\n",
    "        emotion.append(\"sad\")\n",
    "    elif info[2] == 'ANG':\n",
    "        emotion.append(\"angry\")\n",
    "    elif info[2] == 'DIS':\n",
    "        emotion.append(\"disgust\")\n",
    "    elif info[2] == 'FEA':\n",
    "        emotion.append(\"fear\")\n",
    "    elif info[2] == 'HAP':\n",
    "        emotion.append(\"happy\")\n",
    "    elif info[2] == 'NEU':\n",
    "        emotion.append(\"neutral\")\n",
    "    else:\n",
    "        emotion.append(\"unknown\")\n",
    "    path.append(CREMA + wav)\n",
    "\n",
    "    \n",
    "CREMA_df = pd.DataFrame(emotion, columns = ['labels'])\n",
    "CREMA_df['source'] = 'CREMA'\n",
    "CREMA_df = pd.concat([CREMA_df,pd.DataFrame(path, columns = ['path'])],axis=1)\n",
    "CREMA_df.labels.value_counts()"
   ]
  },
  {
   "cell_type": "raw",
   "id": "6fa8ac93",
   "metadata": {},
   "source": [
    "# use the well known Librosa library for this task \n",
    "fname = CREMA + '1012_IEO_HAP_HI.wav'  \n",
    "data, sampling_rate = librosa.load(fname)\n",
    "plt.figure(figsize=(15, 5))\n",
    "librosa.display.waveshow(data, sr=sampling_rate)\n",
    "\n",
    "# Lets play the audio \n",
    "ipd.Audio(fname)"
   ]
  },
  {
   "cell_type": "markdown",
   "id": "57191acb",
   "metadata": {},
   "source": [
    "# <center>Combine all the English dataset's dataframe into one<center>"
   ]
  },
  {
   "cell_type": "code",
   "execution_count": 9,
   "id": "350c234b",
   "metadata": {
    "gather": {
     "logged": 1675932745066
    }
   },
   "outputs": [
    {
     "name": "stdout",
     "output_type": "stream",
     "text": [
      "sad         1923\n",
      "fear        1923\n",
      "disgust     1923\n",
      "happy       1923\n",
      "angry       1923\n",
      "neutral     1895\n",
      "surprise     652\n",
      "Name: labels, dtype: int64\n"
     ]
    }
   ],
   "source": [
    "df_Eng = pd.concat([SAVEE_df, RAV_df, TESS_df, CREMA_df], axis = 0)\n",
    "print(df_Eng.labels.value_counts())\n",
    "df_Eng.to_csv(\"English_Data_path.csv\",index=False)"
   ]
  },
  {
   "cell_type": "code",
   "execution_count": 10,
   "id": "de4a9031",
   "metadata": {
    "gather": {
     "logged": 1675932745843
    }
   },
   "outputs": [
    {
     "data": {
      "text/html": [
       "<div>\n",
       "<style scoped>\n",
       "    .dataframe tbody tr th:only-of-type {\n",
       "        vertical-align: middle;\n",
       "    }\n",
       "\n",
       "    .dataframe tbody tr th {\n",
       "        vertical-align: top;\n",
       "    }\n",
       "\n",
       "    .dataframe thead th {\n",
       "        text-align: right;\n",
       "    }\n",
       "</style>\n",
       "<table border=\"1\" class=\"dataframe\">\n",
       "  <thead>\n",
       "    <tr style=\"text-align: right;\">\n",
       "      <th></th>\n",
       "      <th>labels</th>\n",
       "      <th>source</th>\n",
       "      <th>path</th>\n",
       "    </tr>\n",
       "  </thead>\n",
       "  <tbody>\n",
       "    <tr>\n",
       "      <th>0</th>\n",
       "      <td>sad</td>\n",
       "      <td>SAVEE</td>\n",
       "      <td>Datasets/surrey-audiovisual-expressed-emotion-...</td>\n",
       "    </tr>\n",
       "    <tr>\n",
       "      <th>1</th>\n",
       "      <td>sad</td>\n",
       "      <td>SAVEE</td>\n",
       "      <td>Datasets/surrey-audiovisual-expressed-emotion-...</td>\n",
       "    </tr>\n",
       "    <tr>\n",
       "      <th>2</th>\n",
       "      <td>neutral</td>\n",
       "      <td>SAVEE</td>\n",
       "      <td>Datasets/surrey-audiovisual-expressed-emotion-...</td>\n",
       "    </tr>\n",
       "    <tr>\n",
       "      <th>3</th>\n",
       "      <td>surprise</td>\n",
       "      <td>SAVEE</td>\n",
       "      <td>Datasets/surrey-audiovisual-expressed-emotion-...</td>\n",
       "    </tr>\n",
       "    <tr>\n",
       "      <th>4</th>\n",
       "      <td>neutral</td>\n",
       "      <td>SAVEE</td>\n",
       "      <td>Datasets/surrey-audiovisual-expressed-emotion-...</td>\n",
       "    </tr>\n",
       "  </tbody>\n",
       "</table>\n",
       "</div>"
      ],
      "text/plain": [
       "     labels source                                               path\n",
       "0       sad  SAVEE  Datasets/surrey-audiovisual-expressed-emotion-...\n",
       "1       sad  SAVEE  Datasets/surrey-audiovisual-expressed-emotion-...\n",
       "2   neutral  SAVEE  Datasets/surrey-audiovisual-expressed-emotion-...\n",
       "3  surprise  SAVEE  Datasets/surrey-audiovisual-expressed-emotion-...\n",
       "4   neutral  SAVEE  Datasets/surrey-audiovisual-expressed-emotion-..."
      ]
     },
     "execution_count": 10,
     "metadata": {},
     "output_type": "execute_result"
    }
   ],
   "source": [
    "df_Eng.head()"
   ]
  },
  {
   "cell_type": "code",
   "execution_count": 11,
   "id": "ad8b193c",
   "metadata": {
    "gather": {
     "logged": 1675932747112
    }
   },
   "outputs": [
    {
     "name": "stdout",
     "output_type": "stream",
     "text": [
      "<class 'pandas.core.frame.DataFrame'>\n",
      "Int64Index: 12162 entries, 0 to 7441\n",
      "Data columns (total 3 columns):\n",
      " #   Column  Non-Null Count  Dtype \n",
      "---  ------  --------------  ----- \n",
      " 0   labels  12162 non-null  object\n",
      " 1   source  12162 non-null  object\n",
      " 2   path    12162 non-null  object\n",
      "dtypes: object(3)\n",
      "memory usage: 380.1+ KB\n"
     ]
    }
   ],
   "source": [
    "# Display number of rows, columns, etc.\n",
    "df_Eng.info()\n",
    "#or\n",
    "#df.shape"
   ]
  },
  {
   "cell_type": "code",
   "execution_count": 12,
   "id": "f33558cd",
   "metadata": {
    "gather": {
     "logged": 1675932749240
    }
   },
   "outputs": [
    {
     "data": {
      "image/png": "[encoded data removed]",
      "text/plain": [
       "<Figure size 1512x216 with 1 Axes>"
      ]
     },
     "metadata": {
      "needs_background": "light"
     },
     "output_type": "display_data"
    }
   ],
   "source": [
    "#let's plot the count of each emotions in the english dataset.\n",
    "plt.figure(figsize =(21, 3))\n",
    "sns.countplot(x=df_Eng[\"labels\"])\n",
    "plt.ylabel('Count', size=12)\n",
    "plt.xlabel('Emotions', size=12)\n",
    "sns.despine(top=True, right=True, left=False, bottom=False)\n",
    "plt.show()"
   ]
  },
  {
   "cell_type": "markdown",
   "id": "75ee5fc2",
   "metadata": {},
   "source": [
    "# <center> Arabic Natural Audio Dataset </center>"
   ]
  },
  {
   "cell_type": "markdown",
   "id": "e997618a",
   "metadata": {},
   "source": [
    "the dataset has 3 discrete emotions: Happy,angry, and surprised. \n",
    "\n",
    "Eight videos of live calls between an anchor and a human outside the studio were downloaded from online Arabic talk shows. Each video was then divided into turns: callers and receivers. To label each video, 18 listeners were asked to listen to each video and select whether they perceive a happy, angry or surprised emotion. Silence, laughs and noisy chunks were removed. Every chunk was then automatically divided into 1 sec speech units forming our final corpus composed of 1384 records.\n",
    "\n",
    "\n",
    "#### Academic citation \n",
    "klaylat, Samira; Osman, ziad; Zantout, Rached; Hamandi, Lama (2018), “Arabic Natural Audio Dataset”, Mendeley Data, V1, doi: 10.17632/xm232yxf7t.1\n",
    "#### Acquired from\n",
    "https://data.mendeley.com/datasets/xm232yxf7t/1"
   ]
  },
  {
   "cell_type": "code",
   "execution_count": 13,
   "id": "9b3efe5a",
   "metadata": {
    "gather": {
     "logged": 1675932750593
    },
    "scrolled": false
   },
   "outputs": [
    {
     "data": {
      "text/plain": [
       "happy       82\n",
       "angry       52\n",
       "surprise     8\n",
       "Name: labels, dtype: int64"
      ]
     },
     "execution_count": 13,
     "metadata": {},
     "output_type": "execute_result"
    }
   ],
   "source": [
    "dir_list = os.listdir(ANAD)\n",
    "dir_list.sort()\n",
    "\n",
    "class_emotions = {'V1': 'happy', 'V2': 'surprise', 'V3': 'happy', 'V4': 'angry',\n",
    "        'V5': 'angry', 'V6': 'surprise', 'V7': 'angry','V8': 'happy'}\n",
    "\n",
    "\n",
    "emotion = []\n",
    "path = []\n",
    "\n",
    "for audio_file in dir_list:\n",
    "    if audio_file.startswith('.'):\n",
    "        continue\n",
    "    for key in class_emotions:\n",
    "        if key in audio_file:\n",
    "            emotions = class_emotions[key]\n",
    "            emotion.append(emotions)\n",
    "    path.append(ANAD + audio_file)\n",
    "\n",
    "    \n",
    "    \n",
    "\n",
    "ANAD_df = pd.DataFrame(emotion, columns = ['labels'])\n",
    "ANAD_df['source'] = 'ANAD'\n",
    "ANAD_df = pd.concat([ANAD_df,pd.DataFrame(path, columns = ['path'])],axis=1)\n",
    "ANAD_df.labels.value_counts() "
   ]
  },
  {
   "cell_type": "code",
   "execution_count": 14,
   "id": "4b56e238",
   "metadata": {
    "gather": {
     "logged": 1675932751846
    }
   },
   "outputs": [
    {
     "data": {
      "text/html": [
       "<div>\n",
       "<style scoped>\n",
       "    .dataframe tbody tr th:only-of-type {\n",
       "        vertical-align: middle;\n",
       "    }\n",
       "\n",
       "    .dataframe tbody tr th {\n",
       "        vertical-align: top;\n",
       "    }\n",
       "\n",
       "    .dataframe thead th {\n",
       "        text-align: right;\n",
       "    }\n",
       "</style>\n",
       "<table border=\"1\" class=\"dataframe\">\n",
       "  <thead>\n",
       "    <tr style=\"text-align: right;\">\n",
       "      <th></th>\n",
       "      <th>labels</th>\n",
       "      <th>source</th>\n",
       "      <th>path</th>\n",
       "    </tr>\n",
       "  </thead>\n",
       "  <tbody>\n",
       "    <tr>\n",
       "      <th>0</th>\n",
       "      <td>happy</td>\n",
       "      <td>ANAD</td>\n",
       "      <td>Datasets/Arabic Natural Audio Dataset/Speech/V...</td>\n",
       "    </tr>\n",
       "    <tr>\n",
       "      <th>1</th>\n",
       "      <td>happy</td>\n",
       "      <td>ANAD</td>\n",
       "      <td>Datasets/Arabic Natural Audio Dataset/Speech/V...</td>\n",
       "    </tr>\n",
       "    <tr>\n",
       "      <th>2</th>\n",
       "      <td>happy</td>\n",
       "      <td>ANAD</td>\n",
       "      <td>Datasets/Arabic Natural Audio Dataset/Speech/V...</td>\n",
       "    </tr>\n",
       "    <tr>\n",
       "      <th>3</th>\n",
       "      <td>happy</td>\n",
       "      <td>ANAD</td>\n",
       "      <td>Datasets/Arabic Natural Audio Dataset/Speech/V...</td>\n",
       "    </tr>\n",
       "    <tr>\n",
       "      <th>4</th>\n",
       "      <td>happy</td>\n",
       "      <td>ANAD</td>\n",
       "      <td>Datasets/Arabic Natural Audio Dataset/Speech/V...</td>\n",
       "    </tr>\n",
       "  </tbody>\n",
       "</table>\n",
       "</div>"
      ],
      "text/plain": [
       "  labels source                                               path\n",
       "0  happy   ANAD  Datasets/Arabic Natural Audio Dataset/Speech/V...\n",
       "1  happy   ANAD  Datasets/Arabic Natural Audio Dataset/Speech/V...\n",
       "2  happy   ANAD  Datasets/Arabic Natural Audio Dataset/Speech/V...\n",
       "3  happy   ANAD  Datasets/Arabic Natural Audio Dataset/Speech/V...\n",
       "4  happy   ANAD  Datasets/Arabic Natural Audio Dataset/Speech/V..."
      ]
     },
     "execution_count": 14,
     "metadata": {},
     "output_type": "execute_result"
    }
   ],
   "source": [
    "ANAD_df.head()"
   ]
  },
  {
   "cell_type": "markdown",
   "id": "7d69ccb0",
   "metadata": {},
   "source": [
    "# <center> KSUEmotions </center>"
   ]
  },
  {
   "cell_type": "markdown",
   "id": "076d0e2b",
   "metadata": {},
   "source": [
    "the dataset has 5 emotions: neutral, sadness, happiness, surprise, and questioning.\n",
    "the collection of data was devided into two pahses. Phase 1 had 10 female speakers and 10 male speakers which has 1596 records, while phase 2 has 7 female speakers and 7 male speakers that has 1680 records which makes the totoal of the data set 3276 records.\n",
    "\n",
    "#### File format\n",
    "The audio files are named using the DxxExxPgxxSxxTxx\n",
    "\n",
    "<img src=\"KSUE_file.png\"> \n",
    "\n",
    "#### Academic citation \n",
    "A. H. Meftah, M. A. Qamhan, Y. Seddiq, Y. A. Alotaibi and S. A. Selouani, \"King Saud University Emotions Corpus: Construction, Analysis, Evaluation, and Comparison,\" in IEEE Access, vol. 9, pp. 54201-54219, 2021, doi: 10.1109/ACCESS.2021.3070751. \n",
    "\n",
    "#### Acquired from \n",
    "https://catalog.ldc.upenn.edu/LDC2017S12"
   ]
  },
  {
   "cell_type": "code",
   "execution_count": 15,
   "id": "d59f2bd4",
   "metadata": {
    "gather": {
     "logged": 1675932753111
    }
   },
   "outputs": [
    {
     "data": {
      "text/plain": [
       "surprise       656\n",
       "neutral        656\n",
       "happy          656\n",
       "sad            653\n",
       "angry          336\n",
       "questioning    319\n",
       "Name: labels, dtype: int64"
      ]
     },
     "execution_count": 15,
     "metadata": {},
     "output_type": "execute_result"
    }
   ],
   "source": [
    "dir_list = os.listdir(KSUEmotions)\n",
    "dir_list.sort()\n",
    "\n",
    "class_emotions = {'E00': 'neutral', 'E01': 'happy', 'E02': 'sad', 'E03': 'surprise',\n",
    "                  'E04': 'questioning', 'E05': 'angry'}\n",
    "\n",
    "emotion = []\n",
    "path = []\n",
    "\n",
    "\n",
    "\n",
    "for phase in dir_list:\n",
    "    if os.path.isdir(os.path.join(KSUEmotions, phase)):\n",
    "        for emotion_path in os.listdir(os.path.join(KSUEmotions, phase)): \n",
    "            if \".\" in emotion_path:\n",
    "                continue\n",
    "            for audio_file in os.listdir(os.path.join(KSUEmotions, phase, emotion_path)):\n",
    "                path.append(os.path.join(KSUEmotions, phase, emotion_path, audio_file))\n",
    "                emotions = str(0)\n",
    "                for key in class_emotions:\n",
    "                    if key in audio_file:\n",
    "                        emotions = class_emotions[key]\n",
    "                        emotion.append(emotions)\n",
    "                        \n",
    "\n",
    "KSUEmotions_df = pd.DataFrame(emotion, columns = ['labels'])\n",
    "KSUEmotions_df['source'] = 'KSUEmotions'\n",
    "KSUEmotions_df = pd.concat([KSUEmotions_df,pd.DataFrame(path, columns = ['path'])],axis=1)\n",
    "KSUEmotions_df.labels.value_counts()                  "
   ]
  },
  {
   "cell_type": "code",
   "execution_count": 16,
   "id": "39880fa3",
   "metadata": {
    "gather": {
     "logged": 1675932754912
    }
   },
   "outputs": [
    {
     "data": {
      "text/html": [
       "<div>\n",
       "<style scoped>\n",
       "    .dataframe tbody tr th:only-of-type {\n",
       "        vertical-align: middle;\n",
       "    }\n",
       "\n",
       "    .dataframe tbody tr th {\n",
       "        vertical-align: top;\n",
       "    }\n",
       "\n",
       "    .dataframe thead th {\n",
       "        text-align: right;\n",
       "    }\n",
       "</style>\n",
       "<table border=\"1\" class=\"dataframe\">\n",
       "  <thead>\n",
       "    <tr style=\"text-align: right;\">\n",
       "      <th></th>\n",
       "      <th>labels</th>\n",
       "      <th>source</th>\n",
       "      <th>path</th>\n",
       "    </tr>\n",
       "  </thead>\n",
       "  <tbody>\n",
       "    <tr>\n",
       "      <th>0</th>\n",
       "      <td>surprise</td>\n",
       "      <td>KSUEmotions</td>\n",
       "      <td>Datasets/ksu_emotions/data/SPEECH/Phase_1/E03/...</td>\n",
       "    </tr>\n",
       "    <tr>\n",
       "      <th>1</th>\n",
       "      <td>surprise</td>\n",
       "      <td>KSUEmotions</td>\n",
       "      <td>Datasets/ksu_emotions/data/SPEECH/Phase_1/E03/...</td>\n",
       "    </tr>\n",
       "    <tr>\n",
       "      <th>2</th>\n",
       "      <td>surprise</td>\n",
       "      <td>KSUEmotions</td>\n",
       "      <td>Datasets/ksu_emotions/data/SPEECH/Phase_1/E03/...</td>\n",
       "    </tr>\n",
       "    <tr>\n",
       "      <th>3</th>\n",
       "      <td>surprise</td>\n",
       "      <td>KSUEmotions</td>\n",
       "      <td>Datasets/ksu_emotions/data/SPEECH/Phase_1/E03/...</td>\n",
       "    </tr>\n",
       "    <tr>\n",
       "      <th>4</th>\n",
       "      <td>surprise</td>\n",
       "      <td>KSUEmotions</td>\n",
       "      <td>Datasets/ksu_emotions/data/SPEECH/Phase_1/E03/...</td>\n",
       "    </tr>\n",
       "  </tbody>\n",
       "</table>\n",
       "</div>"
      ],
      "text/plain": [
       "     labels       source                                               path\n",
       "0  surprise  KSUEmotions  Datasets/ksu_emotions/data/SPEECH/Phase_1/E03/...\n",
       "1  surprise  KSUEmotions  Datasets/ksu_emotions/data/SPEECH/Phase_1/E03/...\n",
       "2  surprise  KSUEmotions  Datasets/ksu_emotions/data/SPEECH/Phase_1/E03/...\n",
       "3  surprise  KSUEmotions  Datasets/ksu_emotions/data/SPEECH/Phase_1/E03/...\n",
       "4  surprise  KSUEmotions  Datasets/ksu_emotions/data/SPEECH/Phase_1/E03/..."
      ]
     },
     "execution_count": 16,
     "metadata": {},
     "output_type": "execute_result"
    }
   ],
   "source": [
    "KSUEmotions_df.head()"
   ]
  },
  {
   "cell_type": "markdown",
   "id": "0627ef98",
   "metadata": {},
   "source": [
    "# <center>Combine all the Arabic dataset's dataframe into one<center>"
   ]
  },
  {
   "cell_type": "code",
   "execution_count": 17,
   "id": "46207f0d",
   "metadata": {
    "gather": {
     "logged": 1675932756080
    }
   },
   "outputs": [
    {
     "data": {
      "text/plain": [
       "happy          738\n",
       "surprise       664\n",
       "neutral        656\n",
       "sad            653\n",
       "angry          388\n",
       "questioning    319\n",
       "Name: labels, dtype: int64"
      ]
     },
     "execution_count": 17,
     "metadata": {},
     "output_type": "execute_result"
    }
   ],
   "source": [
    "df_Arab = pd.concat([ANAD_df, KSUEmotions_df], axis = 0)\n",
    "df_Arab.labels.value_counts()"
   ]
  },
  {
   "cell_type": "code",
   "execution_count": 18,
   "id": "f5c562b9",
   "metadata": {
    "gather": {
     "logged": 1675932757593
    }
   },
   "outputs": [],
   "source": [
    "df_Arab.to_csv(\"Arabic_Data_path.csv\",index=False)"
   ]
  },
  {
   "cell_type": "code",
   "execution_count": 19,
   "id": "6264b6cf",
   "metadata": {
    "gather": {
     "logged": 1675932758889
    }
   },
   "outputs": [
    {
     "name": "stdout",
     "output_type": "stream",
     "text": [
      "<class 'pandas.core.frame.DataFrame'>\n",
      "Int64Index: 3418 entries, 0 to 3275\n",
      "Data columns (total 3 columns):\n",
      " #   Column  Non-Null Count  Dtype \n",
      "---  ------  --------------  ----- \n",
      " 0   labels  3418 non-null   object\n",
      " 1   source  3418 non-null   object\n",
      " 2   path    3418 non-null   object\n",
      "dtypes: object(3)\n",
      "memory usage: 106.8+ KB\n"
     ]
    }
   ],
   "source": [
    "# Display number of rows, columns, etc.\n",
    "df_Arab.info()"
   ]
  },
  {
   "cell_type": "code",
   "execution_count": 20,
   "id": "f8c3fe5f",
   "metadata": {
    "gather": {
     "logged": 1675932760456
    }
   },
   "outputs": [
    {
     "data": {
      "image/png": "[encoded data removed]",
      "text/plain": [
       "<Figure size 1512x216 with 1 Axes>"
      ]
     },
     "metadata": {
      "needs_background": "light"
     },
     "output_type": "display_data"
    }
   ],
   "source": [
    "#let's plot the count of each emotions in the english dataset.\n",
    "plt.figure(figsize =(21, 3))\n",
    "sns.countplot(x=df_Arab[\"labels\"])\n",
    "plt.ylabel('Count', size=12)\n",
    "plt.xlabel('Emotions', size=12)\n",
    "sns.despine(top=True, right=True, left=False, bottom=False)\n",
    "plt.show()"
   ]
  },
  {
   "cell_type": "markdown",
   "id": "fc9b3ddd",
   "metadata": {},
   "source": [
    "# <center> All Datasets </center>"
   ]
  },
  {
   "cell_type": "code",
   "execution_count": 21,
   "id": "148be49b",
   "metadata": {
    "gather": {
     "logged": 1675932762476
    }
   },
   "outputs": [
    {
     "data": {
      "text/plain": [
       "happy          2661\n",
       "sad            2576\n",
       "neutral        2551\n",
       "angry          2311\n",
       "fear           1923\n",
       "disgust        1923\n",
       "surprise       1316\n",
       "questioning     319\n",
       "Name: labels, dtype: int64"
      ]
     },
     "execution_count": 21,
     "metadata": {},
     "output_type": "execute_result"
    }
   ],
   "source": [
    "data_path = pd.concat([df_Eng, df_Arab], axis = 0)\n",
    "data_path.labels.value_counts()"
   ]
  },
  {
   "cell_type": "code",
   "execution_count": 22,
   "id": "ee29ae7a",
   "metadata": {
    "gather": {
     "logged": 1675932763914
    }
   },
   "outputs": [],
   "source": [
    "data_path = data_path[data_path[\"labels\"]!=\"questioning\"]\n",
    "data_path = data_path[data_path[\"labels\"]!=\"disgust\"]\n",
    "data_path = data_path[data_path[\"labels\"]!=\"fear\"]"
   ]
  },
  {
   "cell_type": "code",
   "execution_count": 23,
   "id": "cf6c05d3",
   "metadata": {
    "gather": {
     "logged": 1675932765742
    }
   },
   "outputs": [
    {
     "data": {
      "text/plain": [
       "happy       2661\n",
       "sad         2576\n",
       "neutral     2551\n",
       "angry       2311\n",
       "surprise    1316\n",
       "Name: labels, dtype: int64"
      ]
     },
     "execution_count": 23,
     "metadata": {},
     "output_type": "execute_result"
    }
   ],
   "source": [
    "data_path.to_csv(\"Data_path.csv\",index=False)\n",
    "data_path.labels.value_counts()"
   ]
  },
  {
   "cell_type": "code",
   "execution_count": 24,
   "id": "6de06544",
   "metadata": {
    "gather": {
     "logged": 1675932766317
    }
   },
   "outputs": [
    {
     "name": "stdout",
     "output_type": "stream",
     "text": [
      "<class 'pandas.core.frame.DataFrame'>\n",
      "Int64Index: 11415 entries, 0 to 3275\n",
      "Data columns (total 3 columns):\n",
      " #   Column  Non-Null Count  Dtype \n",
      "---  ------  --------------  ----- \n",
      " 0   labels  11415 non-null  object\n",
      " 1   source  11415 non-null  object\n",
      " 2   path    11415 non-null  object\n",
      "dtypes: object(3)\n",
      "memory usage: 356.7+ KB\n"
     ]
    }
   ],
   "source": [
    "# Display number of rows, columns, etc.\n",
    "data_path.info()"
   ]
  },
  {
   "cell_type": "code",
   "execution_count": 25,
   "id": "e8149604",
   "metadata": {
    "gather": {
     "logged": 1675932767571
    }
   },
   "outputs": [
    {
     "data": {
      "image/png": "[encoded data removed]",
      "text/plain": [
       "<Figure size 1512x216 with 1 Axes>"
      ]
     },
     "metadata": {
      "needs_background": "light"
     },
     "output_type": "display_data"
    }
   ],
   "source": [
    "#let's plot the count of each emotions in the english dataset.\n",
    "plt.figure(figsize =(21, 3))\n",
    "sns.countplot(x=data_path[\"labels\"])\n",
    "plt.ylabel('Count', size=12)\n",
    "plt.xlabel('Emotions', size=12)\n",
    "sns.despine(top=True, right=True, left=False, bottom=False)\n",
    "plt.show()"
   ]
  },
  {
   "cell_type": "markdown",
   "id": "004e2719",
   "metadata": {},
   "source": [
    "# <center> Features's extraction </center>"
   ]
  },
  {
   "cell_type": "markdown",
   "id": "47fb344c",
   "metadata": {},
   "source": [
    "## Data Augmentation"
   ]
  },
  {
   "cell_type": "code",
   "execution_count": 26,
   "id": "d0cebbe6",
   "metadata": {
    "gather": {
     "logged": 1675932768833
    }
   },
   "outputs": [],
   "source": [
    "def noise(data):\n",
    "    noise_amp = 0.035*np.random.uniform()*np.amax(data)\n",
    "    data = data + noise_amp*np.random.normal(size=data.shape[0])\n",
    "    return data"
   ]
  },
  {
   "cell_type": "code",
   "execution_count": 27,
   "id": "ded56ce5",
   "metadata": {
    "gather": {
     "logged": 1675932769811
    }
   },
   "outputs": [],
   "source": [
    "def extract_features(data, sample_rate, frame_length=2048, hop_length=512):\n",
    "    # ZCR\n",
    "    result = np.array([])\n",
    "    zcr = np.mean(librosa.feature.zero_crossing_rate(y=data).T, axis=0)\n",
    "    result=np.hstack((result, zcr)) # stacking horizontally\n",
    "\n",
    "    # Chroma_stft\n",
    "    stft = np.abs(librosa.stft(data))\n",
    "    chroma_stft = np.mean(librosa.feature.chroma_stft(S=stft, sr=sample_rate).T, axis=0)\n",
    "    result = np.hstack((result, chroma_stft)) # stacking horizontally\n",
    "\n",
    "    # MFCC\n",
    "    mfcc = np.mean(librosa.feature.mfcc(y=data, sr=sample_rate).T, axis=0)\n",
    "    result = np.hstack((result, mfcc)) # stacking horizontally\n",
    "\n",
    "    # Root Mean Square Value\n",
    "    rms = np.mean(librosa.feature.rms(y=data).T, axis=0)\n",
    "    result = np.hstack((result, rms)) # stacking horizontally\n",
    "\n",
    "    # MelSpectogram\n",
    "    mel = np.mean(librosa.feature.melspectrogram(y=data, sr=sample_rate).T, axis=0)\n",
    "    result = np.hstack((result, mel)) # stacking horizontally\n",
    "    \n",
    "    return result\n"
   ]
  },
  {
   "cell_type": "code",
   "execution_count": 28,
   "id": "47ff9c17-7bc7-4d47-8d79-7b35d5eb8a89",
   "metadata": {
    "gather": {
     "logged": 1675932770749
    },
    "jupyter": {
     "outputs_hidden": false,
     "source_hidden": false
    },
    "nteract": {
     "transient": {
      "deleting": false
     }
    }
   },
   "outputs": [],
   "source": [
    "def get_features(path):\n",
    "    # duration and offset are used to take care of the no audio in start and the ending of each audio files as seen above.\n",
    "    data, sample_rate = librosa.load(path, offset=0.4)\n",
    "    data = data.T\n",
    "    \n",
    "     # without augmentation\n",
    "    res1 = extract_features(data,sample_rate)\n",
    "    result = np.array(res1)\n",
    "    \n",
    "    # data with noise\n",
    "    data_noise = noise(data)\n",
    "    res2 = extract_features(data_noise,sample_rate)\n",
    "    result = np.vstack((result, res2)) # stacking vertically\n",
    "        \n",
    "    return result"
   ]
  },
  {
   "cell_type": "code",
   "execution_count": 30,
   "id": "ec7fd20b",
   "metadata": {
    "gather": {
     "logged": 1675932722783
    }
   },
   "outputs": [
    {
     "name": "stdout",
     "output_type": "stream",
     "text": [
      "500\n",
      "1000\n",
      "1500\n",
      "2000\n",
      "2500\n",
      "3000\n",
      "3500\n",
      "4000\n",
      "4500\n",
      "5000\n",
      "5500\n",
      "6000\n",
      "6500\n",
      "7000\n",
      "7500\n",
      "8000\n",
      "8500\n",
      "9000\n",
      "9500\n",
      "10000\n",
      "10500\n",
      "11000\n",
      "11500\n",
      "12000\n",
      "12500\n",
      "13000\n",
      "13500\n",
      "14000\n",
      "14500\n",
      "15000\n",
      "15500\n",
      "16000\n",
      "16500\n",
      "17000\n",
      "17500\n",
      "18000\n",
      "18500\n",
      "19000\n",
      "19500\n",
      "20000\n",
      "20500\n",
      "21000\n",
      "21500\n",
      "22000\n",
      "22500\n"
     ]
    }
   ],
   "source": [
    "X, Y = [], []\n",
    "i = 0\n",
    "for path, emotion in zip(data_path.path, data_path.labels):\n",
    "    feature = get_features(path)\n",
    "    \n",
    "    for ele in feature:\n",
    "        X.append(ele)\n",
    "        # appending emotion one time as we have made 1 augmentation techniques on each audio file.\n",
    "        Y.append(emotion)\n",
    "        i+=1\n",
    "        if i%500==0:\n",
    "            print(i)"
   ]
  },
  {
   "cell_type": "code",
   "execution_count": 31,
   "id": "4eb9af32",
   "metadata": {
    "gather": {
     "logged": 1675935196988
    }
   },
   "outputs": [
    {
     "data": {
      "text/plain": [
       "(22830, 22830, (11415,))"
      ]
     },
     "execution_count": 31,
     "metadata": {},
     "output_type": "execute_result"
    }
   ],
   "source": [
    "len(X), len(Y), data_path.path.shape"
   ]
  },
  {
   "cell_type": "code",
   "execution_count": 32,
   "id": "32d7e489",
   "metadata": {
    "gather": {
     "logged": 1675935208025
    }
   },
   "outputs": [
    {
     "data": {
      "text/html": [
       "<div>\n",
       "<style scoped>\n",
       "    .dataframe tbody tr th:only-of-type {\n",
       "        vertical-align: middle;\n",
       "    }\n",
       "\n",
       "    .dataframe tbody tr th {\n",
       "        vertical-align: top;\n",
       "    }\n",
       "\n",
       "    .dataframe thead th {\n",
       "        text-align: right;\n",
       "    }\n",
       "</style>\n",
       "<table border=\"1\" class=\"dataframe\">\n",
       "  <thead>\n",
       "    <tr style=\"text-align: right;\">\n",
       "      <th></th>\n",
       "      <th>0</th>\n",
       "      <th>1</th>\n",
       "      <th>2</th>\n",
       "      <th>3</th>\n",
       "      <th>4</th>\n",
       "      <th>5</th>\n",
       "      <th>6</th>\n",
       "      <th>7</th>\n",
       "      <th>8</th>\n",
       "      <th>9</th>\n",
       "      <th>...</th>\n",
       "      <th>153</th>\n",
       "      <th>154</th>\n",
       "      <th>155</th>\n",
       "      <th>156</th>\n",
       "      <th>157</th>\n",
       "      <th>158</th>\n",
       "      <th>159</th>\n",
       "      <th>160</th>\n",
       "      <th>161</th>\n",
       "      <th>labels</th>\n",
       "    </tr>\n",
       "  </thead>\n",
       "  <tbody>\n",
       "    <tr>\n",
       "      <th>0</th>\n",
       "      <td>0.019391</td>\n",
       "      <td>0.596803</td>\n",
       "      <td>0.544192</td>\n",
       "      <td>0.492998</td>\n",
       "      <td>0.503403</td>\n",
       "      <td>0.570076</td>\n",
       "      <td>0.630197</td>\n",
       "      <td>0.585214</td>\n",
       "      <td>0.543174</td>\n",
       "      <td>0.568560</td>\n",
       "      <td>...</td>\n",
       "      <td>1.050778e-05</td>\n",
       "      <td>2.997403e-06</td>\n",
       "      <td>7.111289e-07</td>\n",
       "      <td>4.916752e-07</td>\n",
       "      <td>4.868759e-07</td>\n",
       "      <td>4.599259e-07</td>\n",
       "      <td>3.758941e-07</td>\n",
       "      <td>2.814717e-07</td>\n",
       "      <td>2.338273e-07</td>\n",
       "      <td>sad</td>\n",
       "    </tr>\n",
       "    <tr>\n",
       "      <th>1</th>\n",
       "      <td>0.024156</td>\n",
       "      <td>0.668991</td>\n",
       "      <td>0.646738</td>\n",
       "      <td>0.608743</td>\n",
       "      <td>0.619338</td>\n",
       "      <td>0.660034</td>\n",
       "      <td>0.673722</td>\n",
       "      <td>0.624548</td>\n",
       "      <td>0.591040</td>\n",
       "      <td>0.616446</td>\n",
       "      <td>...</td>\n",
       "      <td>2.866707e-03</td>\n",
       "      <td>2.924835e-03</td>\n",
       "      <td>2.777213e-03</td>\n",
       "      <td>2.809680e-03</td>\n",
       "      <td>2.862503e-03</td>\n",
       "      <td>2.843573e-03</td>\n",
       "      <td>2.783918e-03</td>\n",
       "      <td>2.765235e-03</td>\n",
       "      <td>2.826194e-03</td>\n",
       "      <td>sad</td>\n",
       "    </tr>\n",
       "    <tr>\n",
       "      <th>2</th>\n",
       "      <td>0.013634</td>\n",
       "      <td>0.621171</td>\n",
       "      <td>0.548649</td>\n",
       "      <td>0.495449</td>\n",
       "      <td>0.521441</td>\n",
       "      <td>0.555481</td>\n",
       "      <td>0.576986</td>\n",
       "      <td>0.576854</td>\n",
       "      <td>0.583974</td>\n",
       "      <td>0.620989</td>\n",
       "      <td>...</td>\n",
       "      <td>1.021239e-06</td>\n",
       "      <td>3.780315e-07</td>\n",
       "      <td>2.230971e-07</td>\n",
       "      <td>2.112139e-07</td>\n",
       "      <td>2.119731e-07</td>\n",
       "      <td>2.118027e-07</td>\n",
       "      <td>1.974219e-07</td>\n",
       "      <td>1.748438e-07</td>\n",
       "      <td>1.587371e-07</td>\n",
       "      <td>sad</td>\n",
       "    </tr>\n",
       "    <tr>\n",
       "      <th>3</th>\n",
       "      <td>0.029471</td>\n",
       "      <td>0.746667</td>\n",
       "      <td>0.712394</td>\n",
       "      <td>0.685965</td>\n",
       "      <td>0.712725</td>\n",
       "      <td>0.729634</td>\n",
       "      <td>0.685229</td>\n",
       "      <td>0.628920</td>\n",
       "      <td>0.637637</td>\n",
       "      <td>0.677569</td>\n",
       "      <td>...</td>\n",
       "      <td>9.322491e-03</td>\n",
       "      <td>9.879013e-03</td>\n",
       "      <td>9.975285e-03</td>\n",
       "      <td>9.913878e-03</td>\n",
       "      <td>9.750677e-03</td>\n",
       "      <td>9.931363e-03</td>\n",
       "      <td>1.002722e-02</td>\n",
       "      <td>9.768168e-03</td>\n",
       "      <td>9.604855e-03</td>\n",
       "      <td>sad</td>\n",
       "    </tr>\n",
       "    <tr>\n",
       "      <th>4</th>\n",
       "      <td>0.014141</td>\n",
       "      <td>0.619437</td>\n",
       "      <td>0.621000</td>\n",
       "      <td>0.592190</td>\n",
       "      <td>0.514821</td>\n",
       "      <td>0.508869</td>\n",
       "      <td>0.522655</td>\n",
       "      <td>0.462100</td>\n",
       "      <td>0.449496</td>\n",
       "      <td>0.423172</td>\n",
       "      <td>...</td>\n",
       "      <td>7.066091e-07</td>\n",
       "      <td>4.583737e-07</td>\n",
       "      <td>3.990423e-07</td>\n",
       "      <td>3.878209e-07</td>\n",
       "      <td>3.711104e-07</td>\n",
       "      <td>3.249636e-07</td>\n",
       "      <td>2.347695e-07</td>\n",
       "      <td>1.518778e-07</td>\n",
       "      <td>1.158051e-07</td>\n",
       "      <td>neutral</td>\n",
       "    </tr>\n",
       "    <tr>\n",
       "      <th>5</th>\n",
       "      <td>0.021385</td>\n",
       "      <td>0.692037</td>\n",
       "      <td>0.738313</td>\n",
       "      <td>0.712784</td>\n",
       "      <td>0.662127</td>\n",
       "      <td>0.676345</td>\n",
       "      <td>0.629185</td>\n",
       "      <td>0.536359</td>\n",
       "      <td>0.526078</td>\n",
       "      <td>0.543309</td>\n",
       "      <td>...</td>\n",
       "      <td>4.296222e-03</td>\n",
       "      <td>4.001399e-03</td>\n",
       "      <td>4.060103e-03</td>\n",
       "      <td>4.238190e-03</td>\n",
       "      <td>4.278746e-03</td>\n",
       "      <td>4.005999e-03</td>\n",
       "      <td>4.068985e-03</td>\n",
       "      <td>4.126590e-03</td>\n",
       "      <td>4.347859e-03</td>\n",
       "      <td>neutral</td>\n",
       "    </tr>\n",
       "    <tr>\n",
       "      <th>6</th>\n",
       "      <td>0.018890</td>\n",
       "      <td>0.552444</td>\n",
       "      <td>0.495755</td>\n",
       "      <td>0.429380</td>\n",
       "      <td>0.439089</td>\n",
       "      <td>0.464212</td>\n",
       "      <td>0.482547</td>\n",
       "      <td>0.509818</td>\n",
       "      <td>0.541979</td>\n",
       "      <td>0.596347</td>\n",
       "      <td>...</td>\n",
       "      <td>5.006518e-06</td>\n",
       "      <td>1.366400e-06</td>\n",
       "      <td>4.894240e-07</td>\n",
       "      <td>4.122934e-07</td>\n",
       "      <td>4.078885e-07</td>\n",
       "      <td>3.792769e-07</td>\n",
       "      <td>2.874300e-07</td>\n",
       "      <td>1.990649e-07</td>\n",
       "      <td>1.599204e-07</td>\n",
       "      <td>surprise</td>\n",
       "    </tr>\n",
       "    <tr>\n",
       "      <th>7</th>\n",
       "      <td>0.030005</td>\n",
       "      <td>0.642872</td>\n",
       "      <td>0.588763</td>\n",
       "      <td>0.567606</td>\n",
       "      <td>0.585191</td>\n",
       "      <td>0.592728</td>\n",
       "      <td>0.552924</td>\n",
       "      <td>0.565358</td>\n",
       "      <td>0.614175</td>\n",
       "      <td>0.683998</td>\n",
       "      <td>...</td>\n",
       "      <td>8.894290e-03</td>\n",
       "      <td>9.198477e-03</td>\n",
       "      <td>8.969498e-03</td>\n",
       "      <td>9.037284e-03</td>\n",
       "      <td>8.991107e-03</td>\n",
       "      <td>9.140561e-03</td>\n",
       "      <td>9.392547e-03</td>\n",
       "      <td>9.042820e-03</td>\n",
       "      <td>8.775056e-03</td>\n",
       "      <td>surprise</td>\n",
       "    </tr>\n",
       "    <tr>\n",
       "      <th>8</th>\n",
       "      <td>0.016379</td>\n",
       "      <td>0.584681</td>\n",
       "      <td>0.537111</td>\n",
       "      <td>0.526547</td>\n",
       "      <td>0.558224</td>\n",
       "      <td>0.584993</td>\n",
       "      <td>0.491344</td>\n",
       "      <td>0.478172</td>\n",
       "      <td>0.473513</td>\n",
       "      <td>0.542705</td>\n",
       "      <td>...</td>\n",
       "      <td>5.425731e-07</td>\n",
       "      <td>4.925834e-07</td>\n",
       "      <td>4.777244e-07</td>\n",
       "      <td>4.809289e-07</td>\n",
       "      <td>4.986692e-07</td>\n",
       "      <td>5.305406e-07</td>\n",
       "      <td>5.345537e-07</td>\n",
       "      <td>5.012371e-07</td>\n",
       "      <td>4.653993e-07</td>\n",
       "      <td>neutral</td>\n",
       "    </tr>\n",
       "    <tr>\n",
       "      <th>9</th>\n",
       "      <td>0.029794</td>\n",
       "      <td>0.697850</td>\n",
       "      <td>0.689083</td>\n",
       "      <td>0.692258</td>\n",
       "      <td>0.717110</td>\n",
       "      <td>0.710994</td>\n",
       "      <td>0.575567</td>\n",
       "      <td>0.560809</td>\n",
       "      <td>0.563235</td>\n",
       "      <td>0.631592</td>\n",
       "      <td>...</td>\n",
       "      <td>7.548350e-03</td>\n",
       "      <td>7.806877e-03</td>\n",
       "      <td>7.407048e-03</td>\n",
       "      <td>7.683769e-03</td>\n",
       "      <td>8.308686e-03</td>\n",
       "      <td>7.811601e-03</td>\n",
       "      <td>7.494946e-03</td>\n",
       "      <td>7.810919e-03</td>\n",
       "      <td>7.454882e-03</td>\n",
       "      <td>neutral</td>\n",
       "    </tr>\n",
       "    <tr>\n",
       "      <th>10</th>\n",
       "      <td>0.018482</td>\n",
       "      <td>0.624548</td>\n",
       "      <td>0.582728</td>\n",
       "      <td>0.565759</td>\n",
       "      <td>0.601423</td>\n",
       "      <td>0.610166</td>\n",
       "      <td>0.581384</td>\n",
       "      <td>0.566091</td>\n",
       "      <td>0.561658</td>\n",
       "      <td>0.651267</td>\n",
       "      <td>...</td>\n",
       "      <td>7.661398e-06</td>\n",
       "      <td>2.016314e-06</td>\n",
       "      <td>7.326626e-07</td>\n",
       "      <td>6.272078e-07</td>\n",
       "      <td>6.476390e-07</td>\n",
       "      <td>6.921433e-07</td>\n",
       "      <td>6.946865e-07</td>\n",
       "      <td>6.521534e-07</td>\n",
       "      <td>6.062829e-07</td>\n",
       "      <td>neutral</td>\n",
       "    </tr>\n",
       "    <tr>\n",
       "      <th>11</th>\n",
       "      <td>0.024149</td>\n",
       "      <td>0.701831</td>\n",
       "      <td>0.689581</td>\n",
       "      <td>0.680700</td>\n",
       "      <td>0.699056</td>\n",
       "      <td>0.686653</td>\n",
       "      <td>0.606397</td>\n",
       "      <td>0.592058</td>\n",
       "      <td>0.581928</td>\n",
       "      <td>0.657732</td>\n",
       "      <td>...</td>\n",
       "      <td>3.896153e-03</td>\n",
       "      <td>4.045410e-03</td>\n",
       "      <td>3.879053e-03</td>\n",
       "      <td>3.688591e-03</td>\n",
       "      <td>3.555380e-03</td>\n",
       "      <td>3.788543e-03</td>\n",
       "      <td>3.677820e-03</td>\n",
       "      <td>3.791605e-03</td>\n",
       "      <td>3.726668e-03</td>\n",
       "      <td>neutral</td>\n",
       "    </tr>\n",
       "    <tr>\n",
       "      <th>12</th>\n",
       "      <td>0.018228</td>\n",
       "      <td>0.681644</td>\n",
       "      <td>0.674913</td>\n",
       "      <td>0.594401</td>\n",
       "      <td>0.559893</td>\n",
       "      <td>0.557776</td>\n",
       "      <td>0.604639</td>\n",
       "      <td>0.543241</td>\n",
       "      <td>0.515408</td>\n",
       "      <td>0.546627</td>\n",
       "      <td>...</td>\n",
       "      <td>8.986400e-06</td>\n",
       "      <td>2.109508e-06</td>\n",
       "      <td>9.156983e-07</td>\n",
       "      <td>8.009133e-07</td>\n",
       "      <td>7.915205e-07</td>\n",
       "      <td>7.287501e-07</td>\n",
       "      <td>6.134159e-07</td>\n",
       "      <td>5.287126e-07</td>\n",
       "      <td>4.862223e-07</td>\n",
       "      <td>neutral</td>\n",
       "    </tr>\n",
       "    <tr>\n",
       "      <th>13</th>\n",
       "      <td>0.084598</td>\n",
       "      <td>0.795126</td>\n",
       "      <td>0.779683</td>\n",
       "      <td>0.740958</td>\n",
       "      <td>0.714375</td>\n",
       "      <td>0.701247</td>\n",
       "      <td>0.650454</td>\n",
       "      <td>0.612964</td>\n",
       "      <td>0.614049</td>\n",
       "      <td>0.648583</td>\n",
       "      <td>...</td>\n",
       "      <td>3.469147e-02</td>\n",
       "      <td>3.558783e-02</td>\n",
       "      <td>3.678251e-02</td>\n",
       "      <td>3.705699e-02</td>\n",
       "      <td>3.511779e-02</td>\n",
       "      <td>3.459098e-02</td>\n",
       "      <td>3.697784e-02</td>\n",
       "      <td>3.552419e-02</td>\n",
       "      <td>3.750168e-02</td>\n",
       "      <td>neutral</td>\n",
       "    </tr>\n",
       "    <tr>\n",
       "      <th>14</th>\n",
       "      <td>0.008753</td>\n",
       "      <td>0.605180</td>\n",
       "      <td>0.589606</td>\n",
       "      <td>0.628707</td>\n",
       "      <td>0.617921</td>\n",
       "      <td>0.649072</td>\n",
       "      <td>0.657282</td>\n",
       "      <td>0.643190</td>\n",
       "      <td>0.677349</td>\n",
       "      <td>0.644371</td>\n",
       "      <td>...</td>\n",
       "      <td>9.324729e-07</td>\n",
       "      <td>4.319728e-07</td>\n",
       "      <td>3.008138e-07</td>\n",
       "      <td>2.817518e-07</td>\n",
       "      <td>2.797964e-07</td>\n",
       "      <td>2.731469e-07</td>\n",
       "      <td>2.488117e-07</td>\n",
       "      <td>2.149662e-07</td>\n",
       "      <td>1.931690e-07</td>\n",
       "      <td>sad</td>\n",
       "    </tr>\n",
       "    <tr>\n",
       "      <th>15</th>\n",
       "      <td>0.014952</td>\n",
       "      <td>0.711606</td>\n",
       "      <td>0.729108</td>\n",
       "      <td>0.782613</td>\n",
       "      <td>0.774875</td>\n",
       "      <td>0.751780</td>\n",
       "      <td>0.705694</td>\n",
       "      <td>0.695338</td>\n",
       "      <td>0.764941</td>\n",
       "      <td>0.736221</td>\n",
       "      <td>...</td>\n",
       "      <td>8.676845e-03</td>\n",
       "      <td>8.595854e-03</td>\n",
       "      <td>8.821184e-03</td>\n",
       "      <td>8.846262e-03</td>\n",
       "      <td>8.845509e-03</td>\n",
       "      <td>8.295662e-03</td>\n",
       "      <td>8.611360e-03</td>\n",
       "      <td>8.441459e-03</td>\n",
       "      <td>8.665966e-03</td>\n",
       "      <td>sad</td>\n",
       "    </tr>\n",
       "    <tr>\n",
       "      <th>16</th>\n",
       "      <td>0.032258</td>\n",
       "      <td>0.582009</td>\n",
       "      <td>0.523107</td>\n",
       "      <td>0.505912</td>\n",
       "      <td>0.486708</td>\n",
       "      <td>0.537103</td>\n",
       "      <td>0.596452</td>\n",
       "      <td>0.667203</td>\n",
       "      <td>0.664747</td>\n",
       "      <td>0.635995</td>\n",
       "      <td>...</td>\n",
       "      <td>2.785826e-08</td>\n",
       "      <td>1.175322e-08</td>\n",
       "      <td>8.263521e-09</td>\n",
       "      <td>7.208664e-09</td>\n",
       "      <td>6.900187e-09</td>\n",
       "      <td>4.516946e-09</td>\n",
       "      <td>1.634280e-09</td>\n",
       "      <td>3.570155e-10</td>\n",
       "      <td>2.082138e-10</td>\n",
       "      <td>sad</td>\n",
       "    </tr>\n",
       "    <tr>\n",
       "      <th>17</th>\n",
       "      <td>0.136226</td>\n",
       "      <td>0.710721</td>\n",
       "      <td>0.684427</td>\n",
       "      <td>0.686257</td>\n",
       "      <td>0.668332</td>\n",
       "      <td>0.683910</td>\n",
       "      <td>0.680987</td>\n",
       "      <td>0.712628</td>\n",
       "      <td>0.712076</td>\n",
       "      <td>0.707220</td>\n",
       "      <td>...</td>\n",
       "      <td>7.804396e-05</td>\n",
       "      <td>7.718589e-05</td>\n",
       "      <td>7.933449e-05</td>\n",
       "      <td>7.905799e-05</td>\n",
       "      <td>8.332205e-05</td>\n",
       "      <td>8.188266e-05</td>\n",
       "      <td>8.119144e-05</td>\n",
       "      <td>7.927316e-05</td>\n",
       "      <td>8.011225e-05</td>\n",
       "      <td>sad</td>\n",
       "    </tr>\n",
       "    <tr>\n",
       "      <th>18</th>\n",
       "      <td>0.020563</td>\n",
       "      <td>0.564280</td>\n",
       "      <td>0.542875</td>\n",
       "      <td>0.574552</td>\n",
       "      <td>0.559989</td>\n",
       "      <td>0.535818</td>\n",
       "      <td>0.599246</td>\n",
       "      <td>0.687607</td>\n",
       "      <td>0.697337</td>\n",
       "      <td>0.651694</td>\n",
       "      <td>...</td>\n",
       "      <td>1.172998e-08</td>\n",
       "      <td>9.343029e-09</td>\n",
       "      <td>8.909477e-09</td>\n",
       "      <td>8.561239e-09</td>\n",
       "      <td>7.825321e-09</td>\n",
       "      <td>5.632772e-09</td>\n",
       "      <td>2.583373e-09</td>\n",
       "      <td>1.119459e-09</td>\n",
       "      <td>8.417808e-10</td>\n",
       "      <td>sad</td>\n",
       "    </tr>\n",
       "    <tr>\n",
       "      <th>19</th>\n",
       "      <td>0.160700</td>\n",
       "      <td>0.773168</td>\n",
       "      <td>0.726807</td>\n",
       "      <td>0.745348</td>\n",
       "      <td>0.760196</td>\n",
       "      <td>0.713710</td>\n",
       "      <td>0.665419</td>\n",
       "      <td>0.704471</td>\n",
       "      <td>0.761550</td>\n",
       "      <td>0.757722</td>\n",
       "      <td>...</td>\n",
       "      <td>1.217232e-04</td>\n",
       "      <td>1.215421e-04</td>\n",
       "      <td>1.228173e-04</td>\n",
       "      <td>1.270483e-04</td>\n",
       "      <td>1.198587e-04</td>\n",
       "      <td>1.180233e-04</td>\n",
       "      <td>1.206723e-04</td>\n",
       "      <td>1.260201e-04</td>\n",
       "      <td>1.262385e-04</td>\n",
       "      <td>sad</td>\n",
       "    </tr>\n",
       "  </tbody>\n",
       "</table>\n",
       "<p>20 rows × 163 columns</p>\n",
       "</div>"
      ],
      "text/plain": [
       "           0         1         2         3         4         5         6  \\\n",
       "0   0.019391  0.596803  0.544192  0.492998  0.503403  0.570076  0.630197   \n",
       "1   0.024156  0.668991  0.646738  0.608743  0.619338  0.660034  0.673722   \n",
       "2   0.013634  0.621171  0.548649  0.495449  0.521441  0.555481  0.576986   \n",
       "3   0.029471  0.746667  0.712394  0.685965  0.712725  0.729634  0.685229   \n",
       "4   0.014141  0.619437  0.621000  0.592190  0.514821  0.508869  0.522655   \n",
       "5   0.021385  0.692037  0.738313  0.712784  0.662127  0.676345  0.629185   \n",
       "6   0.018890  0.552444  0.495755  0.429380  0.439089  0.464212  0.482547   \n",
       "7   0.030005  0.642872  0.588763  0.567606  0.585191  0.592728  0.552924   \n",
       "8   0.016379  0.584681  0.537111  0.526547  0.558224  0.584993  0.491344   \n",
       "9   0.029794  0.697850  0.689083  0.692258  0.717110  0.710994  0.575567   \n",
       "10  0.018482  0.624548  0.582728  0.565759  0.601423  0.610166  0.581384   \n",
       "11  0.024149  0.701831  0.689581  0.680700  0.699056  0.686653  0.606397   \n",
       "12  0.018228  0.681644  0.674913  0.594401  0.559893  0.557776  0.604639   \n",
       "13  0.084598  0.795126  0.779683  0.740958  0.714375  0.701247  0.650454   \n",
       "14  0.008753  0.605180  0.589606  0.628707  0.617921  0.649072  0.657282   \n",
       "15  0.014952  0.711606  0.729108  0.782613  0.774875  0.751780  0.705694   \n",
       "16  0.032258  0.582009  0.523107  0.505912  0.486708  0.537103  0.596452   \n",
       "17  0.136226  0.710721  0.684427  0.686257  0.668332  0.683910  0.680987   \n",
       "18  0.020563  0.564280  0.542875  0.574552  0.559989  0.535818  0.599246   \n",
       "19  0.160700  0.773168  0.726807  0.745348  0.760196  0.713710  0.665419   \n",
       "\n",
       "           7         8         9  ...           153           154  \\\n",
       "0   0.585214  0.543174  0.568560  ...  1.050778e-05  2.997403e-06   \n",
       "1   0.624548  0.591040  0.616446  ...  2.866707e-03  2.924835e-03   \n",
       "2   0.576854  0.583974  0.620989  ...  1.021239e-06  3.780315e-07   \n",
       "3   0.628920  0.637637  0.677569  ...  9.322491e-03  9.879013e-03   \n",
       "4   0.462100  0.449496  0.423172  ...  7.066091e-07  4.583737e-07   \n",
       "5   0.536359  0.526078  0.543309  ...  4.296222e-03  4.001399e-03   \n",
       "6   0.509818  0.541979  0.596347  ...  5.006518e-06  1.366400e-06   \n",
       "7   0.565358  0.614175  0.683998  ...  8.894290e-03  9.198477e-03   \n",
       "8   0.478172  0.473513  0.542705  ...  5.425731e-07  4.925834e-07   \n",
       "9   0.560809  0.563235  0.631592  ...  7.548350e-03  7.806877e-03   \n",
       "10  0.566091  0.561658  0.651267  ...  7.661398e-06  2.016314e-06   \n",
       "11  0.592058  0.581928  0.657732  ...  3.896153e-03  4.045410e-03   \n",
       "12  0.543241  0.515408  0.546627  ...  8.986400e-06  2.109508e-06   \n",
       "13  0.612964  0.614049  0.648583  ...  3.469147e-02  3.558783e-02   \n",
       "14  0.643190  0.677349  0.644371  ...  9.324729e-07  4.319728e-07   \n",
       "15  0.695338  0.764941  0.736221  ...  8.676845e-03  8.595854e-03   \n",
       "16  0.667203  0.664747  0.635995  ...  2.785826e-08  1.175322e-08   \n",
       "17  0.712628  0.712076  0.707220  ...  7.804396e-05  7.718589e-05   \n",
       "18  0.687607  0.697337  0.651694  ...  1.172998e-08  9.343029e-09   \n",
       "19  0.704471  0.761550  0.757722  ...  1.217232e-04  1.215421e-04   \n",
       "\n",
       "             155           156           157           158           159  \\\n",
       "0   7.111289e-07  4.916752e-07  4.868759e-07  4.599259e-07  3.758941e-07   \n",
       "1   2.777213e-03  2.809680e-03  2.862503e-03  2.843573e-03  2.783918e-03   \n",
       "2   2.230971e-07  2.112139e-07  2.119731e-07  2.118027e-07  1.974219e-07   \n",
       "3   9.975285e-03  9.913878e-03  9.750677e-03  9.931363e-03  1.002722e-02   \n",
       "4   3.990423e-07  3.878209e-07  3.711104e-07  3.249636e-07  2.347695e-07   \n",
       "5   4.060103e-03  4.238190e-03  4.278746e-03  4.005999e-03  4.068985e-03   \n",
       "6   4.894240e-07  4.122934e-07  4.078885e-07  3.792769e-07  2.874300e-07   \n",
       "7   8.969498e-03  9.037284e-03  8.991107e-03  9.140561e-03  9.392547e-03   \n",
       "8   4.777244e-07  4.809289e-07  4.986692e-07  5.305406e-07  5.345537e-07   \n",
       "9   7.407048e-03  7.683769e-03  8.308686e-03  7.811601e-03  7.494946e-03   \n",
       "10  7.326626e-07  6.272078e-07  6.476390e-07  6.921433e-07  6.946865e-07   \n",
       "11  3.879053e-03  3.688591e-03  3.555380e-03  3.788543e-03  3.677820e-03   \n",
       "12  9.156983e-07  8.009133e-07  7.915205e-07  7.287501e-07  6.134159e-07   \n",
       "13  3.678251e-02  3.705699e-02  3.511779e-02  3.459098e-02  3.697784e-02   \n",
       "14  3.008138e-07  2.817518e-07  2.797964e-07  2.731469e-07  2.488117e-07   \n",
       "15  8.821184e-03  8.846262e-03  8.845509e-03  8.295662e-03  8.611360e-03   \n",
       "16  8.263521e-09  7.208664e-09  6.900187e-09  4.516946e-09  1.634280e-09   \n",
       "17  7.933449e-05  7.905799e-05  8.332205e-05  8.188266e-05  8.119144e-05   \n",
       "18  8.909477e-09  8.561239e-09  7.825321e-09  5.632772e-09  2.583373e-09   \n",
       "19  1.228173e-04  1.270483e-04  1.198587e-04  1.180233e-04  1.206723e-04   \n",
       "\n",
       "             160           161    labels  \n",
       "0   2.814717e-07  2.338273e-07       sad  \n",
       "1   2.765235e-03  2.826194e-03       sad  \n",
       "2   1.748438e-07  1.587371e-07       sad  \n",
       "3   9.768168e-03  9.604855e-03       sad  \n",
       "4   1.518778e-07  1.158051e-07   neutral  \n",
       "5   4.126590e-03  4.347859e-03   neutral  \n",
       "6   1.990649e-07  1.599204e-07  surprise  \n",
       "7   9.042820e-03  8.775056e-03  surprise  \n",
       "8   5.012371e-07  4.653993e-07   neutral  \n",
       "9   7.810919e-03  7.454882e-03   neutral  \n",
       "10  6.521534e-07  6.062829e-07   neutral  \n",
       "11  3.791605e-03  3.726668e-03   neutral  \n",
       "12  5.287126e-07  4.862223e-07   neutral  \n",
       "13  3.552419e-02  3.750168e-02   neutral  \n",
       "14  2.149662e-07  1.931690e-07       sad  \n",
       "15  8.441459e-03  8.665966e-03       sad  \n",
       "16  3.570155e-10  2.082138e-10       sad  \n",
       "17  7.927316e-05  8.011225e-05       sad  \n",
       "18  1.119459e-09  8.417808e-10       sad  \n",
       "19  1.260201e-04  1.262385e-04       sad  \n",
       "\n",
       "[20 rows x 163 columns]"
      ]
     },
     "execution_count": 32,
     "metadata": {},
     "output_type": "execute_result"
    }
   ],
   "source": [
    "Features_Augmentation = pd.DataFrame(X)\n",
    "Features_Augmentation['labels'] = Y\n",
    "Features_Augmentation.to_csv('features_augmentation.csv', index=False)\n",
    "Features_Augmentation.head(20)"
   ]
  },
  {
   "cell_type": "code",
   "execution_count": null,
   "id": "f8c23066",
   "metadata": {},
   "outputs": [],
   "source": []
  }
 ],
 "metadata": {
  "kernel_info": {
   "name": "python38-azureml-pt-tf"
  },
  "kernelspec": {
   "display_name": "Python 3 (ipykernel)",
   "language": "python",
   "name": "python3"
  },
  "language_info": {
   "codemirror_mode": {
    "name": "ipython",
    "version": 3
   },
   "file_extension": ".py",
   "mimetype": "text/x-python",
   "name": "python",
   "nbconvert_exporter": "python",
   "pygments_lexer": "ipython3",
   "version": "3.9.12"
  },
  "microsoft": {
   "host": {
    "AzureML": {
     "notebookHasBeenCompleted": true
    }
   }
  },
  "nteract": {
   "version": "nteract-front-end@1.0.0"
  },
  "vscode": {
   "interpreter": {
    "hash": "40d3a090f54c6569ab1632332b64b2c03c39dcf918b08424e98f38b5ae0af88f"
   }
  }
 },
 "nbformat": 4,
 "nbformat_minor": 5
}
